{
 "cells": [
  {
   "cell_type": "markdown",
   "metadata": {},
   "source": [
    "# Load Data"
   ]
  },
  {
   "cell_type": "code",
   "execution_count": 1,
   "metadata": {},
   "outputs": [
    {
     "name": "stderr",
     "output_type": "stream",
     "text": [
      "/Users/shiwang/Desktop/Personal/test_API/env/lib/python3.7/site-packages/lightgbm/__init__.py:46: UserWarning: Starting from version 2.2.1, the library file in distribution wheels for macOS is built by the Apple Clang (Xcode_8.3.3) compiler.\n",
      "This means that in case of installing LightGBM from PyPI via the ``pip install lightgbm`` command, you don't need to install the gcc compiler anymore.\n",
      "Instead of that, you need to install the OpenMP library, which is required for running LightGBM on the system with the Apple Clang compiler.\n",
      "You can install the OpenMP library by the following command: ``brew install libomp``.\n",
      "  \"You can install the OpenMP library by the following command: ``brew install libomp``.\", UserWarning)\n"
     ]
    }
   ],
   "source": [
    "import numpy as np\n",
    "import csv\n",
    "import io\n",
    "from os import mkdir\n",
    "import json\n",
    "import datetime\n",
    "import pandas as pd \n",
    "from datetime import timedelta\n",
    "import pickle\n",
    "import seaborn as sns\n",
    "from sklearn.model_selection import train_test_split\n",
    "from sklearn.metrics import f1_score, confusion_matrix\n",
    "from sklearn import preprocessing\n",
    "import lightgbm as lgb\n",
    "import matplotlib.pyplot as plt\n",
    "from math import radians, sin, asin, sqrt, atan2\n",
    "from util.plot_funcs import *\n",
    "from random import uniform\n",
    "from imblearn.over_sampling import RandomOverSampler\n",
    "%load_ext autoreload\n",
    "%autoreload 2\n",
    "import warnings\n",
    "pd.set_option('display.max_columns', 500)\n",
    "pd.set_option('display.max_rows', 500)\n",
    "warnings.filterwarnings('ignore')"
   ]
  },
  {
   "cell_type": "code",
   "execution_count": 2,
   "metadata": {},
   "outputs": [],
   "source": [
    "train_queries = pd.read_csv('./data_set_phase1/train_queries.csv')\n",
    "train_plans = pd.read_csv('./data_set_phase1/train_plans.csv')\n",
    "train_clicks = pd.read_csv('./data_set_phase1/train_clicks.csv')\n",
    "test_queries = pd.read_csv('./data_set_phase1/test_queries.csv')\n",
    "test_plans = pd.read_csv('./data_set_phase1/test_plans.csv')\n",
    "profiles = pd.read_csv('./data_set_phase1/profiles.csv')\n",
    "weather = json.load(open('./data_set_phase1/weather.json'))"
   ]
  },
  {
   "cell_type": "code",
   "execution_count": 3,
   "metadata": {},
   "outputs": [
    {
     "data": {
      "text/html": [
       "<div>\n",
       "<style scoped>\n",
       "    .dataframe tbody tr th:only-of-type {\n",
       "        vertical-align: middle;\n",
       "    }\n",
       "\n",
       "    .dataframe tbody tr th {\n",
       "        vertical-align: top;\n",
       "    }\n",
       "\n",
       "    .dataframe thead th {\n",
       "        text-align: right;\n",
       "    }\n",
       "</style>\n",
       "<table border=\"1\" class=\"dataframe\">\n",
       "  <thead>\n",
       "    <tr style=\"text-align: right;\">\n",
       "      <th></th>\n",
       "      <th>sid</th>\n",
       "      <th>click_time</th>\n",
       "      <th>click_mode</th>\n",
       "    </tr>\n",
       "  </thead>\n",
       "  <tbody>\n",
       "    <tr>\n",
       "      <th>0</th>\n",
       "      <td>2848914</td>\n",
       "      <td>2018-11-17 18:42:17</td>\n",
       "      <td>1</td>\n",
       "    </tr>\n",
       "    <tr>\n",
       "      <th>1</th>\n",
       "      <td>2629085</td>\n",
       "      <td>2018-10-12 16:28:13</td>\n",
       "      <td>3</td>\n",
       "    </tr>\n",
       "    <tr>\n",
       "      <th>2</th>\n",
       "      <td>602598</td>\n",
       "      <td>2018-11-11 16:38:42</td>\n",
       "      <td>2</td>\n",
       "    </tr>\n",
       "  </tbody>\n",
       "</table>\n",
       "</div>"
      ],
      "text/plain": [
       "       sid           click_time  click_mode\n",
       "0  2848914  2018-11-17 18:42:17           1\n",
       "1  2629085  2018-10-12 16:28:13           3\n",
       "2   602598  2018-11-11 16:38:42           2"
      ]
     },
     "execution_count": 3,
     "metadata": {},
     "output_type": "execute_result"
    }
   ],
   "source": [
    "train_clicks.head(3)"
   ]
  },
  {
   "cell_type": "code",
   "execution_count": 4,
   "metadata": {},
   "outputs": [
    {
     "data": {
      "text/html": [
       "<div>\n",
       "<style scoped>\n",
       "    .dataframe tbody tr th:only-of-type {\n",
       "        vertical-align: middle;\n",
       "    }\n",
       "\n",
       "    .dataframe tbody tr th {\n",
       "        vertical-align: top;\n",
       "    }\n",
       "\n",
       "    .dataframe thead th {\n",
       "        text-align: right;\n",
       "    }\n",
       "</style>\n",
       "<table border=\"1\" class=\"dataframe\">\n",
       "  <thead>\n",
       "    <tr style=\"text-align: right;\">\n",
       "      <th></th>\n",
       "      <th>pid</th>\n",
       "      <th>p0</th>\n",
       "      <th>p1</th>\n",
       "      <th>p2</th>\n",
       "      <th>p3</th>\n",
       "      <th>p4</th>\n",
       "      <th>p5</th>\n",
       "      <th>p6</th>\n",
       "      <th>p7</th>\n",
       "      <th>p8</th>\n",
       "      <th>p9</th>\n",
       "      <th>p10</th>\n",
       "      <th>p11</th>\n",
       "      <th>p12</th>\n",
       "      <th>p13</th>\n",
       "      <th>p14</th>\n",
       "      <th>p15</th>\n",
       "      <th>p16</th>\n",
       "      <th>p17</th>\n",
       "      <th>p18</th>\n",
       "      <th>p19</th>\n",
       "      <th>p20</th>\n",
       "      <th>p21</th>\n",
       "      <th>p22</th>\n",
       "      <th>p23</th>\n",
       "      <th>p24</th>\n",
       "      <th>p25</th>\n",
       "      <th>p26</th>\n",
       "      <th>p27</th>\n",
       "      <th>p28</th>\n",
       "      <th>p29</th>\n",
       "      <th>p30</th>\n",
       "      <th>p31</th>\n",
       "      <th>p32</th>\n",
       "      <th>p33</th>\n",
       "      <th>p34</th>\n",
       "      <th>p35</th>\n",
       "      <th>p36</th>\n",
       "      <th>p37</th>\n",
       "      <th>p38</th>\n",
       "      <th>p39</th>\n",
       "      <th>p40</th>\n",
       "      <th>p41</th>\n",
       "      <th>p42</th>\n",
       "      <th>p43</th>\n",
       "      <th>p44</th>\n",
       "      <th>p45</th>\n",
       "      <th>p46</th>\n",
       "      <th>p47</th>\n",
       "      <th>p48</th>\n",
       "      <th>p49</th>\n",
       "      <th>p50</th>\n",
       "      <th>p51</th>\n",
       "      <th>p52</th>\n",
       "      <th>p53</th>\n",
       "      <th>p54</th>\n",
       "      <th>p55</th>\n",
       "      <th>p56</th>\n",
       "      <th>p57</th>\n",
       "      <th>p58</th>\n",
       "      <th>p59</th>\n",
       "      <th>p60</th>\n",
       "      <th>p61</th>\n",
       "      <th>p62</th>\n",
       "      <th>p63</th>\n",
       "      <th>p64</th>\n",
       "      <th>p65</th>\n",
       "    </tr>\n",
       "  </thead>\n",
       "  <tbody>\n",
       "    <tr>\n",
       "      <th>0</th>\n",
       "      <td>196356</td>\n",
       "      <td>1.0</td>\n",
       "      <td>0.0</td>\n",
       "      <td>0.0</td>\n",
       "      <td>0.0</td>\n",
       "      <td>0.0</td>\n",
       "      <td>0.0</td>\n",
       "      <td>0.0</td>\n",
       "      <td>0.0</td>\n",
       "      <td>1.0</td>\n",
       "      <td>0.0</td>\n",
       "      <td>0.0</td>\n",
       "      <td>0.0</td>\n",
       "      <td>0.0</td>\n",
       "      <td>0.0</td>\n",
       "      <td>0.0</td>\n",
       "      <td>0.0</td>\n",
       "      <td>0.0</td>\n",
       "      <td>0.0</td>\n",
       "      <td>0.0</td>\n",
       "      <td>0.0</td>\n",
       "      <td>0.0</td>\n",
       "      <td>0.0</td>\n",
       "      <td>0.0</td>\n",
       "      <td>0.0</td>\n",
       "      <td>0.0</td>\n",
       "      <td>0.0</td>\n",
       "      <td>0.0</td>\n",
       "      <td>0.0</td>\n",
       "      <td>1.0</td>\n",
       "      <td>0.0</td>\n",
       "      <td>1.0</td>\n",
       "      <td>0.0</td>\n",
       "      <td>0.0</td>\n",
       "      <td>1.0</td>\n",
       "      <td>0.0</td>\n",
       "      <td>0.0</td>\n",
       "      <td>0.0</td>\n",
       "      <td>1.0</td>\n",
       "      <td>0.0</td>\n",
       "      <td>0.0</td>\n",
       "      <td>0.0</td>\n",
       "      <td>0.0</td>\n",
       "      <td>0.0</td>\n",
       "      <td>0.0</td>\n",
       "      <td>0.0</td>\n",
       "      <td>0.0</td>\n",
       "      <td>0.0</td>\n",
       "      <td>0.0</td>\n",
       "      <td>1.0</td>\n",
       "      <td>0.0</td>\n",
       "      <td>0.0</td>\n",
       "      <td>0.0</td>\n",
       "      <td>0.0</td>\n",
       "      <td>0.0</td>\n",
       "      <td>0.0</td>\n",
       "      <td>0.0</td>\n",
       "      <td>0.0</td>\n",
       "      <td>0.0</td>\n",
       "      <td>0.0</td>\n",
       "      <td>0.0</td>\n",
       "      <td>0.0</td>\n",
       "      <td>0.0</td>\n",
       "      <td>0.0</td>\n",
       "      <td>0.0</td>\n",
       "      <td>0.0</td>\n",
       "      <td>0.0</td>\n",
       "    </tr>\n",
       "    <tr>\n",
       "      <th>1</th>\n",
       "      <td>204083</td>\n",
       "      <td>1.0</td>\n",
       "      <td>0.0</td>\n",
       "      <td>0.0</td>\n",
       "      <td>0.0</td>\n",
       "      <td>0.0</td>\n",
       "      <td>0.0</td>\n",
       "      <td>0.0</td>\n",
       "      <td>1.0</td>\n",
       "      <td>0.0</td>\n",
       "      <td>0.0</td>\n",
       "      <td>0.0</td>\n",
       "      <td>0.0</td>\n",
       "      <td>0.0</td>\n",
       "      <td>0.0</td>\n",
       "      <td>0.0</td>\n",
       "      <td>0.0</td>\n",
       "      <td>0.0</td>\n",
       "      <td>0.0</td>\n",
       "      <td>0.0</td>\n",
       "      <td>0.0</td>\n",
       "      <td>0.0</td>\n",
       "      <td>0.0</td>\n",
       "      <td>0.0</td>\n",
       "      <td>0.0</td>\n",
       "      <td>0.0</td>\n",
       "      <td>0.0</td>\n",
       "      <td>1.0</td>\n",
       "      <td>0.0</td>\n",
       "      <td>0.0</td>\n",
       "      <td>0.0</td>\n",
       "      <td>1.0</td>\n",
       "      <td>0.0</td>\n",
       "      <td>0.0</td>\n",
       "      <td>1.0</td>\n",
       "      <td>0.0</td>\n",
       "      <td>0.0</td>\n",
       "      <td>1.0</td>\n",
       "      <td>0.0</td>\n",
       "      <td>0.0</td>\n",
       "      <td>0.0</td>\n",
       "      <td>0.0</td>\n",
       "      <td>0.0</td>\n",
       "      <td>0.0</td>\n",
       "      <td>0.0</td>\n",
       "      <td>0.0</td>\n",
       "      <td>0.0</td>\n",
       "      <td>0.0</td>\n",
       "      <td>0.0</td>\n",
       "      <td>0.0</td>\n",
       "      <td>0.0</td>\n",
       "      <td>0.0</td>\n",
       "      <td>0.0</td>\n",
       "      <td>0.0</td>\n",
       "      <td>0.0</td>\n",
       "      <td>0.0</td>\n",
       "      <td>0.0</td>\n",
       "      <td>0.0</td>\n",
       "      <td>0.0</td>\n",
       "      <td>0.0</td>\n",
       "      <td>1.0</td>\n",
       "      <td>0.0</td>\n",
       "      <td>0.0</td>\n",
       "      <td>0.0</td>\n",
       "      <td>1.0</td>\n",
       "      <td>0.0</td>\n",
       "      <td>0.0</td>\n",
       "    </tr>\n",
       "    <tr>\n",
       "      <th>2</th>\n",
       "      <td>170667</td>\n",
       "      <td>0.0</td>\n",
       "      <td>0.0</td>\n",
       "      <td>1.0</td>\n",
       "      <td>0.0</td>\n",
       "      <td>0.0</td>\n",
       "      <td>0.0</td>\n",
       "      <td>0.0</td>\n",
       "      <td>1.0</td>\n",
       "      <td>0.0</td>\n",
       "      <td>0.0</td>\n",
       "      <td>0.0</td>\n",
       "      <td>0.0</td>\n",
       "      <td>0.0</td>\n",
       "      <td>0.0</td>\n",
       "      <td>0.0</td>\n",
       "      <td>0.0</td>\n",
       "      <td>0.0</td>\n",
       "      <td>0.0</td>\n",
       "      <td>0.0</td>\n",
       "      <td>0.0</td>\n",
       "      <td>0.0</td>\n",
       "      <td>0.0</td>\n",
       "      <td>0.0</td>\n",
       "      <td>0.0</td>\n",
       "      <td>0.0</td>\n",
       "      <td>0.0</td>\n",
       "      <td>1.0</td>\n",
       "      <td>0.0</td>\n",
       "      <td>0.0</td>\n",
       "      <td>0.0</td>\n",
       "      <td>1.0</td>\n",
       "      <td>0.0</td>\n",
       "      <td>1.0</td>\n",
       "      <td>0.0</td>\n",
       "      <td>0.0</td>\n",
       "      <td>1.0</td>\n",
       "      <td>0.0</td>\n",
       "      <td>0.0</td>\n",
       "      <td>0.0</td>\n",
       "      <td>0.0</td>\n",
       "      <td>0.0</td>\n",
       "      <td>0.0</td>\n",
       "      <td>1.0</td>\n",
       "      <td>0.0</td>\n",
       "      <td>0.0</td>\n",
       "      <td>0.0</td>\n",
       "      <td>0.0</td>\n",
       "      <td>0.0</td>\n",
       "      <td>0.0</td>\n",
       "      <td>0.0</td>\n",
       "      <td>0.0</td>\n",
       "      <td>0.0</td>\n",
       "      <td>0.0</td>\n",
       "      <td>0.0</td>\n",
       "      <td>0.0</td>\n",
       "      <td>0.0</td>\n",
       "      <td>0.0</td>\n",
       "      <td>0.0</td>\n",
       "      <td>0.0</td>\n",
       "      <td>0.0</td>\n",
       "      <td>0.0</td>\n",
       "      <td>0.0</td>\n",
       "      <td>1.0</td>\n",
       "      <td>0.0</td>\n",
       "      <td>0.0</td>\n",
       "      <td>0.0</td>\n",
       "    </tr>\n",
       "  </tbody>\n",
       "</table>\n",
       "</div>"
      ],
      "text/plain": [
       "      pid   p0   p1   p2   p3   p4   p5   p6   p7   p8   p9  p10  p11  p12  \\\n",
       "0  196356  1.0  0.0  0.0  0.0  0.0  0.0  0.0  0.0  1.0  0.0  0.0  0.0  0.0   \n",
       "1  204083  1.0  0.0  0.0  0.0  0.0  0.0  0.0  1.0  0.0  0.0  0.0  0.0  0.0   \n",
       "2  170667  0.0  0.0  1.0  0.0  0.0  0.0  0.0  1.0  0.0  0.0  0.0  0.0  0.0   \n",
       "\n",
       "   p13  p14  p15  p16  p17  p18  p19  p20  p21  p22  p23  p24  p25  p26  p27  \\\n",
       "0  0.0  0.0  0.0  0.0  0.0  0.0  0.0  0.0  0.0  0.0  0.0  0.0  0.0  0.0  0.0   \n",
       "1  0.0  0.0  0.0  0.0  0.0  0.0  0.0  0.0  0.0  0.0  0.0  0.0  0.0  1.0  0.0   \n",
       "2  0.0  0.0  0.0  0.0  0.0  0.0  0.0  0.0  0.0  0.0  0.0  0.0  0.0  1.0  0.0   \n",
       "\n",
       "   p28  p29  p30  p31  p32  p33  p34  p35  p36  p37  p38  p39  p40  p41  p42  \\\n",
       "0  1.0  0.0  1.0  0.0  0.0  1.0  0.0  0.0  0.0  1.0  0.0  0.0  0.0  0.0  0.0   \n",
       "1  0.0  0.0  1.0  0.0  0.0  1.0  0.0  0.0  1.0  0.0  0.0  0.0  0.0  0.0  0.0   \n",
       "2  0.0  0.0  1.0  0.0  1.0  0.0  0.0  1.0  0.0  0.0  0.0  0.0  0.0  0.0  1.0   \n",
       "\n",
       "   p43  p44  p45  p46  p47  p48  p49  p50  p51  p52  p53  p54  p55  p56  p57  \\\n",
       "0  0.0  0.0  0.0  0.0  0.0  1.0  0.0  0.0  0.0  0.0  0.0  0.0  0.0  0.0  0.0   \n",
       "1  0.0  0.0  0.0  0.0  0.0  0.0  0.0  0.0  0.0  0.0  0.0  0.0  0.0  0.0  0.0   \n",
       "2  0.0  0.0  0.0  0.0  0.0  0.0  0.0  0.0  0.0  0.0  0.0  0.0  0.0  0.0  0.0   \n",
       "\n",
       "   p58  p59  p60  p61  p62  p63  p64  p65  \n",
       "0  0.0  0.0  0.0  0.0  0.0  0.0  0.0  0.0  \n",
       "1  0.0  1.0  0.0  0.0  0.0  1.0  0.0  0.0  \n",
       "2  0.0  0.0  0.0  0.0  1.0  0.0  0.0  0.0  "
      ]
     },
     "execution_count": 4,
     "metadata": {},
     "output_type": "execute_result"
    }
   ],
   "source": [
    "profiles.head(3)"
   ]
  },
  {
   "cell_type": "code",
   "execution_count": 5,
   "metadata": {},
   "outputs": [
    {
     "data": {
      "text/html": [
       "<div>\n",
       "<style scoped>\n",
       "    .dataframe tbody tr th:only-of-type {\n",
       "        vertical-align: middle;\n",
       "    }\n",
       "\n",
       "    .dataframe tbody tr th {\n",
       "        vertical-align: top;\n",
       "    }\n",
       "\n",
       "    .dataframe thead th {\n",
       "        text-align: right;\n",
       "    }\n",
       "</style>\n",
       "<table border=\"1\" class=\"dataframe\">\n",
       "  <thead>\n",
       "    <tr style=\"text-align: right;\">\n",
       "      <th></th>\n",
       "      <th>sid</th>\n",
       "      <th>pid</th>\n",
       "      <th>req_time</th>\n",
       "      <th>o</th>\n",
       "      <th>d</th>\n",
       "    </tr>\n",
       "  </thead>\n",
       "  <tbody>\n",
       "    <tr>\n",
       "      <th>0</th>\n",
       "      <td>3000821</td>\n",
       "      <td>NaN</td>\n",
       "      <td>2018-11-02 17:54:30</td>\n",
       "      <td>116.29,39.97</td>\n",
       "      <td>116.32,39.96</td>\n",
       "    </tr>\n",
       "    <tr>\n",
       "      <th>1</th>\n",
       "      <td>3085857</td>\n",
       "      <td>210736.0</td>\n",
       "      <td>2018-11-16 10:53:10</td>\n",
       "      <td>116.39,39.84</td>\n",
       "      <td>116.33,39.79</td>\n",
       "    </tr>\n",
       "    <tr>\n",
       "      <th>2</th>\n",
       "      <td>2944522</td>\n",
       "      <td>NaN</td>\n",
       "      <td>2018-10-06 10:33:58</td>\n",
       "      <td>116.31,39.93</td>\n",
       "      <td>116.27,40.00</td>\n",
       "    </tr>\n",
       "  </tbody>\n",
       "</table>\n",
       "</div>"
      ],
      "text/plain": [
       "       sid       pid             req_time             o             d\n",
       "0  3000821       NaN  2018-11-02 17:54:30  116.29,39.97  116.32,39.96\n",
       "1  3085857  210736.0  2018-11-16 10:53:10  116.39,39.84  116.33,39.79\n",
       "2  2944522       NaN  2018-10-06 10:33:58  116.31,39.93  116.27,40.00"
      ]
     },
     "execution_count": 5,
     "metadata": {},
     "output_type": "execute_result"
    }
   ],
   "source": [
    "train_queries.head(3)"
   ]
  },
  {
   "cell_type": "code",
   "execution_count": 6,
   "metadata": {},
   "outputs": [
    {
     "data": {
      "text/html": [
       "<div>\n",
       "<style scoped>\n",
       "    .dataframe tbody tr th:only-of-type {\n",
       "        vertical-align: middle;\n",
       "    }\n",
       "\n",
       "    .dataframe tbody tr th {\n",
       "        vertical-align: top;\n",
       "    }\n",
       "\n",
       "    .dataframe thead th {\n",
       "        text-align: right;\n",
       "    }\n",
       "</style>\n",
       "<table border=\"1\" class=\"dataframe\">\n",
       "  <thead>\n",
       "    <tr style=\"text-align: right;\">\n",
       "      <th></th>\n",
       "      <th>sid</th>\n",
       "      <th>plan_time</th>\n",
       "      <th>plans</th>\n",
       "    </tr>\n",
       "  </thead>\n",
       "  <tbody>\n",
       "    <tr>\n",
       "      <th>0</th>\n",
       "      <td>1709112</td>\n",
       "      <td>2018-11-04 11:45:04</td>\n",
       "      <td>[{\"distance\": 32303, \"price\": 600, \"eta\": 5087...</td>\n",
       "    </tr>\n",
       "    <tr>\n",
       "      <th>1</th>\n",
       "      <td>3327773</td>\n",
       "      <td>2018-10-16 19:09:29</td>\n",
       "      <td>[{\"distance\": 3427, \"price\": 300, \"eta\": 627, ...</td>\n",
       "    </tr>\n",
       "    <tr>\n",
       "      <th>2</th>\n",
       "      <td>3285959</td>\n",
       "      <td>2018-11-25 15:05:22</td>\n",
       "      <td>[{\"distance\": 36234, \"price\": 1100, \"eta\": 931...</td>\n",
       "    </tr>\n",
       "  </tbody>\n",
       "</table>\n",
       "</div>"
      ],
      "text/plain": [
       "       sid            plan_time  \\\n",
       "0  1709112  2018-11-04 11:45:04   \n",
       "1  3327773  2018-10-16 19:09:29   \n",
       "2  3285959  2018-11-25 15:05:22   \n",
       "\n",
       "                                               plans  \n",
       "0  [{\"distance\": 32303, \"price\": 600, \"eta\": 5087...  \n",
       "1  [{\"distance\": 3427, \"price\": 300, \"eta\": 627, ...  \n",
       "2  [{\"distance\": 36234, \"price\": 1100, \"eta\": 931...  "
      ]
     },
     "execution_count": 6,
     "metadata": {},
     "output_type": "execute_result"
    }
   ],
   "source": [
    "train_plans.head(3)"
   ]
  },
  {
   "cell_type": "code",
   "execution_count": 7,
   "metadata": {},
   "outputs": [],
   "source": [
    "with open('./data_set_phase1/weather.json', 'r') as f:\n",
    "    weather_dict = json.load(f)"
   ]
  },
  {
   "cell_type": "markdown",
   "metadata": {},
   "source": [
    "# Pre-processing"
   ]
  },
  {
   "cell_type": "code",
   "execution_count": 23,
   "metadata": {},
   "outputs": [],
   "source": [
    "def pre_process_queries(X):\n",
    "    X['pid'] = X['pid'].fillna(0)\n",
    "    X['req_time'] = pd.to_datetime(X['req_time'])\n",
    "    X['dow'] = X['req_time'].apply(lambda x: x.weekday())\n",
    "    X['hr'] = X['req_time'].apply(lambda x: x.hour)\n",
    "    X['min'] = X['req_time'].apply(lambda x: x.minute)\n",
    "    X['O_lon'] = X['o'].apply(lambda x: float(x.split(',')[0]))\n",
    "    X['O_lat'] = X['o'].apply(lambda x: float(x.split(',')[1]))\n",
    "    X['D_lon'] = X['d'].apply(lambda x: float(x.split(',')[0]))\n",
    "    X['D_lat'] = X['d'].apply(lambda x: float(x.split(',')[1]))\n",
    "    X['date'] =  X['req_time'].apply(lambda x:x.date())\n",
    "    \n",
    "    del X['o']\n",
    "    del X['d']\n",
    "    del X['req_time']\n",
    "    \n",
    "    return X"
   ]
  },
  {
   "cell_type": "code",
   "execution_count": 24,
   "metadata": {},
   "outputs": [
    {
     "name": "stdout",
     "output_type": "stream",
     "text": [
      "CPU times: user 7.07 s, sys: 138 ms, total: 7.21 s\n",
      "Wall time: 7.21 s\n"
     ]
    }
   ],
   "source": [
    "%%time\n",
    "train_queries = pre_process_queries(train_queries)\n",
    "test_queries = pre_process_queries(test_queries)"
   ]
  },
  {
   "cell_type": "code",
   "execution_count": 25,
   "metadata": {},
   "outputs": [],
   "source": [
    "def pre_process_plan(X):\n",
    "    try:\n",
    "        X['plans'] = X['plans'].apply(lambda x: eval(x))\n",
    "    except:\n",
    "        pass\n",
    "    \n",
    "    outputs = []\n",
    "    for _, row in X.iterrows():\n",
    "        sid = row['sid']\n",
    "        rank = 0\n",
    "        for plan in row['plans']:\n",
    "            outputs.append([sid, \n",
    "                            plan['distance'], \n",
    "                            plan['price'], \n",
    "                            plan['eta'], \n",
    "                            plan['transport_mode'],\n",
    "                            rank])\n",
    "            rank += 1\n",
    "    \n",
    "    output = pd.DataFrame(outputs, columns = ['sid','distance', 'price', 'eta','transport_mode', 'rank'])  \n",
    "    output['price'] = output['price'].replace('',-1)\n",
    "    output['distance'] = output['distance'].replace('',-1)\n",
    "    output['eta'] = output['eta'].replace('',-1)\n",
    "    return output"
   ]
  },
  {
   "cell_type": "code",
   "execution_count": 26,
   "metadata": {},
   "outputs": [
    {
     "name": "stdout",
     "output_type": "stream",
     "text": [
      "CPU times: user 1min 28s, sys: 913 ms, total: 1min 29s\n",
      "Wall time: 1min 29s\n"
     ]
    }
   ],
   "source": [
    "%%time\n",
    "train_plans_ = pre_process_plan(train_plans)\n",
    "test_plans_  = pre_process_plan(test_plans)"
   ]
  },
  {
   "cell_type": "code",
   "execution_count": 27,
   "metadata": {},
   "outputs": [],
   "source": [
    "train_plans_.drop_duplicates(subset = ['sid','transport_mode'], inplace=True)\n",
    "test_plans_.drop_duplicates(subset = ['sid','transport_mode'], inplace=True)"
   ]
  },
  {
   "cell_type": "code",
   "execution_count": 28,
   "metadata": {},
   "outputs": [
    {
     "name": "stdout",
     "output_type": "stream",
     "text": [
      "CPU times: user 29 s, sys: 44.1 ms, total: 29 s\n",
      "Wall time: 29 s\n"
     ]
    }
   ],
   "source": [
    "%%time\n",
    "profiles['profile'] = profiles.apply(lambda row: [x + 1 for x in range(66) if row['p'+str(x)] == 1], axis = 1)\n",
    "profiles = profiles.append({'pid': 0 , 'profile' : []} , ignore_index=True).fillna(0)"
   ]
  },
  {
   "cell_type": "code",
   "execution_count": 29,
   "metadata": {},
   "outputs": [],
   "source": [
    "train_clicks = train_clicks[['sid','click_mode']]\n",
    "train_clicks['label'] = 1"
   ]
  },
  {
   "cell_type": "markdown",
   "metadata": {},
   "source": [
    "# Merge 3 tables"
   ]
  },
  {
   "cell_type": "code",
   "execution_count": 30,
   "metadata": {},
   "outputs": [],
   "source": [
    "# train = train_plans_.merge(train_queries, on ='sid')\\\n",
    "#             .merge(profiles, on = 'pid')\\\n",
    "#             .merge(train_clicks[['sid']], on = 'sid')\\ \n",
    "#             .merge(train_clicks, left_on = ['sid', 'transport_mode'], \n",
    "#                    right_on = ['sid', 'click_mode'], how = 'left')\n",
    "# del train['click_mode']\n",
    "# train['label'] = train['label'].fillna(0)"
   ]
  },
  {
   "cell_type": "code",
   "execution_count": 31,
   "metadata": {},
   "outputs": [],
   "source": [
    "train = train_plans_.merge(train_queries, on ='sid')\\\n",
    "            .merge(profiles, on = 'pid')\\\n",
    "            .merge(train_clicks, left_on = ['sid', 'transport_mode'], \n",
    "                   right_on = ['sid', 'click_mode'], how = 'left')\n",
    "del train['click_mode']\n",
    "train['label'] = train['label'].fillna(0)"
   ]
  },
  {
   "cell_type": "code",
   "execution_count": 32,
   "metadata": {},
   "outputs": [],
   "source": [
    "test = test_plans_.merge(test_queries, on ='sid').merge(profiles, on = 'pid')"
   ]
  },
  {
   "cell_type": "markdown",
   "metadata": {},
   "source": [
    "**Deal with queries without plans**"
   ]
  },
  {
   "cell_type": "code",
   "execution_count": 33,
   "metadata": {},
   "outputs": [
    {
     "data": {
      "text/plain": [
       "(500000, 491054, 453336)"
      ]
     },
     "execution_count": 33,
     "metadata": {},
     "output_type": "execute_result"
    }
   ],
   "source": [
    "len(train_queries), len(train_plans),len(train_clicks),"
   ]
  },
  {
   "cell_type": "code",
   "execution_count": 34,
   "metadata": {},
   "outputs": [],
   "source": [
    "l1 = set(train_queries['sid'])\n",
    "l2 = set(train_plans['sid'])\n",
    "l3 = set(train_clicks['sid'])"
   ]
  },
  {
   "cell_type": "code",
   "execution_count": 35,
   "metadata": {},
   "outputs": [
    {
     "data": {
      "text/plain": [
       "(500000, 491054, 453336)"
      ]
     },
     "execution_count": 35,
     "metadata": {},
     "output_type": "execute_result"
    }
   ],
   "source": [
    "len(l1), len(l2), len(l3)"
   ]
  },
  {
   "cell_type": "code",
   "execution_count": 36,
   "metadata": {},
   "outputs": [],
   "source": [
    "plan_no_click_sid = [x for x in l1 if (x not in l3) and (x in l2)]"
   ]
  },
  {
   "cell_type": "code",
   "execution_count": 37,
   "metadata": {},
   "outputs": [
    {
     "data": {
      "text/plain": [
       "37718"
      ]
     },
     "execution_count": 37,
     "metadata": {},
     "output_type": "execute_result"
    }
   ],
   "source": [
    "len(plan_no_click_sid)"
   ]
  },
  {
   "cell_type": "markdown",
   "metadata": {},
   "source": [
    "*Assume click_mode for these queries to be first one*"
   ]
  },
  {
   "cell_type": "code",
   "execution_count": 38,
   "metadata": {},
   "outputs": [],
   "source": [
    "train.loc[(train['sid'].isin(plan_no_click_sid)) & (train['rank'] == 0), 'label'] = 1"
   ]
  },
  {
   "cell_type": "code",
   "execution_count": 39,
   "metadata": {},
   "outputs": [
    {
     "data": {
      "text/plain": [
       "491054"
      ]
     },
     "execution_count": 39,
     "metadata": {},
     "output_type": "execute_result"
    }
   ],
   "source": [
    "sum(train.groupby('sid')['label'].agg(max) == 1)"
   ]
  },
  {
   "cell_type": "markdown",
   "metadata": {},
   "source": [
    "# Feature Engineering"
   ]
  },
  {
   "cell_type": "code",
   "execution_count": 53,
   "metadata": {},
   "outputs": [],
   "source": [
    "#train = train[train['date'] >  datetime.date(2018, 10, 7)]"
   ]
  },
  {
   "cell_type": "code",
   "execution_count": 54,
   "metadata": {},
   "outputs": [],
   "source": [
    "stations = pd.read_table('./data_set_phase1/station.txt', sep = ',', header = None)\n",
    "stations.columns = ['station', 'lat', 'lon']"
   ]
  },
  {
   "cell_type": "code",
   "execution_count": 55,
   "metadata": {},
   "outputs": [],
   "source": [
    "def add_dis_near_stations(df):\n",
    "    dis = []\n",
    "    for lon, lat in zip(df['lon'], df['lat']):\n",
    "        dis.append( min( abs(stations['lon'] - lon) + abs(stations['lat'] - lat) ) )\n",
    "    df['dis'] = dis\n",
    "    return df"
   ]
  },
  {
   "cell_type": "code",
   "execution_count": 56,
   "metadata": {},
   "outputs": [
    {
     "data": {
      "text/plain": [
       "6121"
      ]
     },
     "execution_count": 56,
     "metadata": {},
     "output_type": "execute_result"
    }
   ],
   "source": [
    "O = pd.concat([train[['O_lon', 'O_lat']], test[['O_lon', 'O_lat']] ], axis = 0).drop_duplicates()\n",
    "D = pd.concat([train[['D_lon', 'D_lat']], test[['D_lon', 'D_lat']] ], axis = 0).drop_duplicates()\n",
    "O.columns = ['lon','lat']\n",
    "D.columns = ['lon','lat']\n",
    "OD = pd.concat([O,D], axis = 0).drop_duplicates()\n",
    "len(OD)"
   ]
  },
  {
   "cell_type": "code",
   "execution_count": 57,
   "metadata": {},
   "outputs": [
    {
     "name": "stdout",
     "output_type": "stream",
     "text": [
      "CPU times: user 11.9 s, sys: 3.2 s, total: 15.1 s\n",
      "Wall time: 15.1 s\n"
     ]
    }
   ],
   "source": [
    "%%time\n",
    "OD = add_dis_near_stations(OD)\n",
    "train = train.merge(OD.rename(columns = {'dis':'O_dis'}), left_on=['O_lon','O_lat'], right_on = ['lon', 'lat'])\n",
    "train = train.merge(OD.rename(columns = {'dis':'D_dis'}), left_on=['D_lon','D_lat'], right_on = ['lon', 'lat'])\n",
    "test = test.merge(OD.rename(columns = {'dis':'O_dis'}), left_on=['O_lon','O_lat'], right_on = ['lon', 'lat'])\n",
    "test = test.merge(OD.rename(columns = {'dis':'D_dis'}), left_on=['D_lon','D_lat'], right_on = ['lon', 'lat'])"
   ]
  },
  {
   "cell_type": "code",
   "execution_count": 58,
   "metadata": {},
   "outputs": [],
   "source": [
    "for col in ['lon_x', 'lat_x', 'lon_y', 'lat_y']:\n",
    "    del train[col]\n",
    "    del test[col]"
   ]
  },
  {
   "cell_type": "code",
   "execution_count": 59,
   "metadata": {},
   "outputs": [],
   "source": [
    "def add_num_plans(df):\n",
    "    num_plans = df.groupby(['sid'], as_index = False)['rank'].agg({'num_plans':lambda x: max(x) + 1})\n",
    "    df = df.merge(num_plans, how = 'left', on = 'sid')\n",
    "    return df"
   ]
  },
  {
   "cell_type": "code",
   "execution_count": 60,
   "metadata": {},
   "outputs": [
    {
     "name": "stdout",
     "output_type": "stream",
     "text": [
      "CPU times: user 10.8 s, sys: 3.34 s, total: 14.1 s\n",
      "Wall time: 14.1 s\n"
     ]
    }
   ],
   "source": [
    "%%time\n",
    "train = add_num_plans(train)\n",
    "test = add_num_plans(test)"
   ]
  },
  {
   "cell_type": "code",
   "execution_count": 61,
   "metadata": {},
   "outputs": [],
   "source": [
    "train = train[(train['num_plans'] > 1)]"
   ]
  },
  {
   "cell_type": "code",
   "execution_count": 62,
   "metadata": {},
   "outputs": [],
   "source": [
    "def lat_lon_dis(train, test):\n",
    "    l1,l2 = len(train),len(test)\n",
    "    dis_cols = []\n",
    "    for col in ['O_lat', 'O_lon', 'D_lat', 'D_lon']:\n",
    "        temp = pd.concat([train[[col]],test[[col]]], axis=0).rank(method='dense')\n",
    "        temp = list(temp[col])\n",
    "        temp = pd.qcut(temp, 5, labels=False, duplicates='drop')\n",
    "        train[col+'_dis'] = temp[:l1]\n",
    "        test[col+'_dis']  = temp[l1:]\n",
    "        dis_cols.append(col+'_dis')\n",
    "        \n",
    "    train['od'] = train[dis_cols].values.tolist()\n",
    "    test['od']  = test[dis_cols].values.tolist()\n",
    "    train['od'] = train['od'].apply(lambda x: ','.join([str(xx) for xx in x]))\n",
    "    test['od']   = test['od'].apply(lambda x: ','.join([str(xx) for xx in x]))\n",
    "                                    \n",
    "    train['o'] = train[['O_lat', 'O_lon']].values.tolist()\n",
    "    test['o']  = test[['O_lat', 'O_lon']].values.tolist()\n",
    "    train['o'] = train['o'].apply(lambda x: ','.join([str(xx) for xx in x]))\n",
    "    test['o']   = test['o'].apply(lambda x: ','.join([str(xx) for xx in x]))\n",
    "                                    \n",
    "    train['d'] = train[['D_lat', 'D_lon']].values.tolist()\n",
    "    test['d']  = test[['D_lat', 'D_lon']].values.tolist()\n",
    "    train['d'] = train['d'].apply(lambda x: ','.join([str(xx) for xx in x]))\n",
    "    test['d']   = test['d'].apply(lambda x: ','.join([str(xx) for xx in x]))\n",
    "    return train, test"
   ]
  },
  {
   "cell_type": "code",
   "execution_count": 63,
   "metadata": {},
   "outputs": [
    {
     "name": "stdout",
     "output_type": "stream",
     "text": [
      "CPU times: user 16.7 s, sys: 1.21 s, total: 17.9 s\n",
      "Wall time: 17.9 s\n"
     ]
    }
   ],
   "source": [
    "%%time\n",
    "train, test = lat_lon_dis(train, test)"
   ]
  },
  {
   "cell_type": "code",
   "execution_count": 64,
   "metadata": {},
   "outputs": [],
   "source": [
    "def cal_manhattan_distance(O_lon, O_lat, D_lon, D_lat):\n",
    "    dlat = O_lat - D_lat\n",
    "    a = sin(dlat / 2) ** 2\n",
    "    c = 2 * atan2(sqrt(a), sqrt(1-a))\n",
    "    r = 6371\n",
    "    lat_d = c * r\n",
    "\n",
    "    dlon = O_lat - D_lat\n",
    "    a = sin(dlon / 2) ** 2\n",
    "    c = 2 * atan2(sqrt(a), sqrt(1-a))\n",
    "    r = 6371\n",
    "    lon_d = c * r\n",
    "\n",
    "    return lat_d + lon_d"
   ]
  },
  {
   "cell_type": "code",
   "execution_count": 65,
   "metadata": {},
   "outputs": [],
   "source": [
    "def add_manhattan_distance(df):\n",
    "    df['man_distance'] = df.apply(lambda row: cal_manhattan_distance(\n",
    "        row['O_lon'], row['O_lat'], row['D_lon'], row['D_lat']), axis = 1)\n",
    "    return df"
   ]
  },
  {
   "cell_type": "code",
   "execution_count": 66,
   "metadata": {},
   "outputs": [
    {
     "name": "stdout",
     "output_type": "stream",
     "text": [
      "CPU times: user 1min 18s, sys: 3.03 s, total: 1min 21s\n",
      "Wall time: 1min 21s\n"
     ]
    }
   ],
   "source": [
    "%%time\n",
    "train = add_manhattan_distance(train)\n",
    "test = add_manhattan_distance(test)"
   ]
  },
  {
   "cell_type": "code",
   "execution_count": 67,
   "metadata": {},
   "outputs": [],
   "source": [
    "def col_dis(train, test, cols):\n",
    "    l1,l2 = len(train),len(test)\n",
    "    for col in cols:\n",
    "        temp = pd.concat([train[[col]],test[[col]]], axis=0).rank(method='dense')\n",
    "        temp = list(temp[col])\n",
    "        temp = pd.qcut(temp, 10, labels=False, duplicates='drop')\n",
    "        train[col+'_dis'] = temp[:l1]\n",
    "        test[col+'_dis']  = temp[l1:]\n",
    "    return train, test"
   ]
  },
  {
   "cell_type": "code",
   "execution_count": 68,
   "metadata": {},
   "outputs": [
    {
     "name": "stdout",
     "output_type": "stream",
     "text": [
      "CPU times: user 1.39 s, sys: 807 ms, total: 2.2 s\n",
      "Wall time: 2.2 s\n"
     ]
    }
   ],
   "source": [
    "%%time\n",
    "train, test = col_dis(train, test, ['man_distance'])"
   ]
  },
  {
   "cell_type": "code",
   "execution_count": 69,
   "metadata": {},
   "outputs": [],
   "source": [
    "def add_other_modes(df):\n",
    "    temp = df.groupby('sid', as_index=False)['transport_mode']\\\n",
    "            .agg({'mode_list':lambda x: ','.join(sorted(x.astype(str), key = lambda x:int(x)))})\n",
    "    df = df.merge(temp, on = 'sid')\n",
    "    return df"
   ]
  },
  {
   "cell_type": "code",
   "execution_count": 70,
   "metadata": {},
   "outputs": [
    {
     "name": "stdout",
     "output_type": "stream",
     "text": [
      "CPU times: user 1min 24s, sys: 2.94 s, total: 1min 27s\n",
      "Wall time: 1min 27s\n"
     ]
    }
   ],
   "source": [
    "%%time\n",
    "train = add_other_modes(train)\n",
    "test = add_other_modes(test)"
   ]
  },
  {
   "cell_type": "code",
   "execution_count": 71,
   "metadata": {},
   "outputs": [],
   "source": [
    "def add_direction(df):\n",
    "    df['lon_diff'] = df['O_lon'] - df['D_lon']\n",
    "    df['lat_diff'] = df['O_lat'] - df['D_lat']\n",
    "    return df"
   ]
  },
  {
   "cell_type": "code",
   "execution_count": 72,
   "metadata": {},
   "outputs": [
    {
     "name": "stdout",
     "output_type": "stream",
     "text": [
      "CPU times: user 57.7 ms, sys: 8.52 ms, total: 66.2 ms\n",
      "Wall time: 22.8 ms\n"
     ]
    }
   ],
   "source": [
    "%%time\n",
    "train = add_direction(train)\n",
    "test = add_direction(test)"
   ]
  },
  {
   "cell_type": "code",
   "execution_count": 73,
   "metadata": {},
   "outputs": [],
   "source": [
    "def add_max_min(df):\n",
    "    cols = ['eta','distance','price']\n",
    "    temp_columns = ['sid'] + [x + '_' + y for x in cols for y in ['min', 'max', 'mean', 'std']]\n",
    "    temp = df.groupby('sid', as_index = False).agg({'eta':[min, max, np.mean, np.std], \n",
    "                                                    'distance':[min, max, np.mean, np.std], \n",
    "                                                    'price':[min, max, np.mean, np.std]})\n",
    "    temp.columns = temp.columns.droplevel()\n",
    "    temp.columns = temp_columns\n",
    "    \n",
    "    df = df.merge(temp, on = 'sid')\n",
    "    for col in cols:\n",
    "        for t in ['min', 'max']:\n",
    "            df[col + '_is_' + t] = df[col] == df[col + '_' + t]\n",
    "            df[col + '_ratio_' + t] = df[col] / (df[col + '_' + t] + 0.001)            \n",
    "    return df"
   ]
  },
  {
   "cell_type": "code",
   "execution_count": 74,
   "metadata": {},
   "outputs": [
    {
     "name": "stdout",
     "output_type": "stream",
     "text": [
      "CPU times: user 8.01 s, sys: 4.64 s, total: 12.6 s\n",
      "Wall time: 12.3 s\n"
     ]
    }
   ],
   "source": [
    "%%time\n",
    "train = add_max_min(train)\n",
    "test = add_max_min(test)"
   ]
  },
  {
   "cell_type": "code",
   "execution_count": 75,
   "metadata": {},
   "outputs": [],
   "source": [
    "def add_divide(df):\n",
    "    df['eta_per_distance'] = df['eta'] / (df['distance'] + 0.001)\n",
    "    df['price_per_distance'] = df['price'] / (df['distance'] + 0.001)\n",
    "    df['price_per_eta'] = df['price'] / (df['eta'] + 0.001)\n",
    "    \n",
    "    temp = df.groupby('transport_mode', as_index = 'False').agg({'eta_per_distance':np.median,\n",
    "                                                                 'price_per_distance':np.median,\n",
    "                                                                 'price_per_eta':np.median}).reset_index()\n",
    "    \n",
    "    temp.columns  = ['transport_mode', 'eta_dis_avg','price_dis_avg','price_eta_avg']\n",
    "    \n",
    "    df = df.merge(temp, on = 'transport_mode')\n",
    "    df['eta_per_distance_abs'] = df['eta_per_distance'] / df['eta_dis_avg']\n",
    "    df['price_per_distance_abs'] = df['price_per_distance'] / df['price_dis_avg']\n",
    "    df['price_per_eta_abs'] = df['price_per_eta'] / df['price_eta_avg']\n",
    "                           \n",
    "    del df['eta_dis_avg']                                                     \n",
    "    del df['price_dis_avg']\n",
    "    del df['price_eta_avg']\n",
    "    return df"
   ]
  },
  {
   "cell_type": "code",
   "execution_count": 76,
   "metadata": {},
   "outputs": [
    {
     "name": "stdout",
     "output_type": "stream",
     "text": [
      "CPU times: user 21.9 s, sys: 11.4 s, total: 33.3 s\n",
      "Wall time: 33 s\n"
     ]
    }
   ],
   "source": [
    "%%time\n",
    "train = add_divide(train)\n",
    "test = add_divide(test)"
   ]
  },
  {
   "cell_type": "code",
   "execution_count": 77,
   "metadata": {},
   "outputs": [],
   "source": [
    "train['price_NA'] = train['price'] == -1\n",
    "test['price_NA'] = test['price'] == -1"
   ]
  },
  {
   "cell_type": "code",
   "execution_count": 78,
   "metadata": {},
   "outputs": [],
   "source": [
    "def add_time(df):\n",
    "    df['is_night'] = df['hr'].isin([22,23,0,1,2,3,4,5])\n",
    "    df['is_weekend'] = df['dow'].isin([5,6])\n",
    "    return df"
   ]
  },
  {
   "cell_type": "code",
   "execution_count": 79,
   "metadata": {},
   "outputs": [
    {
     "name": "stdout",
     "output_type": "stream",
     "text": [
      "CPU times: user 34.4 ms, sys: 1.78 ms, total: 36.2 ms\n",
      "Wall time: 35.2 ms\n"
     ]
    }
   ],
   "source": [
    "%%time\n",
    "train = add_time(train)\n",
    "test = add_time(test)"
   ]
  },
  {
   "cell_type": "code",
   "execution_count": 80,
   "metadata": {},
   "outputs": [],
   "source": [
    "def remove_profile(train, test):\n",
    "    remove_profiles = []\n",
    "    for i in range(0, 66):\n",
    "        try:\n",
    "            if (train['p' + str(i)].mean() < 0.1) or \\\n",
    "               (test['p' + str(i)].mean() < 0.1) or \\\n",
    "               (abs(train['p' + str(i)].mean() -  test['p' + str(i)].mean()) > 0.20):\n",
    "                    remove_profiles.append('p' + str(i)) \n",
    "        except:\n",
    "            pass\n",
    "    return remove_profiles"
   ]
  },
  {
   "cell_type": "code",
   "execution_count": 81,
   "metadata": {},
   "outputs": [
    {
     "name": "stdout",
     "output_type": "stream",
     "text": [
      "CPU times: user 706 ms, sys: 101 ms, total: 807 ms\n",
      "Wall time: 806 ms\n"
     ]
    }
   ],
   "source": [
    "%%time\n",
    "remove_profiles = remove_profile(train, test)"
   ]
  },
  {
   "cell_type": "code",
   "execution_count": 82,
   "metadata": {},
   "outputs": [],
   "source": [
    "def add_dummies(df):\n",
    "    dummies = pd.get_dummies(df['transport_mode'], prefix='mode')\n",
    "    return pd.concat([df, dummies], axis = 1)"
   ]
  },
  {
   "cell_type": "code",
   "execution_count": 83,
   "metadata": {},
   "outputs": [
    {
     "name": "stdout",
     "output_type": "stream",
     "text": [
      "CPU times: user 3.23 s, sys: 1.83 s, total: 5.06 s\n",
      "Wall time: 5.06 s\n"
     ]
    }
   ],
   "source": [
    "%%time\n",
    "train = add_dummies(train)\n",
    "test = add_dummies(test)"
   ]
  },
  {
   "cell_type": "code",
   "execution_count": 84,
   "metadata": {},
   "outputs": [],
   "source": [
    "def add_dow_hr(df):\n",
    "    df['dow_hr'] = df['dow'].astype(str) + '_' + df['hr'].astype(str)\n",
    "    return df"
   ]
  },
  {
   "cell_type": "code",
   "execution_count": 85,
   "metadata": {},
   "outputs": [
    {
     "name": "stdout",
     "output_type": "stream",
     "text": [
      "CPU times: user 2.35 s, sys: 145 ms, total: 2.49 s\n",
      "Wall time: 2.49 s\n"
     ]
    }
   ],
   "source": [
    "%%time\n",
    "train = add_dow_hr(train)\n",
    "test = add_dow_hr(test)"
   ]
  },
  {
   "cell_type": "code",
   "execution_count": 86,
   "metadata": {},
   "outputs": [],
   "source": [
    "def add_cross_stats(train, test):\n",
    "    for col in ['od',\n",
    "                'hr',\n",
    "                'dow',\n",
    "                'rank',\n",
    "                'dow_hr',#05/24\n",
    "                'mode_list',\n",
    "                'is_night', \n",
    "                'is_weekend', \n",
    "                'num_plans',\n",
    "                'price_is_max', \n",
    "                'price_is_min',\n",
    "                'eta_is_max', \n",
    "                'eta_is_min',\n",
    "                'distance_is_max', \n",
    "                'distance_is_min']:\n",
    "        colname = 'mode_'+ col + '_clicks'\n",
    "        if colname not in train:\n",
    "            temp = train.groupby( [col, 'transport_mode'], as_index = False)\\\n",
    "                    .agg({'label':np.mean}).rename(columns = {'label':colname})\n",
    "            train = train.merge(temp, on = ['transport_mode', col], how = 'left')\n",
    "            test  = test.merge(temp, on = ['transport_mode', col], how = 'left')\n",
    "            train[colname] = train[colname].fillna(0)\n",
    "            test[colname]  = test[colname].fillna(0)\n",
    "            print(col)\n",
    "    return train, test"
   ]
  },
  {
   "cell_type": "code",
   "execution_count": 87,
   "metadata": {},
   "outputs": [
    {
     "name": "stdout",
     "output_type": "stream",
     "text": [
      "od\n",
      "hr\n",
      "dow\n",
      "rank\n",
      "dow_hr\n",
      "mode_list\n",
      "is_night\n",
      "is_weekend\n",
      "num_plans\n",
      "price_is_max\n",
      "price_is_min\n",
      "eta_is_max\n",
      "eta_is_min\n",
      "distance_is_max\n",
      "distance_is_min\n",
      "CPU times: user 3min 19s, sys: 2min 20s, total: 5min 39s\n",
      "Wall time: 5min 39s\n"
     ]
    }
   ],
   "source": [
    "%%time\n",
    "train, test = add_cross_stats(train, test)"
   ]
  },
  {
   "cell_type": "markdown",
   "metadata": {},
   "source": [
    "**Add week number**"
   ]
  },
  {
   "cell_type": "code",
   "execution_count": 88,
   "metadata": {},
   "outputs": [],
   "source": [
    "train['week_no'] = 0\n",
    "test['week_no'] = 0\n",
    "for i in range(10):\n",
    "    train.loc[(train['date'] >=  datetime.date(2018, 10, 1) + timedelta(days=7 * i)) \\\n",
    "            & (train['date'] <=  datetime.date(2018, 10, 7) + timedelta(days=7 * i)) \\\n",
    "              , 'week_no'] = i \n",
    "    test.loc[(test['date'] >=  datetime.date(2018, 10, 1) + timedelta(days=7 * i)) \\\n",
    "           & (test['date'] <=  datetime.date(2018, 10, 7) + timedelta(days=7 * i)) \\\n",
    "              , 'week_no'] = i "
   ]
  },
  {
   "cell_type": "markdown",
   "metadata": {},
   "source": [
    "**Add mode list as categorical vairable**"
   ]
  },
  {
   "cell_type": "code",
   "execution_count": 89,
   "metadata": {},
   "outputs": [
    {
     "data": {
      "text/html": [
       "<div>\n",
       "<style scoped>\n",
       "    .dataframe tbody tr th:only-of-type {\n",
       "        vertical-align: middle;\n",
       "    }\n",
       "\n",
       "    .dataframe tbody tr th {\n",
       "        vertical-align: top;\n",
       "    }\n",
       "\n",
       "    .dataframe thead th {\n",
       "        text-align: right;\n",
       "    }\n",
       "</style>\n",
       "<table border=\"1\" class=\"dataframe\">\n",
       "  <thead>\n",
       "    <tr style=\"text-align: right;\">\n",
       "      <th></th>\n",
       "      <th>mode_list</th>\n",
       "      <th>mode_list_high</th>\n",
       "    </tr>\n",
       "  </thead>\n",
       "  <tbody>\n",
       "    <tr>\n",
       "      <th>0</th>\n",
       "      <td>1,3,4,5,6</td>\n",
       "      <td>1,3,4,5,6</td>\n",
       "    </tr>\n",
       "  </tbody>\n",
       "</table>\n",
       "</div>"
      ],
      "text/plain": [
       "   mode_list mode_list_high\n",
       "0  1,3,4,5,6      1,3,4,5,6"
      ]
     },
     "execution_count": 89,
     "metadata": {},
     "output_type": "execute_result"
    }
   ],
   "source": [
    "temp = pd.DataFrame(train['mode_list'].value_counts()).reset_index()\n",
    "temp.columns = ['mode_list', 'count']\n",
    "temp['mode_list_high'] = temp['mode_list']\n",
    "temp = temp[temp['count'] >= 10000]\n",
    "del temp['count']\n",
    "temp.head(1)"
   ]
  },
  {
   "cell_type": "code",
   "execution_count": 91,
   "metadata": {},
   "outputs": [
    {
     "name": "stdout",
     "output_type": "stream",
     "text": [
      "CPU times: user 17.2 s, sys: 12.2 s, total: 29.3 s\n",
      "Wall time: 29.3 s\n"
     ]
    }
   ],
   "source": [
    "%%time\n",
    "train = train.merge(temp, on = 'mode_list', how = 'left')\n",
    "test  = test.merge(temp, on = 'mode_list', how = 'left')\n",
    "train['mode_list_high'] = train['mode_list_high'].fillna('other')\n",
    "test['mode_list_high']  = test['mode_list_high'].fillna('other')\n",
    "le = preprocessing.LabelEncoder()\n",
    "le.fit(train['mode_list_high'])\n",
    "train['mode_list_high'] = le.transform(train['mode_list_high'])\n",
    "test['mode_list_high']  = le.transform(test['mode_list_high'])"
   ]
  },
  {
   "cell_type": "markdown",
   "metadata": {},
   "source": [
    "**Add hr + 30 minute**"
   ]
  },
  {
   "cell_type": "code",
   "execution_count": 283,
   "metadata": {},
   "outputs": [],
   "source": [
    "def minute_to_30(x):\n",
    "    if x<30:\n",
    "        return 1\n",
    "    else:\n",
    "        return 2"
   ]
  },
  {
   "cell_type": "code",
   "execution_count": 284,
   "metadata": {},
   "outputs": [
    {
     "name": "stdout",
     "output_type": "stream",
     "text": [
      "CPU times: user 773 ms, sys: 57.9 ms, total: 831 ms\n",
      "Wall time: 793 ms\n"
     ]
    }
   ],
   "source": [
    "%%time\n",
    "train['min_30'] = train['min'].apply(minute_to_30)\n",
    "test['min_30'] = test['min'].apply(minute_to_30)\n",
    "train['hr_minute'] = 2 * train['hr'] + train['min_30']\n",
    "test['hr_minute']  = 2 * test['hr']  + test['min_30']\n",
    "del train['min_30'] \n",
    "del test['min_30']"
   ]
  },
  {
   "cell_type": "markdown",
   "metadata": {},
   "source": [
    "**Add divide 10 for cross stats**"
   ]
  },
  {
   "cell_type": "code",
   "execution_count": 78,
   "metadata": {},
   "outputs": [],
   "source": [
    "def divide_10(x):\n",
    "    for i in range(10):\n",
    "        if x >= 0.1 * i and x <= 0.1 * (i+1):\n",
    "            return i\n",
    "    return 0"
   ]
  },
  {
   "cell_type": "code",
   "execution_count": 3,
   "metadata": {},
   "outputs": [],
   "source": [
    "cross_cols_dis = []\n",
    "cross_cols = []\n",
    "def add_cross_stats_divide_10(train, test):\n",
    "    for col in ['od',\n",
    "                'hr',\n",
    "                'dow',\n",
    "                'rank',\n",
    "                'dow_hr',#05/24\n",
    "                'mode_list',\n",
    "                'is_night', \n",
    "                'is_weekend', \n",
    "                'num_plans',\n",
    "                'price_is_max', \n",
    "                'price_is_min',\n",
    "                'eta_is_max', \n",
    "                'eta_is_min',\n",
    "                'distance_is_max', \n",
    "                'distance_is_min']:\n",
    "        col1 = 'mode_'+ col + '_clicks'\n",
    "        col2 = 'mode_'+ col + '_clicks_dis'\n",
    "        train[col2] = train[col1].apply(divide_10)\n",
    "        test[col2]  = test[col1].apply(divide_10)\n",
    "        cross_cols.append(col1)\n",
    "        cross_cols_dis.append(col2)\n",
    "    return train, test"
   ]
  },
  {
   "cell_type": "code",
   "execution_count": 4,
   "metadata": {},
   "outputs": [
    {
     "name": "stdout",
     "output_type": "stream",
     "text": [
      "CPU times: user 15 µs, sys: 0 ns, total: 15 µs\n",
      "Wall time: 16.9 µs\n"
     ]
    }
   ],
   "source": [
    "%%time\n",
    "train, test =  add_cross_stats_divide_10(train, test)"
   ]
  },
  {
   "cell_type": "markdown",
   "metadata": {},
   "source": [
    "**Add last week clicks**"
   ]
  },
  {
   "cell_type": "code",
   "execution_count": 208,
   "metadata": {},
   "outputs": [],
   "source": [
    "start = min(train['date'])\n",
    "train['day'] = (train['date'] - start).apply(lambda x: x.days)\n",
    "test['day'] = (test['date'] - start).apply(lambda x: x.days)"
   ]
  },
  {
   "cell_type": "code",
   "execution_count": 209,
   "metadata": {},
   "outputs": [],
   "source": [
    "cols = ['day','hr','transport_mode']"
   ]
  },
  {
   "cell_type": "code",
   "execution_count": 210,
   "metadata": {},
   "outputs": [],
   "source": [
    "temp = train.groupby(cols , as_index = False)\\\n",
    "                    .agg({'label':np.mean}).rename(columns = {'label':'day_hr_mode_percent'})\n",
    "temp['day'] = temp['day'] + 7"
   ]
  },
  {
   "cell_type": "code",
   "execution_count": 211,
   "metadata": {},
   "outputs": [],
   "source": [
    "try:\n",
    "    del train['day_hr_mode_percent']\n",
    "    del test['day_hr_mode_percent']\n",
    "except:\n",
    "    pass"
   ]
  },
  {
   "cell_type": "code",
   "execution_count": 212,
   "metadata": {},
   "outputs": [],
   "source": [
    "train = train.merge(temp, on = cols, how = 'left')\n",
    "test = test.merge(temp, on = cols, how = 'left')\n",
    "train['day_hr_mode_percent'] = train['day_hr_mode_percent'].fillna(0)\n",
    "test['day_hr_mode_percent'] = test['day_hr_mode_percent'].fillna(0)"
   ]
  },
  {
   "cell_type": "code",
   "execution_count": 213,
   "metadata": {},
   "outputs": [
    {
     "data": {
      "text/plain": [
       "166"
      ]
     },
     "execution_count": 213,
     "metadata": {},
     "output_type": "execute_result"
    }
   ],
   "source": [
    "len(train.columns)"
   ]
  },
  {
   "cell_type": "markdown",
   "metadata": {},
   "source": [
    "# Save intermediate data to pickle"
   ]
  },
  {
   "cell_type": "code",
   "execution_count": 38,
   "metadata": {
    "deletable": false,
    "editable": false,
    "run_control": {
     "frozen": true
    }
   },
   "outputs": [
    {
     "name": "stdout",
     "output_type": "stream",
     "text": [
      "CPU times: user 5.26 s, sys: 2.49 s, total: 7.75 s\n",
      "Wall time: 8.18 s\n"
     ]
    }
   ],
   "source": [
    "%%time\n",
    "data = {'train': train, 'test':test, \n",
    "        'all_test_sid':set(test_queries['sid']), \n",
    "        'remove_profiles':remove_profiles}\n",
    "with open('./processed_data/data.pickle', 'wb') as handle:\n",
    "    pickle.dump(data, handle)"
   ]
  },
  {
   "cell_type": "code",
   "execution_count": 447,
   "metadata": {},
   "outputs": [
    {
     "name": "stdout",
     "output_type": "stream",
     "text": [
      "CPU times: user 2.23 s, sys: 3.26 s, total: 5.49 s\n",
      "Wall time: 5.52 s\n"
     ]
    }
   ],
   "source": [
    "%%time\n",
    "with open('./processed_data/data.pickle', 'rb') as handle:\n",
    "    data = pickle.load(handle)\n",
    "\n",
    "train = data['train']\n",
    "test = data['test']\n",
    "all_test_sid = data['all_test_sid']\n",
    "remove_profiles = data['remove_profiles']"
   ]
  },
  {
   "cell_type": "markdown",
   "metadata": {},
   "source": [
    "# Baseline LGB model"
   ]
  },
  {
   "cell_type": "code",
   "execution_count": 448,
   "metadata": {},
   "outputs": [
    {
     "name": "stdout",
     "output_type": "stream",
     "text": [
      "2015306\n",
      "2015306\n"
     ]
    }
   ],
   "source": [
    "print(len(train))\n",
    "#train = train[~train['sid'].isin(plan_no_click_sid)]\n",
    "print(len(train))"
   ]
  },
  {
   "cell_type": "markdown",
   "metadata": {},
   "source": [
    "## Train/Validation Split"
   ]
  },
  {
   "cell_type": "code",
   "execution_count": 449,
   "metadata": {},
   "outputs": [],
   "source": [
    "train_ = train.copy()\n",
    "test_ = test.copy()"
   ]
  },
  {
   "cell_type": "code",
   "execution_count": 450,
   "metadata": {},
   "outputs": [],
   "source": [
    "exclude_columns = ['sid',\n",
    "                   'pid',\n",
    "                   'week_no',\n",
    "                   'profile',\n",
    "                   'label',\n",
    "                   'weight',\n",
    "                   'mode_list',\n",
    "                   'date',\n",
    "                   'o',\n",
    "                   'd',\n",
    "                   'od',\n",
    "                   'O_lat_dis',\n",
    "                   'O_lon_dis',\n",
    "                   'D_lat_dis',\n",
    "                   'D_lon_dis',\n",
    "                   'mode_o_clicks', \n",
    "                   'mode_d_clicks',\n",
    "                   'transport_mode',\n",
    "                   'dow_hr',\n",
    "                   'mode_dow_hr_clicks',\n",
    "                   'mode_list_high',\n",
    "                   'min',\n",
    "                   'hr_minute',    \n",
    "                   'day',\n",
    "                   'day_hr_mode_percent'\n",
    "                   \n",
    "#                     'price_ratio_max',\n",
    "#                     'eta_min',\n",
    "#                     'eta_max',\n",
    "#                     'eta_mean',\n",
    "#                     'eta_std',\n",
    "#                     'distance_min',\n",
    "#                     'distance_max',\n",
    "#                     'distance_mean',\n",
    "#                     'distance_std',\n",
    "#                     'price_min',\n",
    "#                     'price_max',\n",
    "#                     'price_mean',\n",
    "#                     'price_std',\n",
    "#                     'eta_is_min',\n",
    "#                     'eta_is_max',\n",
    "#                     'distance_is_min',\n",
    "#                     'distance_is_max',\n",
    "#                     'price_is_min',\n",
    "#                     'price_is_max'\n",
    "                   \n",
    "                  ] \n",
    "features = [x for x in train_.columns if x not in exclude_columns and \\\n",
    "                                         x not in remove_profiles and \\\n",
    "                                         x not in cross_cols_dis]"
   ]
  },
  {
   "cell_type": "code",
   "execution_count": 451,
   "metadata": {},
   "outputs": [
    {
     "data": {
      "text/plain": [
       "94"
      ]
     },
     "execution_count": 451,
     "metadata": {},
     "output_type": "execute_result"
    }
   ],
   "source": [
    "len(features)"
   ]
  },
  {
   "cell_type": "code",
   "execution_count": 452,
   "metadata": {},
   "outputs": [],
   "source": [
    "sid_train = list(set(train_[train_['date'] >= datetime.date(2018, 10, 7)]['sid']))\n",
    "sid_eval  = list(set(train_[train_['date'] >= datetime.date(2018, 11, 24)]['sid']))"
   ]
  },
  {
   "cell_type": "code",
   "execution_count": 453,
   "metadata": {},
   "outputs": [
    {
     "data": {
      "text/plain": [
       "388473"
      ]
     },
     "execution_count": 453,
     "metadata": {},
     "output_type": "execute_result"
    }
   ],
   "source": [
    "len(sid_train)"
   ]
  },
  {
   "cell_type": "code",
   "execution_count": 454,
   "metadata": {},
   "outputs": [],
   "source": [
    "import random\n",
    "random.seed(1)\n",
    "#sid_train = random.sample(sid_train,220000)"
   ]
  },
  {
   "cell_type": "code",
   "execution_count": 115,
   "metadata": {
    "deletable": false,
    "editable": false,
    "run_control": {
     "frozen": true
    }
   },
   "outputs": [],
   "source": [
    "sid_train = []\n",
    "for mode in range(1,12):\n",
    "    sid_train = sid_train + \\\n",
    "    list(train_[(train_['label']==1)  & (train_['transport_mode'] == mode)]['sid'].sample(10000, replace = True).values)"
   ]
  },
  {
   "cell_type": "code",
   "execution_count": 455,
   "metadata": {},
   "outputs": [],
   "source": [
    "T = train_[train_['sid'].isin(sid_train)]\n",
    "V = train_[train_['sid'].isin(sid_eval)]"
   ]
  },
  {
   "cell_type": "code",
   "execution_count": 456,
   "metadata": {},
   "outputs": [],
   "source": [
    "X_train = T\n",
    "X_eval  = V\n",
    "y_train = T['label']\n",
    "y_eval  = V['label']"
   ]
  },
  {
   "cell_type": "markdown",
   "metadata": {},
   "source": [
    "## Model Training"
   ]
  },
  {
   "cell_type": "markdown",
   "metadata": {},
   "source": [
    "### Find best sample weights"
   ]
  },
  {
   "cell_type": "code",
   "execution_count": 457,
   "metadata": {},
   "outputs": [
    {
     "data": {
      "text/html": [
       "<div>\n",
       "<style scoped>\n",
       "    .dataframe tbody tr th:only-of-type {\n",
       "        vertical-align: middle;\n",
       "    }\n",
       "\n",
       "    .dataframe tbody tr th {\n",
       "        vertical-align: top;\n",
       "    }\n",
       "\n",
       "    .dataframe thead th {\n",
       "        text-align: right;\n",
       "    }\n",
       "</style>\n",
       "<table border=\"1\" class=\"dataframe\">\n",
       "  <thead>\n",
       "    <tr style=\"text-align: right;\">\n",
       "      <th></th>\n",
       "      <th>transport_mode</th>\n",
       "      <th>weight</th>\n",
       "    </tr>\n",
       "  </thead>\n",
       "  <tbody>\n",
       "    <tr>\n",
       "      <th>2</th>\n",
       "      <td>1</td>\n",
       "      <td>0.378216</td>\n",
       "    </tr>\n",
       "    <tr>\n",
       "      <th>0</th>\n",
       "      <td>2</td>\n",
       "      <td>0.271006</td>\n",
       "    </tr>\n",
       "    <tr>\n",
       "      <th>5</th>\n",
       "      <td>3</td>\n",
       "      <td>0.640460</td>\n",
       "    </tr>\n",
       "    <tr>\n",
       "      <th>7</th>\n",
       "      <td>4</td>\n",
       "      <td>0.891969</td>\n",
       "    </tr>\n",
       "    <tr>\n",
       "      <th>4</th>\n",
       "      <td>5</td>\n",
       "      <td>0.460825</td>\n",
       "    </tr>\n",
       "    <tr>\n",
       "      <th>8</th>\n",
       "      <td>6</td>\n",
       "      <td>0.918475</td>\n",
       "    </tr>\n",
       "    <tr>\n",
       "      <th>1</th>\n",
       "      <td>7</td>\n",
       "      <td>0.359882</td>\n",
       "    </tr>\n",
       "    <tr>\n",
       "      <th>10</th>\n",
       "      <td>8</td>\n",
       "      <td>2.320567</td>\n",
       "    </tr>\n",
       "    <tr>\n",
       "      <th>3</th>\n",
       "      <td>9</td>\n",
       "      <td>0.452382</td>\n",
       "    </tr>\n",
       "    <tr>\n",
       "      <th>6</th>\n",
       "      <td>10</td>\n",
       "      <td>0.819727</td>\n",
       "    </tr>\n",
       "    <tr>\n",
       "      <th>9</th>\n",
       "      <td>11</td>\n",
       "      <td>1.281525</td>\n",
       "    </tr>\n",
       "  </tbody>\n",
       "</table>\n",
       "</div>"
      ],
      "text/plain": [
       "    transport_mode    weight\n",
       "2                1  0.378216\n",
       "0                2  0.271006\n",
       "5                3  0.640460\n",
       "7                4  0.891969\n",
       "4                5  0.460825\n",
       "8                6  0.918475\n",
       "1                7  0.359882\n",
       "10               8  2.320567\n",
       "3                9  0.452382\n",
       "6               10  0.819727\n",
       "9               11  1.281525"
      ]
     },
     "metadata": {},
     "output_type": "display_data"
    }
   ],
   "source": [
    "temp = pd.DataFrame(train_[(train_['label'] == 1)]['transport_mode'].value_counts()).reset_index().sort_values(by = 'index')\n",
    "temp.columns = ['transport_mode', 'weight']\n",
    "temp['weight'] = np.sqrt(1 / temp['weight'] * 10000)\n",
    "base_weights = temp\n",
    "display(base_weights)"
   ]
  },
  {
   "cell_type": "code",
   "execution_count": 458,
   "metadata": {},
   "outputs": [],
   "source": [
    "def weighted_f1(preds, data):\n",
    "    if GLOBAL[0] % 100 == 0 and data.reference is not None:\n",
    "        df = X_eval\n",
    "        df['pred_prob'] = preds\n",
    "        output = pd.DataFrame(df.groupby('sid').apply(get_best_mode_dt).reset_index())\n",
    "        output.columns = ['sid', 'recommend_mode']\n",
    "        eval_true = df[df['label'] == 1][['sid','transport_mode']]\n",
    "        eval_true.columns = ['sid','true']\n",
    "        output.columns = ['sid', 'pred']\n",
    "        eval_sum = eval_true.merge(output, on = 'sid')\n",
    "        weight_f1 = f1_score(eval_sum['true'], eval_sum['pred'], average = 'weighted')\n",
    "    else:\n",
    "        weight_f1 = -1\n",
    "    GLOBAL[0] = GLOBAL[0] + 1\n",
    "    return 'weighed-f1', weight_f1, False"
   ]
  },
  {
   "cell_type": "code",
   "execution_count": 459,
   "metadata": {},
   "outputs": [],
   "source": [
    "def add_weight(train_, adjusts):\n",
    "    if 'weight' in train_.columns:\n",
    "        del train_['weight']\n",
    "    \n",
    "    weights = base_weights.copy()\n",
    "    for idx, adjust in zip(range(1,12), adjusts):\n",
    "        weights.loc[weights['transport_mode'] == idx, 'weight'] = \\\n",
    "        weights.loc[weights['transport_mode'] == idx, 'weight'] * adjust\n",
    "        \n",
    "    weights['label'] = 1\n",
    "    train_ = train_.merge(weights, on = ['transport_mode','label'], how = 'left')\n",
    "    train_['weight'] = train_['weight'].fillna(1)\n",
    "\n",
    "    T = train_[train_['sid'].isin(sid_train)]\n",
    "    V = train_[train_['sid'].isin(sid_eval)]\n",
    "\n",
    "    X_train = T\n",
    "    X_eval  = V\n",
    "    y_train = T['label']\n",
    "    y_eval  = V['label']\n",
    "    \n",
    "    return X_train, X_eval, y_train, y_eval"
   ]
  },
  {
   "cell_type": "code",
   "execution_count": 460,
   "metadata": {},
   "outputs": [],
   "source": [
    "def train_lgb_with_weights(idx, adjusts, num_rounds = 1000, feval = None, verbose = 200):\n",
    "    X_train, X_eval, y_train, y_eval = add_weight(train_, adjusts)\n",
    "    lgb_train = lgb.Dataset(X_train[features], y_train, \n",
    "                            categorical_feature = ['hr','dow'],\n",
    "                            weight = X_train['weight'])\n",
    "\n",
    "    lgb_evals = lgb.Dataset(X_eval[features], y_eval, \n",
    "                                categorical_feature = ['hr','dow'], \n",
    "                                reference = lgb_train)    \n",
    "    print(adjusts)    \n",
    "    gbm_all = lgb.train(\n",
    "                    params,\n",
    "                    lgb_train,\n",
    "                    num_boost_round = num_rounds,\n",
    "                    valid_sets =[ lgb_train,lgb_evals],\n",
    "                    valid_names = ['train','valid'],\n",
    "                    feval = feval,\n",
    "                    #early_stopping_rounds = 300,\n",
    "                    verbose_eval = verbose \n",
    "                   ) \n",
    "    \n",
    "    results[idx] = {}\n",
    "    results[idx]['model'] = gbm_all\n",
    "    results[idx]['adjusts'] = adjusts\n",
    "    if feval is not None:\n",
    "        results[idx]['f1'] = gbm_all.best_score['valid']['weighed-f1']"
   ]
  },
  {
   "cell_type": "code",
   "execution_count": 12,
   "metadata": {
    "deletable": false,
    "editable": false,
    "run_control": {
     "frozen": true
    }
   },
   "outputs": [],
   "source": [
    "results = {}\n",
    "global_idx = [0]"
   ]
  },
  {
   "cell_type": "code",
   "execution_count": 64,
   "metadata": {
    "deletable": false,
    "editable": false,
    "run_control": {
     "frozen": true
    }
   },
   "outputs": [],
   "source": [
    "adjusts_sets = [     \n",
    "            [1, 1, 3, 2, 1, 1.5, 2, 1, 3, 1.5, 1],\n",
    "               ]"
   ]
  },
  {
   "cell_type": "code",
   "execution_count": null,
   "metadata": {
    "deletable": false,
    "editable": false,
    "run_control": {
     "frozen": true
    }
   },
   "outputs": [],
   "source": [
    "# %%time\n",
    "# already_tested = [v['adjusts'] for k ,v in results.items()]\n",
    "# for adjusts in adjusts_sets:\n",
    "#     idx = global_idx[0]\n",
    "#     global_idx[0] = global_idx[0] + 1\n",
    "#     GLOBAL = [1]\n",
    "#     train_lgb_with_weights(idx, adjusts,num_rounds = 100, feval=weighted_f1, verbose = 100)"
   ]
  },
  {
   "cell_type": "code",
   "execution_count": 65,
   "metadata": {
    "deletable": false,
    "editable": false,
    "run_control": {
     "frozen": true
    },
    "scrolled": false
   },
   "outputs": [],
   "source": [
    "results = {}"
   ]
  },
  {
   "cell_type": "markdown",
   "metadata": {},
   "source": [
    "### Train model"
   ]
  },
  {
   "cell_type": "code",
   "execution_count": 66,
   "metadata": {
    "deletable": false,
    "editable": false,
    "run_control": {
     "frozen": true
    }
   },
   "outputs": [
    {
     "name": "stdout",
     "output_type": "stream",
     "text": [
      "[1, 1, 3, 2.0, 1, 1.5, 2, 1, 3, 1.5, 1]\n",
      "CPU times: user 5min 29s, sys: 18.6 s, total: 5min 47s\n",
      "Wall time: 59.3 s\n"
     ]
    }
   ],
   "source": [
    "%%time\n",
    "GLOBAL = [1]\n",
    "train_lgb_with_weights(1000, \n",
    "                      [1, 1, 3, 2.0, 1, 1.5, 2, 1, 3, 1.5, 1], \n",
    "                       num_rounds = 3600, feval = None, verbose = 500) #3600"
   ]
  },
  {
   "cell_type": "code",
   "execution_count": 461,
   "metadata": {
    "deletable": false,
    "editable": false,
    "run_control": {
     "frozen": true
    }
   },
   "outputs": [
    {
     "name": "stdout",
     "output_type": "stream",
     "text": [
      "[1, 1, 3, 2.0, 1, 1.5, 2, 1, 3, 1.5, 1]\n",
      "[500]\ttrain's binary_logloss: 0.28648\tvalid's binary_logloss: 0.282242\n",
      "[1000]\ttrain's binary_logloss: 0.281578\tvalid's binary_logloss: 0.278748\n",
      "[1500]\ttrain's binary_logloss: 0.277417\tvalid's binary_logloss: 0.27577\n",
      "[2000]\ttrain's binary_logloss: 0.273638\tvalid's binary_logloss: 0.273085\n",
      "[2500]\ttrain's binary_logloss: 0.270244\tvalid's binary_logloss: 0.270663\n",
      "[3000]\ttrain's binary_logloss: 0.266934\tvalid's binary_logloss: 0.268369\n",
      "CPU times: user 1h 10min 36s, sys: 1min 20s, total: 1h 11min 56s\n",
      "Wall time: 7min 8s\n"
     ]
    }
   ],
   "source": [
    "%%time\n",
    "#0.65740662 # 0.768070431718125\n",
    "GLOBAL = [1]\n",
    "train_lgb_with_weights(max(results.keys()) + 1, \n",
    "                      [1, 1, 3, 2.0, 1, 1.5, 2, 1, 3, 1.5, 1], \n",
    "                       num_rounds = 3300, feval = None, verbose = 500) "
   ]
  },
  {
   "cell_type": "code",
   "execution_count": 85,
   "metadata": {
    "deletable": false,
    "editable": false,
    "run_control": {
     "frozen": true
    }
   },
   "outputs": [],
   "source": [
    "gbm_all = results[max(results.keys())]['model']"
   ]
  },
  {
   "cell_type": "code",
   "execution_count": 156,
   "metadata": {
    "deletable": false,
    "editable": false,
    "run_control": {
     "frozen": true
    }
   },
   "outputs": [],
   "source": [
    "feature_importance = sorted([(x,y) for x, y in zip(gbm_all.feature_name(), gbm_all.feature_importance())],\n",
    "                            key = lambda x: x[1], reverse=True)\n",
    "top_features = [x for x, y in feature_importance][:50]"
   ]
  },
  {
   "cell_type": "code",
   "execution_count": 461,
   "metadata": {},
   "outputs": [],
   "source": [
    "X_train, X_eval, y_train, y_eval = add_weight(train_, [1, 1, 3, 2.0, 1, 1.5, 2, 1, 3, 1.5, 1])"
   ]
  },
  {
   "cell_type": "code",
   "execution_count": 518,
   "metadata": {},
   "outputs": [],
   "source": [
    "params = {'boosting_type': 'gbdt',\n",
    " 'objective': 'binary',\n",
    " 'num_leaves': 31,\n",
    " 'learning_rate': 0.05,\n",
    " 'feature_fraction': 0.9,\n",
    " 'bagging_fraction': 0.9,\n",
    " 'bagging_seed': 0,\n",
    " 'bagging_freq': 1,\n",
    " 'verbose': 1,\n",
    " 'seed': 42,\n",
    " 'reg_alpha':7.5,\n",
    " 'reg_lambda':2}"
   ]
  },
  {
   "cell_type": "code",
   "execution_count": 519,
   "metadata": {},
   "outputs": [],
   "source": [
    "lgb_train = lgb.Dataset(X_train[features], y_train, \n",
    "                        categorical_feature = ['hr','dow'],\n",
    "                        weight = X_train['weight'])\n",
    "\n",
    "lgb_evals = lgb.Dataset(X_eval[features], y_eval, \n",
    "                            categorical_feature = ['hr','dow'], \n",
    "                            reference = lgb_train)  "
   ]
  },
  {
   "cell_type": "code",
   "execution_count": 520,
   "metadata": {},
   "outputs": [
    {
     "name": "stdout",
     "output_type": "stream",
     "text": [
      "[500]\ttrain's binary_logloss: 0.286774\tvalid's binary_logloss: 0.281614\n",
      "[1000]\ttrain's binary_logloss: 0.281189\tvalid's binary_logloss: 0.277794\n",
      "[1500]\ttrain's binary_logloss: 0.27642\tvalid's binary_logloss: 0.274528\n",
      "[2000]\ttrain's binary_logloss: 0.272109\tvalid's binary_logloss: 0.271699\n",
      "[2500]\ttrain's binary_logloss: 0.268011\tvalid's binary_logloss: 0.268952\n",
      "[3000]\ttrain's binary_logloss: 0.264186\tvalid's binary_logloss: 0.26641\n",
      "[3500]\ttrain's binary_logloss: 0.260552\tvalid's binary_logloss: 0.263883\n"
     ]
    }
   ],
   "source": [
    "gbm_all = lgb.train(\n",
    "                params,\n",
    "                lgb_train,\n",
    "                num_boost_round =3600,\n",
    "                valid_sets =[ lgb_train,lgb_evals],\n",
    "                valid_names = ['train','valid'],\n",
    "                verbose_eval = 500 \n",
    "               ) "
   ]
  },
  {
   "cell_type": "code",
   "execution_count": 521,
   "metadata": {},
   "outputs": [
    {
     "data": {
      "text/plain": [
       "<matplotlib.axes._subplots.AxesSubplot at 0x19c511dd8>"
      ]
     },
     "execution_count": 521,
     "metadata": {},
     "output_type": "execute_result"
    },
    {
     "data": {
      "image/png": "[encoded data removed]",
      "text/plain": [
       "<Figure size 1080x576 with 1 Axes>"
      ]
     },
     "metadata": {
      "needs_background": "light"
     },
     "output_type": "display_data"
    }
   ],
   "source": [
    "lgb.plot_importance(gbm_all, figsize=(15,8), max_num_features = 30)"
   ]
  },
  {
   "cell_type": "markdown",
   "metadata": {},
   "source": [
    "## Apply to validation set"
   ]
  },
  {
   "cell_type": "markdown",
   "metadata": {},
   "source": [
    "**Generate predictions**"
   ]
  },
  {
   "cell_type": "code",
   "execution_count": 522,
   "metadata": {},
   "outputs": [],
   "source": [
    "def get_best_mode_dt(gp):\n",
    "    result = [(x, y) for x, y in zip(gp['transport_mode'], gp['pred_prob'])]\n",
    "    result.sort(key = lambda x: x[1], reverse = True)\n",
    "    return result[0][0]"
   ]
  },
  {
   "cell_type": "code",
   "execution_count": 523,
   "metadata": {},
   "outputs": [],
   "source": [
    "def get_predictions_lgb(df, gbm, features):\n",
    "    pred = gbm.predict(df[features])\n",
    "    df['pred_prob'] = pred\n",
    "    output = pd.DataFrame(df.groupby('sid').apply(get_best_mode_dt)).reset_index()\n",
    "    output.columns = ['sid', 'recommend_mode']\n",
    "    return df, output "
   ]
  },
  {
   "cell_type": "code",
   "execution_count": 524,
   "metadata": {},
   "outputs": [],
   "source": [
    "X_eval, output = get_predictions_lgb(X_eval, gbm_all, features)"
   ]
  },
  {
   "cell_type": "code",
   "execution_count": 525,
   "metadata": {},
   "outputs": [
    {
     "data": {
      "text/plain": [
       "<matplotlib.axes._subplots.AxesSubplot at 0x191586c50>"
      ]
     },
     "execution_count": 525,
     "metadata": {},
     "output_type": "execute_result"
    },
    {
     "data": {
      "image/png": "[encoded data removed]",
      "text/plain": [
       "<Figure size 432x288 with 1 Axes>"
      ]
     },
     "metadata": {
      "needs_background": "light"
     },
     "output_type": "display_data"
    }
   ],
   "source": [
    "sns.countplot(output['recommend_mode'], color = 'blue') "
   ]
  },
  {
   "cell_type": "code",
   "execution_count": 526,
   "metadata": {},
   "outputs": [],
   "source": [
    "eval_true = X_eval[X_eval['label'] == 1][['sid','transport_mode']]\n",
    "eval_true.columns = ['sid','true']\n",
    "output.columns = ['sid', 'pred']\n",
    "eval_sum = eval_true.merge(output, on = 'sid')"
   ]
  },
  {
   "cell_type": "code",
   "execution_count": 527,
   "metadata": {},
   "outputs": [],
   "source": [
    "weight_f1 = f1_score(eval_sum['true'], eval_sum['pred'], average = 'weighted')"
   ]
  },
  {
   "cell_type": "code",
   "execution_count": 528,
   "metadata": {},
   "outputs": [
    {
     "data": {
      "text/plain": [
       "0.7710704279953497"
      ]
     },
     "execution_count": 528,
     "metadata": {},
     "output_type": "execute_result"
    }
   ],
   "source": [
    "weight_f1"
   ]
  },
  {
   "cell_type": "code",
   "execution_count": 529,
   "metadata": {},
   "outputs": [
    {
     "data": {
      "text/plain": [
       "<matplotlib.axes._subplots.AxesSubplot at 0x19c5f1630>"
      ]
     },
     "execution_count": 529,
     "metadata": {},
     "output_type": "execute_result"
    },
    {
     "data": {
      "image/png": "[encoded data removed]",
      "text/plain": [
       "<Figure size 432x432 with 2 Axes>"
      ]
     },
     "metadata": {
      "needs_background": "light"
     },
     "output_type": "display_data"
    }
   ],
   "source": [
    "plot_confusion_matrix_(eval_sum['true'], eval_sum['pred'], classes=list(range(1,12)))"
   ]
  },
  {
   "cell_type": "markdown",
   "metadata": {},
   "source": [
    "## Apply to test set"
   ]
  },
  {
   "cell_type": "code",
   "execution_count": 530,
   "metadata": {},
   "outputs": [
    {
     "name": "stdout",
     "output_type": "stream",
     "text": [
      "CPU times: user 2min 19s, sys: 1.11 s, total: 2min 20s\n",
      "Wall time: 21.4 s\n"
     ]
    }
   ],
   "source": [
    "%%time\n",
    "test_, output = get_predictions_lgb(test_, gbm_all, features)"
   ]
  },
  {
   "cell_type": "code",
   "execution_count": 531,
   "metadata": {},
   "outputs": [
    {
     "data": {
      "text/plain": [
       "<matplotlib.axes._subplots.AxesSubplot at 0x17da9b1d0>"
      ]
     },
     "execution_count": 531,
     "metadata": {},
     "output_type": "execute_result"
    },
    {
     "data": {
      "image/png": "[encoded data removed]",
      "text/plain": [
       "<Figure size 432x288 with 1 Axes>"
      ]
     },
     "metadata": {
      "needs_background": "light"
     },
     "output_type": "display_data"
    }
   ],
   "source": [
    "sns.countplot(output['recommend_mode'], color = 'blue')"
   ]
  },
  {
   "cell_type": "code",
   "execution_count": 473,
   "metadata": {
    "deletable": false,
    "editable": false,
    "run_control": {
     "frozen": true
    }
   },
   "outputs": [
    {
     "data": {
      "text/plain": [
       "<matplotlib.axes._subplots.AxesSubplot at 0x13ac7dda0>"
      ]
     },
     "execution_count": 473,
     "metadata": {},
     "output_type": "execute_result"
    },
    {
     "data": {
      "image/png": "[encoded data removed]",
      "text/plain": [
       "<Figure size 432x288 with 1 Axes>"
      ]
     },
     "metadata": {
      "needs_background": "light"
     },
     "output_type": "display_data"
    }
   ],
   "source": [
    "sns.countplot(output['recommend_mode'], color = 'blue') # 0.65740662"
   ]
  },
  {
   "cell_type": "markdown",
   "metadata": {},
   "source": [
    "**Result Adjustment 1**"
   ]
  },
  {
   "cell_type": "code",
   "execution_count": 282,
   "metadata": {
    "deletable": false,
    "editable": false,
    "run_control": {
     "frozen": true
    }
   },
   "outputs": [],
   "source": [
    "output = pd.read_csv('./submission/2019-05-28 21:17:09.989885/submission.csv') \n",
    "output['sid'] = output['sid'].astype(int)\n",
    "output['recommend_mode'] = output['recommend_mode'].astype(int)"
   ]
  },
  {
   "cell_type": "code",
   "execution_count": 1297,
   "metadata": {
    "deletable": false,
    "editable": false,
    "run_control": {
     "frozen": true
    }
   },
   "outputs": [
    {
     "data": {
      "text/plain": [
       "94358"
      ]
     },
     "execution_count": 1297,
     "metadata": {},
     "output_type": "execute_result"
    }
   ],
   "source": [
    "len(output)"
   ]
  },
  {
   "cell_type": "code",
   "execution_count": 532,
   "metadata": {},
   "outputs": [],
   "source": [
    "ll_cols = ['O_lon','O_lat','D_lon','D_lat','mode_list']"
   ]
  },
  {
   "cell_type": "code",
   "execution_count": 533,
   "metadata": {},
   "outputs": [],
   "source": [
    "x1 = train[train['label'] == 1].groupby(ll_cols)['sid'].agg({'tot_count':len}).reset_index()\n",
    "x2 = train[train['label'] == 1].groupby(ll_cols + ['transport_mode'])['sid'].agg({'mode_count':len}).reset_index()\\\n",
    "                                    .merge(x1, on = ll_cols).sort_values(by = ll_cols, ascending = False)\n",
    "x2['percent'] = x2['mode_count'] / x2['tot_count']"
   ]
  },
  {
   "cell_type": "code",
   "execution_count": 534,
   "metadata": {},
   "outputs": [],
   "source": [
    "x = x2[(x2['tot_count']>=10) & (x2['percent'] >= 1)]"
   ]
  },
  {
   "cell_type": "code",
   "execution_count": 535,
   "metadata": {},
   "outputs": [],
   "source": [
    "tmp_test = test.merge(output, on = 'sid')\n",
    "a1 = tmp_test[tmp_test['transport_mode'] == tmp_test['recommend_mode']].groupby(ll_cols)['sid'].agg({'test_tot_count':len}).reset_index()\n",
    "a2 = tmp_test[tmp_test['transport_mode'] == tmp_test['recommend_mode']].groupby(ll_cols + ['transport_mode'])['sid'].agg({'test_mode_count':len}).reset_index()\\\n",
    "                                    .merge(a1, on = ll_cols).sort_values(by = ll_cols, ascending = False)\n",
    "a2['test_percent'] = a2['test_mode_count'] / a2['test_tot_count']"
   ]
  },
  {
   "cell_type": "code",
   "execution_count": 536,
   "metadata": {},
   "outputs": [],
   "source": [
    "az = x.merge(a2, on = ll_cols + ['transport_mode'], how = 'left').sort_values(by = 'test_tot_count', ascending = False)"
   ]
  },
  {
   "cell_type": "code",
   "execution_count": 537,
   "metadata": {},
   "outputs": [
    {
     "data": {
      "text/html": [
       "<div>\n",
       "<style scoped>\n",
       "    .dataframe tbody tr th:only-of-type {\n",
       "        vertical-align: middle;\n",
       "    }\n",
       "\n",
       "    .dataframe tbody tr th {\n",
       "        vertical-align: top;\n",
       "    }\n",
       "\n",
       "    .dataframe thead th {\n",
       "        text-align: right;\n",
       "    }\n",
       "</style>\n",
       "<table border=\"1\" class=\"dataframe\">\n",
       "  <thead>\n",
       "    <tr style=\"text-align: right;\">\n",
       "      <th></th>\n",
       "      <th>O_lon</th>\n",
       "      <th>O_lat</th>\n",
       "      <th>D_lon</th>\n",
       "      <th>D_lat</th>\n",
       "      <th>mode_list</th>\n",
       "      <th>transport_mode</th>\n",
       "      <th>mode_count</th>\n",
       "      <th>tot_count</th>\n",
       "      <th>percent</th>\n",
       "      <th>test_mode_count</th>\n",
       "      <th>test_tot_count</th>\n",
       "      <th>test_percent</th>\n",
       "    </tr>\n",
       "  </thead>\n",
       "  <tbody>\n",
       "    <tr>\n",
       "      <th>480</th>\n",
       "      <td>116.31</td>\n",
       "      <td>39.98</td>\n",
       "      <td>116.32</td>\n",
       "      <td>40.00</td>\n",
       "      <td>1,2,3,4,5,6</td>\n",
       "      <td>2</td>\n",
       "      <td>13</td>\n",
       "      <td>13</td>\n",
       "      <td>1.0</td>\n",
       "      <td>2.0</td>\n",
       "      <td>4.0</td>\n",
       "      <td>0.500000</td>\n",
       "    </tr>\n",
       "    <tr>\n",
       "      <th>56</th>\n",
       "      <td>116.47</td>\n",
       "      <td>39.98</td>\n",
       "      <td>116.59</td>\n",
       "      <td>40.08</td>\n",
       "      <td>1,3,4,7</td>\n",
       "      <td>7</td>\n",
       "      <td>10</td>\n",
       "      <td>10</td>\n",
       "      <td>1.0</td>\n",
       "      <td>2.0</td>\n",
       "      <td>3.0</td>\n",
       "      <td>0.666667</td>\n",
       "    </tr>\n",
       "  </tbody>\n",
       "</table>\n",
       "</div>"
      ],
      "text/plain": [
       "      O_lon  O_lat   D_lon  D_lat    mode_list  transport_mode  mode_count  \\\n",
       "480  116.31  39.98  116.32  40.00  1,2,3,4,5,6               2          13   \n",
       "56   116.47  39.98  116.59  40.08      1,3,4,7               7          10   \n",
       "\n",
       "     tot_count  percent  test_mode_count  test_tot_count  test_percent  \n",
       "480         13      1.0              2.0             4.0      0.500000  \n",
       "56          10      1.0              2.0             3.0      0.666667  "
      ]
     },
     "metadata": {},
     "output_type": "display_data"
    },
    {
     "data": {
      "text/plain": [
       "3.0"
      ]
     },
     "execution_count": 537,
     "metadata": {},
     "output_type": "execute_result"
    }
   ],
   "source": [
    "fix = az[(az['test_percent'] < 0.95) & (az['test_tot_count'] >= 1)]\n",
    "display(fix)\n",
    "sum(fix['test_tot_count'] - fix['test_mode_count'])"
   ]
  },
  {
   "cell_type": "code",
   "execution_count": 538,
   "metadata": {},
   "outputs": [],
   "source": [
    "output_ = output.merge(test_[ll_cols + ['sid']], on = 'sid').drop_duplicates()\\\n",
    "                .merge(fix[ll_cols + ['transport_mode']], on = ll_cols, how = 'left')"
   ]
  },
  {
   "cell_type": "code",
   "execution_count": 539,
   "metadata": {},
   "outputs": [],
   "source": [
    "idx = ~output_['transport_mode'].isna()\n",
    "output_.loc[idx,'recommend_mode'] = output_.loc[idx,'transport_mode']"
   ]
  },
  {
   "cell_type": "code",
   "execution_count": 540,
   "metadata": {},
   "outputs": [],
   "source": [
    "output = output_[['sid','recommend_mode']]\n",
    "output['recommend_mode'] = output['recommend_mode'].astype('int64')"
   ]
  },
  {
   "cell_type": "code",
   "execution_count": 541,
   "metadata": {},
   "outputs": [
    {
     "data": {
      "text/plain": [
       "92571"
      ]
     },
     "execution_count": 541,
     "metadata": {},
     "output_type": "execute_result"
    }
   ],
   "source": [
    "len(output)"
   ]
  },
  {
   "cell_type": "markdown",
   "metadata": {},
   "source": [
    "**Result Adjustment 2**"
   ]
  },
  {
   "cell_type": "code",
   "execution_count": 407,
   "metadata": {
    "deletable": false,
    "editable": false,
    "run_control": {
     "frozen": true
    }
   },
   "outputs": [],
   "source": [
    "output = pd.read_csv('./submission/2019-05-26 13:09:33.190676/submission.csv') \n",
    "output['sid'] = output['sid'].astype(int)\n",
    "output['recommend_mode'] = output['recommend_mode'].astype(int)"
   ]
  },
  {
   "cell_type": "code",
   "execution_count": 542,
   "metadata": {},
   "outputs": [],
   "source": [
    "X = train[train['label']==1]\n",
    "x = pd.pivot_table(X[['pid','transport_mode']], index='pid', columns='transport_mode', aggfunc=len).fillna(0)\n",
    "mode_cols = ['mode' + str(x) for x in range(1,12)]\n",
    "x.columns = mode_cols \n",
    "x['sum'] = x.sum(axis = 1)\n",
    "for col in mode_cols:\n",
    "    x[col] = x[col] / x['sum']\n",
    "x['max'] = x[mode_cols].max(axis=1)\n",
    "x = x[(x['sum'] >= 5) & (x['max'] == 1)]"
   ]
  },
  {
   "cell_type": "code",
   "execution_count": 543,
   "metadata": {
    "scrolled": false
   },
   "outputs": [],
   "source": [
    "X = output.merge(test[['sid','pid','mode_list']], on ='sid').drop_duplicates().merge(x, on='pid')\n",
    "X['max_mode'] = X.apply(lambda row: np.argmax(row[mode_cols])[0] + 1, axis=1)\n",
    "X = X[~X['sid'].isin(no_click_sids)]\n",
    "X['modes'] = X['mode_list'].apply(lambda x: eval(x))\n",
    "X['flag'] = X.apply(lambda row: row['max_mode'] in row['modes'], axis = 1)\n",
    "X = X[X['flag']]\n",
    "X = X[['sid', 'max_mode']]"
   ]
  },
  {
   "cell_type": "code",
   "execution_count": 544,
   "metadata": {},
   "outputs": [
    {
     "name": "stdout",
     "output_type": "stream",
     "text": [
      "3\n"
     ]
    }
   ],
   "source": [
    "output = output.merge(X, how = 'left', on = 'sid')\n",
    "idx = ~output['max_mode'].isna()\n",
    "print(sum(output.loc[idx, 'recommend_mode'] != output.loc[idx, 'max_mode']))\n",
    "output.loc[idx, 'recommend_mode'] = output.loc[idx, 'max_mode']"
   ]
  },
  {
   "cell_type": "code",
   "execution_count": 545,
   "metadata": {},
   "outputs": [],
   "source": [
    "output['sid'] = output['sid'].astype(int)\n",
    "output['recommend_mode'] = output['recommend_mode'].astype(int)\n",
    "output = output[['sid','recommend_mode']]"
   ]
  },
  {
   "cell_type": "code",
   "execution_count": 546,
   "metadata": {},
   "outputs": [
    {
     "data": {
      "text/plain": [
       "92571"
      ]
     },
     "execution_count": 546,
     "metadata": {},
     "output_type": "execute_result"
    }
   ],
   "source": [
    "len(output)"
   ]
  },
  {
   "cell_type": "markdown",
   "metadata": {},
   "source": [
    "**Fill no-plan sessions with zeros**"
   ]
  },
  {
   "cell_type": "code",
   "execution_count": 547,
   "metadata": {},
   "outputs": [],
   "source": [
    "set_1 = all_test_sid\n",
    "set_2 = set(test_['sid'])\n",
    "no_click_sids = [x for x in set_1 if x not in set_2]\n",
    "temp = pd.DataFrame({'sid': no_click_sids, 'recommend_mode': 0})\n",
    "#temp = pd.DataFrame({'sid': no_click_sids, 'recommend_mode': 2})\n",
    "output = pd.concat([output, temp], axis = 0, ignore_index=True)"
   ]
  },
  {
   "cell_type": "code",
   "execution_count": 548,
   "metadata": {},
   "outputs": [
    {
     "data": {
      "text/plain": [
       "94358"
      ]
     },
     "execution_count": 548,
     "metadata": {},
     "output_type": "execute_result"
    }
   ],
   "source": [
    "len(output)"
   ]
  },
  {
   "cell_type": "markdown",
   "metadata": {},
   "source": [
    "**Quick comparison with best results**"
   ]
  },
  {
   "cell_type": "code",
   "execution_count": 549,
   "metadata": {},
   "outputs": [
    {
     "data": {
      "text/plain": [
       "3124"
      ]
     },
     "execution_count": 549,
     "metadata": {},
     "output_type": "execute_result"
    }
   ],
   "source": [
    "best = pd.read_csv('./submission/2019-05-28 21:17:09.989885/submission.csv') \n",
    "# downgraded, iter lambda 1 = 7.5, lambda_2 = 2, iter = 3600, 0.65747916\n",
    "sum(output['recommend_mode'] != best['recommend_mode'])"
   ]
  },
  {
   "cell_type": "code",
   "execution_count": 550,
   "metadata": {},
   "outputs": [
    {
     "data": {
      "text/plain": [
       "3103"
      ]
     },
     "execution_count": 550,
     "metadata": {},
     "output_type": "execute_result"
    }
   ],
   "source": [
    "best = pd.read_csv('./submission/2019-05-26 13:09:33.190676/submission.csv') \n",
    "# downgraded, iter lambda 1 = 7.5, lambda_2 = 2, iter = 3300, 0.65740662\n",
    "sum(output['recommend_mode'] != best['recommend_mode'])"
   ]
  },
  {
   "cell_type": "code",
   "execution_count": 551,
   "metadata": {},
   "outputs": [
    {
     "data": {
      "text/plain": [
       "2961"
      ]
     },
     "execution_count": 551,
     "metadata": {},
     "output_type": "execute_result"
    }
   ],
   "source": [
    "best = pd.read_csv('./submission/2019-05-25 10:52:54.094274/submission.csv') \n",
    "# downgraded, iter lambda 1 = 7.5, lambda_2 = 2, iter = 3300, 0.65730720\n",
    "sum(output['recommend_mode'] != best['recommend_mode'])"
   ]
  },
  {
   "cell_type": "markdown",
   "metadata": {},
   "source": [
    "**Export csv**"
   ]
  },
  {
   "cell_type": "code",
   "execution_count": 552,
   "metadata": {},
   "outputs": [],
   "source": [
    "time_ = str(datetime.datetime.now())\n",
    "mkdir('./submission/' + time_)"
   ]
  },
  {
   "cell_type": "code",
   "execution_count": 553,
   "metadata": {},
   "outputs": [
    {
     "name": "stdout",
     "output_type": "stream",
     "text": [
      "2019-05-29 23:35:23.399992\n"
     ]
    }
   ],
   "source": [
    "print(time_)"
   ]
  },
  {
   "cell_type": "code",
   "execution_count": 554,
   "metadata": {},
   "outputs": [],
   "source": [
    "output['sid'] = output['sid'].astype(str)\n",
    "output['recommend_mode'] = output['recommend_mode'].astype(str)\n",
    "output.to_csv('./submission/' + time_ + '/submission.csv', index = False, quoting = csv.QUOTE_NONNUMERIC)"
   ]
  },
  {
   "cell_type": "markdown",
   "metadata": {
    "heading_collapsed": true
   },
   "source": [
    "#  Explore results"
   ]
  },
  {
   "cell_type": "code",
   "execution_count": 239,
   "metadata": {
    "deletable": false,
    "editable": false,
    "hidden": true,
    "run_control": {
     "frozen": true
    }
   },
   "outputs": [],
   "source": [
    "def plt_ht(df):\n",
    "    output = None\n",
    "    for i in range(min(df['week_no']), max(df['week_no']+1)):\n",
    "        x = df[(df['label']==1) & (df['week_no'] == i)]\n",
    "        temp = pd.DataFrame(x['transport_mode'].value_counts()/len(x) * 100).reset_index()\n",
    "        temp.columns = ['mode','percent']\n",
    "        temp['week_no'] = i\n",
    "        try:\n",
    "            output = pd.concat([output, temp], axis=0, ignore_index=True)\n",
    "        except:\n",
    "            output = temp\n",
    "\n",
    "    plt.figure(figsize=(10,8))\n",
    "    sns.heatmap(output.pivot(\"mode\", \"week_no\", \"percent\"), annot=True, fmt=\".2f\")"
   ]
  },
  {
   "cell_type": "code",
   "execution_count": 57,
   "metadata": {
    "deletable": false,
    "editable": false,
    "hidden": true,
    "run_control": {
     "frozen": true
    }
   },
   "outputs": [],
   "source": [
    "train_, output = get_predictions_lgb(train_, gbm_all, features)\n",
    "train_with_result = train_[['sid', 'week_no']]\\\n",
    "    .merge(output,on='sid')\\\n",
    "    .rename(columns = {'recommend_mode':'transport_mode'})\n",
    "train_with_result['label']=1"
   ]
  },
  {
   "cell_type": "code",
   "execution_count": 58,
   "metadata": {
    "deletable": false,
    "editable": false,
    "hidden": true,
    "run_control": {
     "frozen": true
    }
   },
   "outputs": [],
   "source": [
    "test_, output = get_predictions_lgb(test_, gbm_all, features)\n",
    "test_with_result = test_[['sid', 'week_no']]\\\n",
    "    .merge(output,on='sid')\\\n",
    "    .rename(columns = {'recommend_mode':'transport_mode'})\n",
    "test_with_result['label']=1"
   ]
  },
  {
   "cell_type": "code",
   "execution_count": 59,
   "metadata": {
    "deletable": false,
    "editable": false,
    "hidden": true,
    "run_control": {
     "frozen": true
    }
   },
   "outputs": [],
   "source": [
    "test_with_result['week_no'] = test_with_result['week_no'] + 180"
   ]
  },
  {
   "cell_type": "code",
   "execution_count": 60,
   "metadata": {
    "deletable": false,
    "editable": false,
    "hidden": true,
    "run_control": {
     "frozen": true
    }
   },
   "outputs": [
    {
     "data": {
      "image/png": "[encoded data removed]",
      "text/plain": [
       "<Figure size 720x576 with 2 Axes>"
      ]
     },
     "metadata": {
      "needs_background": "light"
     },
     "output_type": "display_data"
    }
   ],
   "source": [
    "plt_ht(train)"
   ]
  },
  {
   "cell_type": "code",
   "execution_count": 62,
   "metadata": {
    "deletable": false,
    "editable": false,
    "hidden": true,
    "run_control": {
     "frozen": true
    }
   },
   "outputs": [
    {
     "data": {
      "image/png": "[encoded data removed]",
      "text/plain": [
       "<Figure size 720x576 with 2 Axes>"
      ]
     },
     "metadata": {
      "needs_background": "light"
     },
     "output_type": "display_data"
    }
   ],
   "source": [
    "plt_ht(pd.concat([train_with_result, test_with_result], axis = 0, ignore_index = True))"
   ]
  },
  {
   "cell_type": "code",
   "execution_count": null,
   "metadata": {
    "hidden": true
   },
   "outputs": [],
   "source": []
  }
 ],
 "metadata": {
  "kernelspec": {
   "display_name": "Python 3",
   "language": "python",
   "name": "python3"
  },
  "language_info": {
   "codemirror_mode": {
    "name": "ipython",
    "version": 3
   },
   "file_extension": ".py",
   "mimetype": "text/x-python",
   "name": "python",
   "nbconvert_exporter": "python",
   "pygments_lexer": "ipython3",
   "version": "3.7.2"
  },
  "toc": {
   "base_numbering": 1,
   "nav_menu": {
    "height": "12px",
    "width": "164px"
   },
   "number_sections": true,
   "sideBar": true,
   "skip_h1_title": false,
   "title_cell": "Table of Contents",
   "title_sidebar": "Contents",
   "toc_cell": false,
   "toc_position": {
    "height": "calc(100% - 180px)",
    "left": "10px",
    "top": "150px",
    "width": "285.554px"
   },
   "toc_section_display": true,
   "toc_window_display": true
  }
 },
 "nbformat": 4,
 "nbformat_minor": 2
}
