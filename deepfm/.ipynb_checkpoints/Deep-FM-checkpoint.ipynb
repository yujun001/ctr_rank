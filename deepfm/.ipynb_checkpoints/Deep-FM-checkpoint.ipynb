{
 "cells": [
  {
   "cell_type": "code",
   "execution_count": 1,
   "metadata": {},
   "outputs": [
    {
     "name": "stderr",
     "output_type": "stream",
     "text": [
      "/Users/shiwang/Desktop/Personal/test_API/env/lib/python3.7/site-packages/lightgbm/__init__.py:46: UserWarning: Starting from version 2.2.1, the library file in distribution wheels for macOS is built by the Apple Clang (Xcode_8.3.3) compiler.\n",
      "This means that in case of installing LightGBM from PyPI via the ``pip install lightgbm`` command, you don't need to install the gcc compiler anymore.\n",
      "Instead of that, you need to install the OpenMP library, which is required for running LightGBM on the system with the Apple Clang compiler.\n",
      "You can install the OpenMP library by the following command: ``brew install libomp``.\n",
      "  \"You can install the OpenMP library by the following command: ``brew install libomp``.\", UserWarning)\n",
      "Using TensorFlow backend.\n"
     ]
    }
   ],
   "source": [
    "import numpy as np\n",
    "import csv\n",
    "import io\n",
    "from os import mkdir\n",
    "import itertools\n",
    "import json\n",
    "import datetime\n",
    "import pandas as pd \n",
    "import pickle\n",
    "import seaborn as sns\n",
    "from sklearn.model_selection import train_test_split\n",
    "from sklearn.metrics import f1_score, confusion_matrix\n",
    "import lightgbm as lgb\n",
    "import matplotlib.pyplot as plt\n",
    "from util.plot_funcs import *\n",
    "from random import uniform\n",
    "from imblearn.over_sampling import RandomOverSampler\n",
    "%load_ext autoreload\n",
    "%autoreload 2\n",
    "import warnings\n",
    "import tensorflow.keras.backend as K\n",
    "from sklearn import preprocessing\n",
    "from IPython.display import SVG\n",
    "from tensorflow.keras.models import Model\n",
    "from keras.utils import plot_model\n",
    "from tensorflow.keras.preprocessing.sequence import pad_sequences\n",
    "from keras.utils.vis_utils import model_to_dot\n",
    "from tensorflow.keras.callbacks import TensorBoard, EarlyStopping, ModelCheckpoint\n",
    "from tensorflow.keras.layers import *\n",
    "pd.set_option('display.max_columns', 500)\n",
    "pd.set_option('display.max_rows', 500)\n",
    "warnings.filterwarnings('ignore')"
   ]
  },
  {
   "cell_type": "code",
   "execution_count": 2,
   "metadata": {},
   "outputs": [],
   "source": [
    "def show_model(model):\n",
    "    return model_to_dot(model, show_shapes=True, show_layer_names=True, rankdir='HB').create(prog='dot', format='svg')"
   ]
  },
  {
   "cell_type": "markdown",
   "metadata": {},
   "source": [
    "# Load processed data"
   ]
  },
  {
   "cell_type": "code",
   "execution_count": 103,
   "metadata": {},
   "outputs": [
    {
     "name": "stdout",
     "output_type": "stream",
     "text": [
      "CPU times: user 1.02 s, sys: 1.09 s, total: 2.11 s\n",
      "Wall time: 2.11 s\n"
     ]
    }
   ],
   "source": [
    "%%time\n",
    "with open('./processed_data/data.pickle', 'rb') as handle:\n",
    "    data = pickle.load(handle)\n",
    "train = data['train']\n",
    "test = data['test']\n",
    "all_test_sid = data['all_test_sid']"
   ]
  },
  {
   "cell_type": "code",
   "execution_count": 132,
   "metadata": {},
   "outputs": [],
   "source": [
    "continuous_features = [\n",
    " 'lon_diff',\n",
    " 'lat_diff',\n",
    " 'distance',\n",
    " 'price',\n",
    " 'eta',\n",
    " 'O_lon',\n",
    " 'O_lat',\n",
    " 'D_lon',\n",
    " 'D_lat',\n",
    " 'num_plans',\n",
    " 'eta_per_distance',\n",
    " 'price_per_distance',\n",
    " 'mode_hr_clicks',\n",
    " 'mode_dow_clicks',\n",
    " 'mode_rank_clicks',\n",
    " 'eta_min', \n",
    " 'eta_max', \n",
    " 'distance_min', \n",
    " 'distance_max', \n",
    " 'price_max',\n",
    " 'price_per_eta',\n",
    " 'man_distance',\n",
    " 'mode_mode_list_clicks',\n",
    " 'is_night', \n",
    " 'is_weekend'\n",
    "] "
   ]
  },
  {
   "cell_type": "code",
   "execution_count": 133,
   "metadata": {},
   "outputs": [],
   "source": [
    "discrete_features = [\n",
    "    'dow',\n",
    "    'hr',\n",
    "    'transport_mode',\n",
    "    'price_NA',\n",
    "    'rank'\n",
    "]"
   ]
  },
  {
   "cell_type": "code",
   "execution_count": 134,
   "metadata": {},
   "outputs": [],
   "source": [
    "multi_features = [\n",
    " 'profile'\n",
    " #'mode_list'\n",
    "]"
   ]
  },
  {
   "cell_type": "code",
   "execution_count": 135,
   "metadata": {},
   "outputs": [
    {
     "name": "stdout",
     "output_type": "stream",
     "text": [
      "[]\n",
      "['sid', 'pid', 'date', 'p0', 'p2', 'p3', 'p7', 'p8', 'p9', 'p10', 'p13', 'p26', 'p27', 'p28', 'p29', 'p30', 'p31', 'p32', 'p33', 'p34', 'p35', 'p36', 'p37', 'p38', 'p47', 'p54', 'p60', 'p62', 'p63', 'label', 'price_min', 'mode_list', 'weight']\n"
     ]
    }
   ],
   "source": [
    "features_ = continuous_features + discrete_features + multi_features\n",
    "print([x for x in features_ if x not in train.columns])\n",
    "print([x for x in train.columns if x not in features_])"
   ]
  },
  {
   "cell_type": "code",
   "execution_count": 108,
   "metadata": {
    "deletable": false,
    "editable": false,
    "run_control": {
     "frozen": true
    }
   },
   "outputs": [],
   "source": [
    "profile_cols = ['p'+str(x) for x in range(66) if 'p'+str(x) in train.columns]\n",
    "for idx, col in zip(range(len(profile_cols)), profile_cols):\n",
    "    train[col] = train[col].apply(lambda x: idx + 1 if x == 1 else 0)\n",
    "    test[col]  = test[col].apply(lambda x: idx + 1 if x == 1 else 0)"
   ]
  },
  {
   "cell_type": "code",
   "execution_count": 109,
   "metadata": {
    "deletable": false,
    "editable": false,
    "run_control": {
     "frozen": true
    }
   },
   "outputs": [],
   "source": [
    "train['profile'] = train[profile_cols].values.tolist()\n",
    "test['profile']  = test[profile_cols].values.tolist()\n",
    "train['profile'] = train['profile'].apply(lambda x:[xx for xx in x if xx != 0])\n",
    "test['profile']  = test['profile'].apply(lambda x:[xx for xx in x if xx != 0])"
   ]
  },
  {
   "cell_type": "code",
   "execution_count": 127,
   "metadata": {},
   "outputs": [
    {
     "name": "stdout",
     "output_type": "stream",
     "text": [
      "There is a total of 25 Continuous features.\n",
      "There is a total of 5 Single-Level categorical features.\n",
      "There is a total of 5 Multiple-Level categorical features.\n"
     ]
    }
   ],
   "source": [
    "L_con = len(continuous_features)\n",
    "print('There is a total of', L_con, 'Continuous features.')\n",
    "L_dis = len(discrete_features)\n",
    "print('There is a total of', L_dis , 'Single-Level categorical features.')\n",
    "L_mul = len(multi_features)\n",
    "print('There is a total of', L_dis , 'Multiple-Level categorical features.')"
   ]
  },
  {
   "cell_type": "code",
   "execution_count": 128,
   "metadata": {},
   "outputs": [
    {
     "name": "stdout",
     "output_type": "stream",
     "text": [
      "dow 0 6 7\n",
      "hr 0 23 24\n",
      "transport_mode 0 10 11\n",
      "price_NA 0 1 2\n",
      "rank 0 6 7\n"
     ]
    }
   ],
   "source": [
    "dis_feature_dim = {}\n",
    "le = preprocessing.LabelEncoder()\n",
    "for feature in discrete_features:\n",
    "    le.fit(train[feature])\n",
    "    train[feature] = le.transform(train[feature])\n",
    "    test[feature] = le.transform(test[feature])\n",
    "    leng = len(set(train[feature]))\n",
    "    max_num = max(train[feature])\n",
    "    min_num = min(train[feature])\n",
    "    dis_feature_dim[feature] = leng \n",
    "    print(feature, min_num, max_num, leng)"
   ]
  },
  {
   "cell_type": "code",
   "execution_count": 129,
   "metadata": {},
   "outputs": [
    {
     "name": "stdout",
     "output_type": "stream",
     "text": [
      "profile 0 26 26\n"
     ]
    }
   ],
   "source": [
    "mul_feature_dim = {}\n",
    "for feature in multi_features:\n",
    "    max_num = 1\n",
    "    min_num = 1\n",
    "    for x in train[feature]:\n",
    "        for xx in x:\n",
    "            max_num = max(max_num, xx)\n",
    "            min_num = min(min_num, xx)\n",
    "    leng = max_num\n",
    "    mul_feature_dim[feature] = leng + 1\n",
    "    train[feature] = list(pad_sequences(train[feature], maxlen = max_num, padding='post', value = 0))\n",
    "    test[feature]  = list(pad_sequences(test[feature],  maxlen = max_num, padding='post', value = 0))\n",
    "    print(feature, min_num, max_num, leng)"
   ]
  },
  {
   "cell_type": "code",
   "execution_count": 130,
   "metadata": {},
   "outputs": [
    {
     "name": "stdout",
     "output_type": "stream",
     "text": [
      "CPU times: user 13.4 s, sys: 1.9 s, total: 15.3 s\n",
      "Wall time: 15.5 s\n"
     ]
    }
   ],
   "source": [
    "%%time\n",
    "data = {'train': train, 'test':test}\n",
    "with open('./processed_data/data_fm.pickle', 'wb') as handle:\n",
    "    pickle.dump(data, handle)"
   ]
  },
  {
   "cell_type": "code",
   "execution_count": 131,
   "metadata": {},
   "outputs": [
    {
     "name": "stdout",
     "output_type": "stream",
     "text": [
      "CPU times: user 4.65 s, sys: 1.56 s, total: 6.21 s\n",
      "Wall time: 6.21 s\n"
     ]
    }
   ],
   "source": [
    "%%time\n",
    "with open('./processed_data/data_fm.pickle', 'rb') as handle:\n",
    "    data = pickle.load(handle)\n",
    "\n",
    "train = data['train']\n",
    "test = data['test']"
   ]
  },
  {
   "cell_type": "code",
   "execution_count": 136,
   "metadata": {},
   "outputs": [],
   "source": [
    "train_ = train[train['num_plans'] > 1].fillna(0)\n",
    "test_ = test.copy()"
   ]
  },
  {
   "cell_type": "code",
   "execution_count": 137,
   "metadata": {},
   "outputs": [
    {
     "name": "stdout",
     "output_type": "stream",
     "text": [
      "lon_diff 0.0014554203205879215 0.08002415190658232\n",
      "lat_diff -0.0008543644715982937 0.06526621826173815\n",
      "distance 14889.123787252118 10898.257371892982\n",
      "price 1546.2471977282917 1706.419129023922\n",
      "eta 2690.9265912051715 1406.1018457956172\n",
      "O_lon 116.38485419408488 0.07284178768150774\n",
      "O_lat 39.93695292210555 0.0628241779241549\n",
      "D_lon 116.38360532354503 0.07341200940018383\n",
      "D_lat 39.93642545876878 0.061647867320551816\n",
      "num_plans 4.586909233009864 0.49238901987619066\n",
      "eta_per_distance 1.0581201790680492 0.32123902702687707\n",
      "price_per_distance 1.2932142404992912 0.8974260346598989\n",
      "mode_hr_clicks 0.20433944112372968 0.18548773530679485\n",
      "mode_dow_clicks 0.206085030038208 0.18310442455804654\n",
      "mode_rank_clicks 0.1868545378618458 0.25009330543057057\n",
      "eta_min 301420.8133450776 340835.31080397073\n",
      "eta_max 0.6932276204670985 0.2358243204189502\n",
      "distance_min 1.1088590363801936 0.13891700588210154\n",
      "distance_max 0.8946988779961487 0.11235145609326667\n",
      "price_max 0.3067521201596811 0.3950047776634666\n",
      "price_per_eta 1.1780552443627679 0.6614138975006\n",
      "man_distance 837.7940765970676 714.6296481264678\n",
      "mode_mode_list_clicks 0.1963012787195142 0.21970726963524034\n",
      "is_night nan nan\n",
      "is_weekend nan nan\n"
     ]
    }
   ],
   "source": [
    "for col in continuous_features:\n",
    "    data = pd.concat([train_[col], test_[col]])\n",
    "    data = data[(data < data.quantile(.95)) & (data > data.quantile(.05))]\n",
    "    mean_ = data.mean()\n",
    "    std_  = data.std()\n",
    "    train_[col] = (train_[col] - mean_) / std_\n",
    "    train_[col] = np.minimum(2.5, train_[col])\n",
    "    train_[col] = np.maximum(-2.5, train_[col])\n",
    "    test_[col]  = (test_[col]  - mean_) / std_\n",
    "    test_[col] = np.minimum(2.5, test_[col])\n",
    "    test_[col] = np.maximum(-2.5, test_[col])\n",
    "    print(col, mean_, std_)"
   ]
  },
  {
   "cell_type": "code",
   "execution_count": 181,
   "metadata": {},
   "outputs": [],
   "source": [
    "temp = pd.DataFrame(train_[(train_['label'] == 1)]['transport_mode'].value_counts()).reset_index().sort_values(by = 'index')\n",
    "temp.columns = ['transport_mode', 'weight']\n",
    "temp['weight'] = np.sqrt(1 / temp['weight'] * 10000)\n",
    "base_weights = temp\n",
    "\n",
    "if 'weight' in train_.columns:\n",
    "    del train_['weight']\n",
    "adjusts = [1, 1, 3, 2, 1, 1.5, 2, 1, 3, 1.5, 1]\n",
    "weights = base_weights.copy()\n",
    "for idx, adjust in zip(range(1,12), adjusts):\n",
    "    weights.loc[weights['transport_mode'] == idx, 'weight'] = \\\n",
    "    weights.loc[weights['transport_mode'] == idx, 'weight'] * adjust\n",
    "\n",
    "weights['label'] = 1\n",
    "train_ = train_.merge(weights, on = ['transport_mode','label'], how = 'left')\n",
    "train_['weight'] = train_['weight'].fillna(1)"
   ]
  },
  {
   "cell_type": "code",
   "execution_count": 182,
   "metadata": {},
   "outputs": [],
   "source": [
    "sid_train = list(set(train_[(train_['date'] <  datetime.date(2018, 11, 24)) & \\\n",
    "                            (train_['date'] >  datetime.date(2018, 10, 7))]['sid']))\n",
    "sid_eval  = list(set(train_[train_['date'] >= datetime.date(2018, 11, 24)]['sid']))"
   ]
  },
  {
   "cell_type": "code",
   "execution_count": 406,
   "metadata": {
    "deletable": false,
    "editable": false,
    "run_control": {
     "frozen": true
    }
   },
   "outputs": [],
   "source": [
    "sid_train, sid_eval = train_test_split(list(set(train_['sid'])), test_size=0.15, random_state=88)"
   ]
  },
  {
   "cell_type": "code",
   "execution_count": 183,
   "metadata": {},
   "outputs": [],
   "source": [
    "X_train = train_[train_['sid'].isin(sid_train)]\n",
    "X_eval  = train_[train_['sid'].isin(sid_eval)]\n",
    "y_train = train_[train_['sid'].isin(sid_train)]['label']\n",
    "y_eval  = train_[train_['sid'].isin(sid_eval)]['label']"
   ]
  },
  {
   "cell_type": "code",
   "execution_count": 184,
   "metadata": {},
   "outputs": [],
   "source": [
    "X_train_ = [list(X_train[col][:-1]) for col in features_]\n",
    "X_eval_  = [list(X_eval[col])  for col in features_]\n",
    "y_train_ = y_train[:-1]\n",
    "y_eval_  = y_eval\n",
    "X_test_  = [list(test_[col]) for col in features_]\n",
    "weights  = X_train['weight'][:-1]"
   ]
  },
  {
   "cell_type": "markdown",
   "metadata": {},
   "source": [
    "# Define Network"
   ]
  },
  {
   "cell_type": "markdown",
   "metadata": {},
   "source": [
    "<img src=\"./figure/deepfm.png\" width=\"600\">"
   ]
  },
  {
   "cell_type": "markdown",
   "metadata": {},
   "source": [
    "## Define 1st order Factorization Machine layer"
   ]
  },
  {
   "cell_type": "markdown",
   "metadata": {},
   "source": [
    "Embed all features into K dimension"
   ]
  },
  {
   "cell_type": "code",
   "execution_count": 185,
   "metadata": {},
   "outputs": [],
   "source": [
    "KK = 1"
   ]
  },
  {
   "cell_type": "code",
   "execution_count": 186,
   "metadata": {},
   "outputs": [],
   "source": [
    "fea_num_1ds = []\n",
    "for feature in continuous_features:\n",
    "    fea_num_1ds.append(Input((1,), name = 'input_con_1d_' + feature))"
   ]
  },
  {
   "cell_type": "code",
   "execution_count": 187,
   "metadata": {},
   "outputs": [],
   "source": [
    "fea_dis_1ds = []\n",
    "for feature in discrete_features:\n",
    "    fea_dis_1ds.append(Input((1,), name = 'input_dis_1d_' + feature))"
   ]
  },
  {
   "cell_type": "code",
   "execution_count": 188,
   "metadata": {},
   "outputs": [],
   "source": [
    "fea_mul_1ds = []\n",
    "for feature in multi_features:\n",
    "    dim = mul_feature_dim[feature]\n",
    "    fea_mul_1ds.append(Input((dim - 1,), name = 'input_mul_1d_' + feature))"
   ]
  },
  {
   "cell_type": "code",
   "execution_count": 189,
   "metadata": {},
   "outputs": [],
   "source": [
    "inputs = fea_num_1ds + fea_dis_1ds + fea_mul_1ds"
   ]
  },
  {
   "cell_type": "code",
   "execution_count": 190,
   "metadata": {},
   "outputs": [],
   "source": [
    "num_dense_1ds = []\n",
    "for feature, fea_num_1d in zip(continuous_features, fea_num_1ds):\n",
    "    num_dense_1ds.append(Dense(KK, name = 'num_dense_1d_'+ feature)(fea_num_1d))"
   ]
  },
  {
   "cell_type": "code",
   "execution_count": 191,
   "metadata": {},
   "outputs": [],
   "source": [
    "dis_embed_1ds = []\n",
    "for feature, fea_dis_1d in zip(discrete_features, fea_dis_1ds):\n",
    "    dim = dis_feature_dim[feature]\n",
    "    dis_embed_1ds.append(Embedding(dim, KK, name = 'dis_embed_1d_' + feature)(fea_dis_1d))"
   ]
  },
  {
   "cell_type": "code",
   "execution_count": 192,
   "metadata": {},
   "outputs": [],
   "source": [
    "dis_embed_1ds = [Reshape((KK,))(i) for i in dis_embed_1ds]"
   ]
  },
  {
   "cell_type": "code",
   "execution_count": 193,
   "metadata": {},
   "outputs": [],
   "source": [
    "mul_embed_1ds = []\n",
    "for feature, fea_mul_1d in zip(multi_features, fea_mul_1ds):\n",
    "    dim = mul_feature_dim[feature]\n",
    "    mul_embed_1ds.append(Embedding(dim, KK, mask_zero = True, name = 'mul_embed_1d_' + feature)(fea_mul_1d))"
   ]
  },
  {
   "cell_type": "code",
   "execution_count": 194,
   "metadata": {},
   "outputs": [],
   "source": [
    "def Tensor_Mean_Pooling(keepdims = False):\n",
    "    return Lambda(lambda x: K.mean(x, axis = 1, keepdims=keepdims))"
   ]
  },
  {
   "cell_type": "code",
   "execution_count": 195,
   "metadata": {},
   "outputs": [],
   "source": [
    "mul_embed_1ds = [Tensor_Mean_Pooling()(i) for i in mul_embed_1ds]"
   ]
  },
  {
   "cell_type": "code",
   "execution_count": 196,
   "metadata": {},
   "outputs": [],
   "source": [
    "y_fm_1d = Add(name = 'fm_1d_output')(num_dense_1ds + dis_embed_1ds + mul_embed_1ds)"
   ]
  },
  {
   "cell_type": "code",
   "execution_count": 197,
   "metadata": {},
   "outputs": [],
   "source": [
    "fm_model_1d = Model(inputs, y_fm_1d)\n",
    "#SVG(show_model(fm_model_1d))"
   ]
  },
  {
   "cell_type": "markdown",
   "metadata": {},
   "source": [
    "## Define 2nd order Factorization Machine layer"
   ]
  },
  {
   "cell_type": "markdown",
   "metadata": {},
   "source": [
    "Embed all features into K dimension"
   ]
  },
  {
   "cell_type": "code",
   "execution_count": 198,
   "metadata": {},
   "outputs": [],
   "source": [
    "KK = 10"
   ]
  },
  {
   "cell_type": "code",
   "execution_count": 199,
   "metadata": {},
   "outputs": [],
   "source": [
    "num_dense_2ds = []\n",
    "for feature, fea_num_1d in zip(continuous_features, fea_num_1ds):\n",
    "    num_dense_2ds.append(Dense(KK, name = 'num_dense_2d_'+ feature)(fea_num_1d))"
   ]
  },
  {
   "cell_type": "code",
   "execution_count": 200,
   "metadata": {},
   "outputs": [],
   "source": [
    "num_dense_2ds = [Reshape((1, KK))(i) for i in num_dense_2ds]"
   ]
  },
  {
   "cell_type": "code",
   "execution_count": 201,
   "metadata": {},
   "outputs": [],
   "source": [
    "dis_embed_2ds = []\n",
    "for feature, fea_dis_1d in zip(discrete_features, fea_dis_1ds):\n",
    "    dim = dis_feature_dim[feature]\n",
    "    dis_embed_2ds.append(Embedding(dim, KK, name = 'dis_embed_2d_' + feature)(fea_dis_1d))"
   ]
  },
  {
   "cell_type": "code",
   "execution_count": 202,
   "metadata": {},
   "outputs": [],
   "source": [
    "mul_embed_2ds = []\n",
    "for feature, fea_mul_1d in zip(multi_features, fea_mul_1ds):\n",
    "    dim = mul_feature_dim[feature]\n",
    "    mul_embed_2ds.append(Embedding(dim, KK, name = 'mul_embed_2d_' + feature)(fea_mul_1d))"
   ]
  },
  {
   "cell_type": "code",
   "execution_count": 203,
   "metadata": {},
   "outputs": [],
   "source": [
    "mul_embed_2ds = [Tensor_Mean_Pooling(keepdims = True)(i) for i in mul_embed_2ds]"
   ]
  },
  {
   "cell_type": "code",
   "execution_count": 204,
   "metadata": {},
   "outputs": [],
   "source": [
    "embed_2ds = num_dense_2ds + dis_embed_2ds + mul_embed_2ds\n",
    "embed_2ds_concat = Concatenate(axis=1, name = 'embed_2ds_concat')(embed_2ds)\n",
    "flat_2ds = [Flatten()(i) for i in embed_2ds]"
   ]
  },
  {
   "cell_type": "markdown",
   "metadata": {},
   "source": [
    "***To be simplified***"
   ]
  },
  {
   "cell_type": "code",
   "execution_count": 205,
   "metadata": {},
   "outputs": [],
   "source": [
    "fm_layers_2ds = []\n",
    "for emb1,emb2 in itertools.combinations(flat_2ds, 2):\n",
    "    fm_layers_2ds.append(dot([emb1,emb2], axes = 1, normalize=False))"
   ]
  },
  {
   "cell_type": "code",
   "execution_count": 206,
   "metadata": {},
   "outputs": [],
   "source": [
    "y_fm_2d = Add()(fm_layers_2ds)"
   ]
  },
  {
   "cell_type": "code",
   "execution_count": 207,
   "metadata": {},
   "outputs": [
    {
     "data": {
      "text/plain": [
       "TensorShape([Dimension(None), Dimension(1)])"
      ]
     },
     "execution_count": 207,
     "metadata": {},
     "output_type": "execute_result"
    }
   ],
   "source": [
    "y_fm_2d.shape"
   ]
  },
  {
   "cell_type": "code",
   "execution_count": 208,
   "metadata": {},
   "outputs": [],
   "source": [
    "fm_model_2d = Model(inputs, y_fm_2d)\n",
    "#SVG(show_model(fm_model_2d))"
   ]
  },
  {
   "cell_type": "markdown",
   "metadata": {},
   "source": [
    "## Define Deep NN layers"
   ]
  },
  {
   "cell_type": "code",
   "execution_count": 209,
   "metadata": {},
   "outputs": [],
   "source": [
    "flat_embed_2d = Flatten(name = 'flat_embed_2ds')(embed_2ds_concat)"
   ]
  },
  {
   "cell_type": "code",
   "execution_count": 210,
   "metadata": {},
   "outputs": [],
   "source": [
    "dropout = 0.5"
   ]
  },
  {
   "cell_type": "code",
   "execution_count": 211,
   "metadata": {},
   "outputs": [],
   "source": [
    "dnn_layer_dims = [128,64, 32]\n",
    "y_dnn = flat_embed_2d\n",
    "for dim in dnn_layer_dims:\n",
    "    y_dnn = Dropout(dropout)(y_dnn)\n",
    "    y_dnn = Dense(dim, activation='relu')(y_dnn)"
   ]
  },
  {
   "cell_type": "code",
   "execution_count": 212,
   "metadata": {},
   "outputs": [],
   "source": [
    "dnn_output = Dense(1, activation='relu', name = 'dnn_output')(y_dnn)"
   ]
  },
  {
   "cell_type": "code",
   "execution_count": 213,
   "metadata": {},
   "outputs": [],
   "source": [
    "deep_model = Model(inputs, dnn_output)\n",
    "#SVG(show_model(deep_model))"
   ]
  },
  {
   "cell_type": "markdown",
   "metadata": {},
   "source": [
    "## Merge all layers"
   ]
  },
  {
   "cell_type": "code",
   "execution_count": 214,
   "metadata": {},
   "outputs": [],
   "source": [
    "y = Concatenate()([y_fm_1d, y_fm_2d, dnn_output])\n",
    "y_output = Dense(1, activation='sigmoid',name = 'deepfm_output')(y)"
   ]
  },
  {
   "cell_type": "code",
   "execution_count": 215,
   "metadata": {},
   "outputs": [],
   "source": [
    "deepfm_model = Model(inputs, y_output)\n",
    "#SVG(show_model(deepfm_model))"
   ]
  },
  {
   "cell_type": "code",
   "execution_count": 63,
   "metadata": {
    "deletable": false,
    "editable": false,
    "run_control": {
     "frozen": true
    }
   },
   "outputs": [],
   "source": [
    "plot_model(deepfm_model, to_file='./figure/model.png', show_shapes=True)"
   ]
  },
  {
   "cell_type": "markdown",
   "metadata": {},
   "source": [
    "# Train Model"
   ]
  },
  {
   "cell_type": "code",
   "execution_count": 216,
   "metadata": {},
   "outputs": [],
   "source": [
    "epochs = 3\n",
    "batch_size = 2048"
   ]
  },
  {
   "cell_type": "code",
   "execution_count": 217,
   "metadata": {},
   "outputs": [],
   "source": [
    "deepfm_model.compile(loss = 'binary_crossentropy', optimizer = 'adam')"
   ]
  },
  {
   "cell_type": "code",
   "execution_count": 218,
   "metadata": {},
   "outputs": [
    {
     "name": "stdout",
     "output_type": "stream",
     "text": [
      "Train on 1482563 samples, validate on 221774 samples\n",
      "WARNING:tensorflow:From /Users/shiwang/Desktop/Personal/test_API/env/lib/python3.7/site-packages/tensorflow/python/ops/math_ops.py:3066: to_int32 (from tensorflow.python.ops.math_ops) is deprecated and will be removed in a future version.\n",
      "Instructions for updating:\n",
      "Use tf.cast instead.\n",
      "Epoch 1/3\n",
      "1482563/1482563 [==============================] - 89s 60us/sample - loss: nan - val_loss: nan\n",
      "Epoch 2/3\n",
      "1482563/1482563 [==============================] - 65s 44us/sample - loss: nan - val_loss: nan\n",
      "Epoch 3/3\n",
      "1482563/1482563 [==============================] - 63s 42us/sample - loss: nan - val_loss: nan\n"
     ]
    }
   ],
   "source": [
    "# 0.32\n",
    "train_history = deepfm_model.fit( X_train_, \n",
    "                                  y_train_, \n",
    "                                  epochs = epochs, \n",
    "                                  batch_size = batch_size, \n",
    "                                  validation_data = (X_eval_, y_eval_),\n",
    "                                  sample_weight = np.array(weights),\n",
    "                                  shuffle = True)"
   ]
  },
  {
   "cell_type": "markdown",
   "metadata": {},
   "source": [
    "\n",
    "# Apply to validation set"
   ]
  },
  {
   "cell_type": "code",
   "execution_count": 770,
   "metadata": {},
   "outputs": [],
   "source": [
    "# copied\n",
    "def get_best_mode_dt(gp):\n",
    "    result = [(x, y) for x, y in zip(gp['transport_mode'], gp['pred_prob'])]\n",
    "    result.sort(key = lambda x: x[1], reverse = True)\n",
    "    return result[0][0]"
   ]
  },
  {
   "cell_type": "code",
   "execution_count": 771,
   "metadata": {},
   "outputs": [],
   "source": [
    "def get_predictions_deepfm(df, deepfm_model, X):\n",
    "    pred = deepfm_model.predict(X, batch_size = 1024)\n",
    "    pred = [x[0] for x in pred]\n",
    "    df['pred_prob'] = pred\n",
    "    output = pd.DataFrame(df.groupby('sid').apply(get_best_mode_dt)).reset_index()\n",
    "    output.columns = ['sid', 'recommend_mode']\n",
    "    output['recommend_mode'] = output['recommend_mode'] + 1\n",
    "    return df, output "
   ]
  },
  {
   "cell_type": "code",
   "execution_count": 772,
   "metadata": {},
   "outputs": [
    {
     "name": "stdout",
     "output_type": "stream",
     "text": [
      "CPU times: user 1min 4s, sys: 16.3 s, total: 1min 20s\n",
      "Wall time: 1min 26s\n"
     ]
    }
   ],
   "source": [
    "%%time\n",
    "X_eval, output = get_predictions_deepfm(X_eval, deepfm_model, X_eval_)"
   ]
  },
  {
   "cell_type": "code",
   "execution_count": 773,
   "metadata": {},
   "outputs": [
    {
     "name": "stdout",
     "output_type": "stream",
     "text": [
      "0.6254288386409234\n"
     ]
    },
    {
     "data": {
      "text/plain": [
       "<matplotlib.axes._subplots.AxesSubplot at 0x1c44811d0>"
      ]
     },
     "execution_count": 773,
     "metadata": {},
     "output_type": "execute_result"
    },
    {
     "data": {
      "image/png": "[encoded data removed]",
      "text/plain": [
       "<Figure size 432x432 with 2 Axes>"
      ]
     },
     "metadata": {
      "needs_background": "light"
     },
     "output_type": "display_data"
    }
   ],
   "source": [
    "# copied\n",
    "eval_true = X_eval[X_eval['label'] == 1][['sid','transport_mode']]\n",
    "eval_true['transport_mode'] = eval_true['transport_mode'] + 1\n",
    "eval_true.columns = ['sid','true']\n",
    "output.columns = ['sid', 'pred']\n",
    "eval_sum = eval_true.merge(output, on = 'sid')\n",
    "weight_f1 = f1_score(eval_sum['true'], eval_sum['pred'], average = 'weighted')\n",
    "print(weight_f1) #0.745, 0.747\n",
    "plot_confusion_matrix_(eval_sum['true'], eval_sum['pred'], classes=list(range(1,12)))"
   ]
  },
  {
   "cell_type": "code",
   "execution_count": 774,
   "metadata": {},
   "outputs": [
    {
     "data": {
      "text/plain": [
       "<matplotlib.axes._subplots.AxesSubplot at 0x23952a470>"
      ]
     },
     "execution_count": 774,
     "metadata": {},
     "output_type": "execute_result"
    },
    {
     "data": {
      "image/png": "[encoded data removed]",
      "text/plain": [
       "<Figure size 432x288 with 1 Axes>"
      ]
     },
     "metadata": {
      "needs_background": "light"
     },
     "output_type": "display_data"
    }
   ],
   "source": [
    "sns.countplot(output['pred'], color = 'blue')"
   ]
  },
  {
   "cell_type": "markdown",
   "metadata": {},
   "source": [
    "# Apply to test set"
   ]
  },
  {
   "cell_type": "code",
   "execution_count": 716,
   "metadata": {},
   "outputs": [
    {
     "name": "stdout",
     "output_type": "stream",
     "text": [
      "CPU times: user 37.7 s, sys: 3.07 s, total: 40.8 s\n",
      "Wall time: 33.2 s\n"
     ]
    }
   ],
   "source": [
    "%%time\n",
    "test_, output = get_predictions_deepfm(test_, deepfm_model, X_test_)"
   ]
  },
  {
   "cell_type": "markdown",
   "metadata": {},
   "source": [
    "**Fill no-plan sessions with zeros**"
   ]
  },
  {
   "cell_type": "code",
   "execution_count": 717,
   "metadata": {},
   "outputs": [],
   "source": [
    "set_1 = all_test_sid\n",
    "set_2 = set(test['sid'])\n",
    "no_click_sids = [x for x in set_1 if x not in set_2]\n",
    "temp = pd.DataFrame({'sid': no_click_sids, 'recommend_mode':0})\n",
    "output = pd.concat([output, temp], axis = 0, ignore_index=True)"
   ]
  },
  {
   "cell_type": "code",
   "execution_count": 718,
   "metadata": {},
   "outputs": [
    {
     "data": {
      "text/plain": [
       "<matplotlib.axes._subplots.AxesSubplot at 0x1a97cc780>"
      ]
     },
     "execution_count": 718,
     "metadata": {},
     "output_type": "execute_result"
    },
    {
     "data": {
      "image/png": "[encoded data removed]",
      "text/plain": [
       "<Figure size 432x288 with 1 Axes>"
      ]
     },
     "metadata": {
      "needs_background": "light"
     },
     "output_type": "display_data"
    }
   ],
   "source": [
    "sns.countplot(output['recommend_mode'], color = 'blue')"
   ]
  },
  {
   "cell_type": "markdown",
   "metadata": {},
   "source": [
    "**Export csv**"
   ]
  },
  {
   "cell_type": "code",
   "execution_count": 661,
   "metadata": {},
   "outputs": [],
   "source": [
    "time_ = str(datetime.datetime.now())\n",
    "mkdir('./submission/' + time_)"
   ]
  },
  {
   "cell_type": "code",
   "execution_count": 662,
   "metadata": {},
   "outputs": [],
   "source": [
    "output['sid'] = output['sid'].astype(str)\n",
    "output['recommend_mode'] = output['recommend_mode'].astype(str)\n",
    "output.to_csv('./submission/' + time_ + '/submission.csv', index = False, quoting = csv.QUOTE_NONNUMERIC)"
   ]
  },
  {
   "cell_type": "code",
   "execution_count": null,
   "metadata": {},
   "outputs": [],
   "source": []
  }
 ],
 "metadata": {
  "kernelspec": {
   "display_name": "Python 3",
   "language": "python",
   "name": "python3"
  },
  "language_info": {
   "codemirror_mode": {
    "name": "ipython",
    "version": 3
   },
   "file_extension": ".py",
   "mimetype": "text/x-python",
   "name": "python",
   "nbconvert_exporter": "python",
   "pygments_lexer": "ipython3",
   "version": "3.7.2"
  },
  "toc": {
   "base_numbering": 1,
   "nav_menu": {},
   "number_sections": true,
   "sideBar": true,
   "skip_h1_title": false,
   "title_cell": "Table of Contents",
   "title_sidebar": "Contents",
   "toc_cell": false,
   "toc_position": {
    "height": "calc(100% - 180px)",
    "left": "10px",
    "top": "150px",
    "width": "165px"
   },
   "toc_section_display": true,
   "toc_window_display": true
  }
 },
 "nbformat": 4,
 "nbformat_minor": 2
}
