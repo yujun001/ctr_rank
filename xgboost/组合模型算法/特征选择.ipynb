{
 "cells": [
  {
   "cell_type": "code",
   "execution_count": 25,
   "metadata": {
    "collapsed": true
   },
   "outputs": [],
   "source": [
    "import numpy as np\n",
    "import pandas as pd\n",
    "import xgboost as xgb\n",
    "from xgboost.sklearn import XGBClassifier    #分类器\n",
    "from sklearn import cross_validation,metrics #交叉验证、模型评估\n",
    "from sklearn.grid_search import GridSearchCV #参数选择\n",
    "\n",
    "import matplotlib.pylab as plt  \n",
    "%matplotlib inline\n",
    "\n",
    "from matplotlib.pylab import rcParams   #fea_imp 图像大小\n",
    "rcParams['figure.figsize']=12,4"
   ]
  },
  {
   "cell_type": "code",
   "execution_count": 26,
   "metadata": {},
   "outputs": [],
   "source": [
    "train=pd.read_csv('train_gai.csv')\n",
    "test=pd.read_csv('test_gai.csv')  #test 测试集无标签，没用上"
   ]
  },
  {
   "cell_type": "code",
   "execution_count": 27,
   "metadata": {},
   "outputs": [
    {
     "data": {
      "text/plain": [
       "((87020, 82), (37717, 81))"
      ]
     },
     "execution_count": 27,
     "metadata": {},
     "output_type": "execute_result"
    }
   ],
   "source": [
    "train.shape,test.shape"
   ]
  },
  {
   "cell_type": "code",
   "execution_count": 28,
   "metadata": {},
   "outputs": [
    {
     "data": {
      "text/html": [
       "<div>\n",
       "<style scoped>\n",
       "    .dataframe tbody tr th:only-of-type {\n",
       "        vertical-align: middle;\n",
       "    }\n",
       "\n",
       "    .dataframe tbody tr th {\n",
       "        vertical-align: top;\n",
       "    }\n",
       "\n",
       "    .dataframe thead th {\n",
       "        text-align: right;\n",
       "    }\n",
       "</style>\n",
       "<table border=\"1\" class=\"dataframe\">\n",
       "  <thead>\n",
       "    <tr style=\"text-align: right;\">\n",
       "      <th></th>\n",
       "      <th>Disbursed</th>\n",
       "      <th>Existing_EMI</th>\n",
       "      <th>ID</th>\n",
       "      <th>Loan_Amount_Applied</th>\n",
       "      <th>Loan_Tenure_Applied</th>\n",
       "      <th>Monthly_Income</th>\n",
       "      <th>Var4</th>\n",
       "      <th>Var5</th>\n",
       "      <th>Age</th>\n",
       "      <th>Var1_0</th>\n",
       "      <th>...</th>\n",
       "      <th>Filled_Form_1</th>\n",
       "      <th>Device_Type_0</th>\n",
       "      <th>Device_Type_1</th>\n",
       "      <th>Mobile_Verified_0</th>\n",
       "      <th>Mobile_Verified_1</th>\n",
       "      <th>Processing_Fee_Missing</th>\n",
       "      <th>Loan_Amount_Submitted_Missing</th>\n",
       "      <th>Loan_Tenure_Submitted_Missing</th>\n",
       "      <th>EMI_Loan_Submitted_Missing</th>\n",
       "      <th>Interest_Rate_Missing</th>\n",
       "    </tr>\n",
       "  </thead>\n",
       "  <tbody>\n",
       "    <tr>\n",
       "      <th>0</th>\n",
       "      <td>0.0</td>\n",
       "      <td>0.0</td>\n",
       "      <td>ID000002C20</td>\n",
       "      <td>300000.0</td>\n",
       "      <td>5.0</td>\n",
       "      <td>20000</td>\n",
       "      <td>1</td>\n",
       "      <td>0</td>\n",
       "      <td>39</td>\n",
       "      <td>0</td>\n",
       "      <td>...</td>\n",
       "      <td>0</td>\n",
       "      <td>0</td>\n",
       "      <td>1</td>\n",
       "      <td>1</td>\n",
       "      <td>0</td>\n",
       "      <td>1</td>\n",
       "      <td>1</td>\n",
       "      <td>1</td>\n",
       "      <td>1</td>\n",
       "      <td>1</td>\n",
       "    </tr>\n",
       "    <tr>\n",
       "      <th>1</th>\n",
       "      <td>0.0</td>\n",
       "      <td>0.0</td>\n",
       "      <td>ID000004E40</td>\n",
       "      <td>200000.0</td>\n",
       "      <td>2.0</td>\n",
       "      <td>35000</td>\n",
       "      <td>3</td>\n",
       "      <td>13</td>\n",
       "      <td>32</td>\n",
       "      <td>0</td>\n",
       "      <td>...</td>\n",
       "      <td>0</td>\n",
       "      <td>0</td>\n",
       "      <td>1</td>\n",
       "      <td>0</td>\n",
       "      <td>1</td>\n",
       "      <td>1</td>\n",
       "      <td>0</td>\n",
       "      <td>0</td>\n",
       "      <td>0</td>\n",
       "      <td>0</td>\n",
       "    </tr>\n",
       "  </tbody>\n",
       "</table>\n",
       "<p>2 rows × 82 columns</p>\n",
       "</div>"
      ],
      "text/plain": [
       "   Disbursed  Existing_EMI           ID  Loan_Amount_Applied  \\\n",
       "0        0.0           0.0  ID000002C20             300000.0   \n",
       "1        0.0           0.0  ID000004E40             200000.0   \n",
       "\n",
       "   Loan_Tenure_Applied  Monthly_Income  Var4  Var5  Age  Var1_0  \\\n",
       "0                  5.0           20000     1     0   39       0   \n",
       "1                  2.0           35000     3    13   32       0   \n",
       "\n",
       "           ...            Filled_Form_1  Device_Type_0  Device_Type_1  \\\n",
       "0          ...                        0              0              1   \n",
       "1          ...                        0              0              1   \n",
       "\n",
       "   Mobile_Verified_0  Mobile_Verified_1  Processing_Fee_Missing  \\\n",
       "0                  1                  0                       1   \n",
       "1                  0                  1                       1   \n",
       "\n",
       "   Loan_Amount_Submitted_Missing  Loan_Tenure_Submitted_Missing  \\\n",
       "0                              1                              1   \n",
       "1                              0                              0   \n",
       "\n",
       "   EMI_Loan_Submitted_Missing  Interest_Rate_Missing  \n",
       "0                           1                      1  \n",
       "1                           0                      0  \n",
       "\n",
       "[2 rows x 82 columns]"
      ]
     },
     "execution_count": 28,
     "metadata": {},
     "output_type": "execute_result"
    }
   ],
   "source": [
    "train.head(2)"
   ]
  },
  {
   "cell_type": "code",
   "execution_count": 29,
   "metadata": {},
   "outputs": [
    {
     "data": {
      "text/html": [
       "<div>\n",
       "<style scoped>\n",
       "    .dataframe tbody tr th:only-of-type {\n",
       "        vertical-align: middle;\n",
       "    }\n",
       "\n",
       "    .dataframe tbody tr th {\n",
       "        vertical-align: top;\n",
       "    }\n",
       "\n",
       "    .dataframe thead th {\n",
       "        text-align: right;\n",
       "    }\n",
       "</style>\n",
       "<table border=\"1\" class=\"dataframe\">\n",
       "  <thead>\n",
       "    <tr style=\"text-align: right;\">\n",
       "      <th></th>\n",
       "      <th>Existing_EMI</th>\n",
       "      <th>ID</th>\n",
       "      <th>Loan_Amount_Applied</th>\n",
       "      <th>Loan_Tenure_Applied</th>\n",
       "      <th>Monthly_Income</th>\n",
       "      <th>Var4</th>\n",
       "      <th>Var5</th>\n",
       "      <th>Age</th>\n",
       "      <th>Var1_0</th>\n",
       "      <th>Var1_1</th>\n",
       "      <th>...</th>\n",
       "      <th>Filled_Form_1</th>\n",
       "      <th>Device_Type_0</th>\n",
       "      <th>Device_Type_1</th>\n",
       "      <th>Mobile_Verified_0</th>\n",
       "      <th>Mobile_Verified_1</th>\n",
       "      <th>Processing_Fee_Missing</th>\n",
       "      <th>Loan_Amount_Submitted_Missing</th>\n",
       "      <th>Loan_Tenure_Submitted_Missing</th>\n",
       "      <th>EMI_Loan_Submitted_Missing</th>\n",
       "      <th>Interest_Rate_Missing</th>\n",
       "    </tr>\n",
       "  </thead>\n",
       "  <tbody>\n",
       "    <tr>\n",
       "      <th>0</th>\n",
       "      <td>0.0</td>\n",
       "      <td>ID000026A10</td>\n",
       "      <td>100000.0</td>\n",
       "      <td>3.0</td>\n",
       "      <td>21500</td>\n",
       "      <td>3</td>\n",
       "      <td>3</td>\n",
       "      <td>30</td>\n",
       "      <td>0</td>\n",
       "      <td>0</td>\n",
       "      <td>...</td>\n",
       "      <td>0</td>\n",
       "      <td>0</td>\n",
       "      <td>1</td>\n",
       "      <td>0</td>\n",
       "      <td>1</td>\n",
       "      <td>0</td>\n",
       "      <td>0</td>\n",
       "      <td>0</td>\n",
       "      <td>0</td>\n",
       "      <td>0</td>\n",
       "    </tr>\n",
       "    <tr>\n",
       "      <th>1</th>\n",
       "      <td>0.0</td>\n",
       "      <td>ID000054C40</td>\n",
       "      <td>0.0</td>\n",
       "      <td>0.0</td>\n",
       "      <td>42000</td>\n",
       "      <td>5</td>\n",
       "      <td>8</td>\n",
       "      <td>37</td>\n",
       "      <td>0</td>\n",
       "      <td>1</td>\n",
       "      <td>...</td>\n",
       "      <td>1</td>\n",
       "      <td>1</td>\n",
       "      <td>0</td>\n",
       "      <td>0</td>\n",
       "      <td>1</td>\n",
       "      <td>0</td>\n",
       "      <td>0</td>\n",
       "      <td>0</td>\n",
       "      <td>0</td>\n",
       "      <td>0</td>\n",
       "    </tr>\n",
       "  </tbody>\n",
       "</table>\n",
       "<p>2 rows × 81 columns</p>\n",
       "</div>"
      ],
      "text/plain": [
       "   Existing_EMI           ID  Loan_Amount_Applied  Loan_Tenure_Applied  \\\n",
       "0           0.0  ID000026A10             100000.0                  3.0   \n",
       "1           0.0  ID000054C40                  0.0                  0.0   \n",
       "\n",
       "   Monthly_Income  Var4  Var5  Age  Var1_0  Var1_1          ...            \\\n",
       "0           21500     3     3   30       0       0          ...             \n",
       "1           42000     5     8   37       0       1          ...             \n",
       "\n",
       "   Filled_Form_1  Device_Type_0  Device_Type_1  Mobile_Verified_0  \\\n",
       "0              0              0              1                  0   \n",
       "1              1              1              0                  0   \n",
       "\n",
       "   Mobile_Verified_1  Processing_Fee_Missing  Loan_Amount_Submitted_Missing  \\\n",
       "0                  1                       0                              0   \n",
       "1                  1                       0                              0   \n",
       "\n",
       "   Loan_Tenure_Submitted_Missing  EMI_Loan_Submitted_Missing  \\\n",
       "0                              0                           0   \n",
       "1                              0                           0   \n",
       "\n",
       "   Interest_Rate_Missing  \n",
       "0                      0  \n",
       "1                      0  \n",
       "\n",
       "[2 rows x 81 columns]"
      ]
     },
     "execution_count": 29,
     "metadata": {},
     "output_type": "execute_result"
    }
   ],
   "source": [
    "test.head(2)"
   ]
  },
  {
   "cell_type": "code",
   "execution_count": 30,
   "metadata": {},
   "outputs": [
    {
     "data": {
      "text/plain": [
       "0.0    85747\n",
       "1.0     1273\n",
       "Name: Disbursed, dtype: int64"
      ]
     },
     "execution_count": 30,
     "metadata": {},
     "output_type": "execute_result"
    }
   ],
   "source": [
    "train['Disbursed'].value_counts()"
   ]
  },
  {
   "cell_type": "code",
   "execution_count": 31,
   "metadata": {
    "collapsed": true
   },
   "outputs": [],
   "source": [
    "target='Disbursed'\n",
    "IDcol='ID'"
   ]
  },
  {
   "cell_type": "markdown",
   "metadata": {},
   "source": [
    "#alg 分类器，predictors 特征列表，提前停止"
   ]
  },
  {
   "cell_type": "code",
   "execution_count": null,
   "metadata": {
    "collapsed": true
   },
   "outputs": [],
   "source": [
    "## Define a function for modeling and cross-validation\n",
    "This function will do the following:\n",
    "1. fit the model\n",
    "2. determine training accuracy\n",
    "3. determine training AUC\n",
    "4. determine testing AUC\n",
    "5. update n_estimators with cv function of xgboost package\n",
    "6. plot Feature Importance "
   ]
  },
  {
   "cell_type": "code",
   "execution_count": 32,
   "metadata": {
    "collapsed": true
   },
   "outputs": [],
   "source": [
    "def modelfit(alg, dtrain, dtest, predictors,useTrainCV=True, cv_folds=5, early_stopping_rounds=50):\n",
    "    \n",
    "    #基于当前参数集合，得到最佳的弱分类器个数'n_estimators'\n",
    "    if useTrainCV: \n",
    "        xgb_param = alg.get_xgb_params()  #将当前变量取出\n",
    "        xgtrain = xgb.DMatrix(dtrain[predictors].values, label=dtrain[target].values)   #构造训练集     \n",
    "        xgtest = xgb.DMatrix(dtest[predictors].values)                                  #构造测试集合\n",
    "        cvresult = xgb.cv(xgb_param, xgtrain, num_boost_round=alg.get_params()['n_estimators'], nfold=cv_folds,\n",
    "            metrics='auc', early_stopping_rounds=early_stopping_rounds)      #进行交叉验证\n",
    "        print(cvresult.shape[0])   \n",
    "        alg.set_params(n_estimators=cvresult.shape[0])  #n_estimators 弱分类器个数\n",
    "    \n",
    "    #基于分类器算法，对模型进行训练\n",
    "    alg.fit(dtrain[predictors], dtrain['Disbursed'],eval_metric='auc')\n",
    "    \n",
    "    #对训练集合进行预测\n",
    "    dtrain_predictions = alg.predict(dtrain[predictors])          #输出0，1 \n",
    "    dtrain_predprob = alg.predict_proba(dtrain[predictors])[:,1]  #预测各个样本为1的概率，第0列为0的概率\n",
    "        \n",
    "    #输出模型评分结果\n",
    "    print(\"\\nModel Report\")\n",
    "    print(\"Accuracy : %.4g\" % metrics.accuracy_score(dtrain['Disbursed'].values, dtrain_predictions)) #真实与预测比较评估\n",
    "    print(\"AUC Score (Train): %f\" % metrics.roc_auc_score(dtrain['Disbursed'], dtrain_predprob)) \n",
    "    \n",
    "    #得到所有弱分类器f得分(AUC，召回率），重要性降序排序\n",
    "    feat_imp = pd.Series(alg.booster().get_fscore()).sort_values(ascending=False)    \n",
    "    feat_imp.plot(kind='bar', title='Feature Importances')\n",
    "    plt.ylabel('Feature Importance Score')"
   ]
  },
  {
   "cell_type": "code",
   "execution_count": 33,
   "metadata": {
    "scrolled": false
   },
   "outputs": [
    {
     "name": "stdout",
     "output_type": "stream",
     "text": [
      "145\n",
      "\n",
      "Model Report\n",
      "Accuracy : 0.9855\n",
      "AUC Score (Train): 0.902977\n"
     ]
    },
    {
     "data": {
      "image/png": "[encoded data removed]",
      "text/plain": [
       "<matplotlib.figure.Figure at 0x1a1119cef0>"
      ]
     },
     "metadata": {},
     "output_type": "display_data"
    }
   ],
   "source": [
    "predictors = [x for x in train.columns if x not in [target, IDcol]]  #对所有变量属性选取，除了'Disbursed'和‘ID’；\n",
    "xgb1 = XGBClassifier(\n",
    "        learning_rate =0.1,          #学习率eta, 算法训练时，每一步的更新步长\n",
    "        n_estimators=1000,           #弱分类器的个数\n",
    "        max_depth=5,                 #树的最大深度\n",
    "        min_child_weight=1,          #叶子节点中，样本的权重和\n",
    "        gamma=0,                       #控制训练时每一颗树叶叶子节点，正则项，防过拟合\n",
    "        subsample=0.8,                 #模型训练子样本占全部集合的比例，防过拟合\n",
    "        colsample_bytree=0.8,          #构建树时对特征的采样比例\n",
    "        objective= 'binary:logistic',  #二分类’binary:logistic'；线性回归‘reg:linear'\n",
    "        nthread=4,                     #计算线程数目\n",
    "        scale_pos_weight=1,            #正负样本平衡权重         \n",
    "        seed=27)                       #随机数种子或者random_seed\n",
    "\n",
    "modelfit(xgb1, train, test, predictors) #当前模型基础上，进行分类器的训练选择"
   ]
  },
  {
   "cell_type": "markdown",
   "metadata": {},
   "source": [
    "调节参数'max_depth','min_child_weight','gamma','subsample','colsample_bytree','reg_alpha'"
   ]
  },
  {
   "cell_type": "code",
   "execution_count": null,
   "metadata": {
    "collapsed": true
   },
   "outputs": [],
   "source": [
    "#调参的基本方法\n",
    "1.Generally a learning rate of 0.1 works but somewhere between 0.05 to 0.3 should work for different problems. \n",
    "Determine the optimum number of trees for this learning rate. XGBoost has a very useful function called as “cv” \n",
    "which performs cross-validation at each boosting iteration and thus returns the optimum number of trees required.\n",
    "2.Tune tree-specific parameters ( max_depth, min_child_weight, gamma, subsample, colsample_bytree) for decided \n",
    "learning rate and number of trees. Note that we can choose different parameters to define a tree.\n",
    "3.Tune regularization parameters (lambda, alpha) for xgboost which can help reduce model complexity and enhance \n",
    "performance.\n",
    "4.Lower the learning rate and decide the optimal parameters."
   ]
  },
  {
   "cell_type": "markdown",
   "metadata": {},
   "source": [
    "# 调整'max_depth','min_child_weight'参数，5，1中心"
   ]
  },
  {
   "cell_type": "code",
   "execution_count": 45,
   "metadata": {},
   "outputs": [
    {
     "data": {
      "text/plain": [
       "GridSearchCV(cv=5, error_score='raise',\n",
       "       estimator=XGBClassifier(base_score=0.5, colsample_bylevel=1, colsample_bytree=0.8,\n",
       "       gamma=0, learning_rate=0.1, max_delta_step=0, max_depth=5,\n",
       "       min_child_weight=1, missing=None, n_estimators=145, nthread=4,\n",
       "       objective='binary:logistic', reg_alpha=0, reg_lambda=1,\n",
       "       scale_pos_weight=1, seed=27, silent=True, subsample=0.8),\n",
       "       fit_params={}, iid=False, n_jobs=4,\n",
       "       param_grid={'max_depth': [3, 5, 7, 9], 'min_child_weight': [1, 3, 5]},\n",
       "       pre_dispatch='2*n_jobs', refit=True, scoring='roc_auc', verbose=0)"
      ]
     },
     "execution_count": 45,
     "metadata": {},
     "output_type": "execute_result"
    }
   ],
   "source": [
    "param_test1 = {\n",
    "    'max_depth':list(range(3,10,2)),\n",
    "    'min_child_weight':list(range(1,6,2))}\n",
    "gsearch1 = GridSearchCV(\n",
    "    estimator=XGBClassifier(\n",
    "        learning_rate =0.1, \n",
    "        n_estimators=145, \n",
    "        max_depth=5,                                   \n",
    "        min_child_weight=1, \n",
    "        gamma=0, \n",
    "        subsample=0.8, \n",
    "        colsample_bytree=0.8,                                   \n",
    "        objective= 'binary:logistic', \n",
    "        nthread=4, \n",
    "        scale_pos_weight=1, \n",
    "        seed=27\n",
    "    ), \n",
    "    param_grid = param_test1, \n",
    "    scoring='roc_auc',\n",
    "    n_jobs=4,\n",
    "    iid=False, \n",
    "    cv=5\n",
    ")\n",
    "gsearch1.fit(train[predictors],train[target])   "
   ]
  },
  {
   "cell_type": "code",
   "execution_count": 46,
   "metadata": {},
   "outputs": [
    {
     "data": {
      "text/plain": [
       "[mean: 0.84432, std: 0.00614, params: {'max_depth': 3, 'min_child_weight': 1},\n",
       " mean: 0.84425, std: 0.00629, params: {'max_depth': 3, 'min_child_weight': 3},\n",
       " mean: 0.84374, std: 0.00575, params: {'max_depth': 3, 'min_child_weight': 5},\n",
       " mean: 0.84819, std: 0.00675, params: {'max_depth': 5, 'min_child_weight': 1},\n",
       " mean: 0.84724, std: 0.00578, params: {'max_depth': 5, 'min_child_weight': 3},\n",
       " mean: 0.84690, std: 0.00575, params: {'max_depth': 5, 'min_child_weight': 5},\n",
       " mean: 0.84328, std: 0.00543, params: {'max_depth': 7, 'min_child_weight': 1},\n",
       " mean: 0.84146, std: 0.00601, params: {'max_depth': 7, 'min_child_weight': 3},\n",
       " mean: 0.84107, std: 0.00698, params: {'max_depth': 7, 'min_child_weight': 5},\n",
       " mean: 0.83500, std: 0.00661, params: {'max_depth': 9, 'min_child_weight': 1},\n",
       " mean: 0.83600, std: 0.00658, params: {'max_depth': 9, 'min_child_weight': 3},\n",
       " mean: 0.83644, std: 0.00582, params: {'max_depth': 9, 'min_child_weight': 5}]"
      ]
     },
     "execution_count": 46,
     "metadata": {},
     "output_type": "execute_result"
    }
   ],
   "source": [
    "gsearch1.grid_scores_"
   ]
  },
  {
   "cell_type": "code",
   "execution_count": 47,
   "metadata": {},
   "outputs": [
    {
     "data": {
      "text/plain": [
       "{'max_depth': 5, 'min_child_weight': 1}"
      ]
     },
     "execution_count": 47,
     "metadata": {},
     "output_type": "execute_result"
    }
   ],
   "source": [
    "gsearch1.best_params_"
   ]
  },
  {
   "cell_type": "code",
   "execution_count": 48,
   "metadata": {},
   "outputs": [
    {
     "data": {
      "text/plain": [
       "0.8481940234847519"
      ]
     },
     "execution_count": 48,
     "metadata": {},
     "output_type": "execute_result"
    }
   ],
   "source": [
    "gsearch1.best_score_"
   ]
  },
  {
   "cell_type": "markdown",
   "metadata": {},
   "source": [
    "# 'max_depth': 5, 'min_child_weight': 1  ，步长大，需缩小范围"
   ]
  },
  {
   "cell_type": "code",
   "execution_count": 49,
   "metadata": {},
   "outputs": [
    {
     "data": {
      "text/plain": [
       "GridSearchCV(cv=5, error_score='raise',\n",
       "       estimator=XGBClassifier(base_score=0.5, colsample_bylevel=1, colsample_bytree=0.8,\n",
       "       gamma=0, learning_rate=0.1, max_delta_step=0, max_depth=5,\n",
       "       min_child_weight=1, missing=None, n_estimators=145, nthread=4,\n",
       "       objective='binary:logistic', reg_alpha=0, reg_lambda=1,\n",
       "       scale_pos_weight=1, seed=27, silent=True, subsample=0.8),\n",
       "       fit_params={}, iid=False, n_jobs=4,\n",
       "       param_grid={'max_depth': [4, 5, 6], 'min_child_weight': [1, 2, 3]},\n",
       "       pre_dispatch='2*n_jobs', refit=True, scoring='roc_auc', verbose=0)"
      ]
     },
     "execution_count": 49,
     "metadata": {},
     "output_type": "execute_result"
    }
   ],
   "source": [
    "param_test2 = {\n",
    "    'max_depth':[4,5,6],\n",
    "    'min_child_weight':[1,2,3]}\n",
    "gsearch2 = GridSearchCV(\n",
    "    estimator=XGBClassifier(\n",
    "        learning_rate =0.1, \n",
    "        n_estimators=145, \n",
    "        max_depth=5,                                   \n",
    "        min_child_weight=1, \n",
    "        gamma=0, \n",
    "        subsample=0.8, \n",
    "        colsample_bytree=0.8,                                   \n",
    "        objective= 'binary:logistic', \n",
    "        nthread=4, \n",
    "        scale_pos_weight=1, \n",
    "        seed=27\n",
    "    ), \n",
    "    param_grid = param_test2, \n",
    "    scoring='roc_auc',\n",
    "    n_jobs=4,\n",
    "    iid=False, \n",
    "    cv=5\n",
    ")\n",
    "gsearch2.fit(train[predictors],train[target]) "
   ]
  },
  {
   "cell_type": "code",
   "execution_count": 51,
   "metadata": {},
   "outputs": [
    {
     "data": {
      "text/plain": [
       "[mean: 0.84834, std: 0.00563, params: {'max_depth': 4, 'min_child_weight': 1},\n",
       " mean: 0.84734, std: 0.00529, params: {'max_depth': 4, 'min_child_weight': 2},\n",
       " mean: 0.84710, std: 0.00625, params: {'max_depth': 4, 'min_child_weight': 3},\n",
       " mean: 0.84819, std: 0.00675, params: {'max_depth': 5, 'min_child_weight': 1},\n",
       " mean: 0.84789, std: 0.00739, params: {'max_depth': 5, 'min_child_weight': 2},\n",
       " mean: 0.84724, std: 0.00578, params: {'max_depth': 5, 'min_child_weight': 3},\n",
       " mean: 0.84560, std: 0.00590, params: {'max_depth': 6, 'min_child_weight': 1},\n",
       " mean: 0.84655, std: 0.00576, params: {'max_depth': 6, 'min_child_weight': 2},\n",
       " mean: 0.84568, std: 0.00603, params: {'max_depth': 6, 'min_child_weight': 3}]"
      ]
     },
     "execution_count": 51,
     "metadata": {},
     "output_type": "execute_result"
    }
   ],
   "source": [
    "gsearch2.grid_scores_"
   ]
  },
  {
   "cell_type": "code",
   "execution_count": 52,
   "metadata": {},
   "outputs": [
    {
     "data": {
      "text/plain": [
       "{'max_depth': 4, 'min_child_weight': 1}"
      ]
     },
     "execution_count": 52,
     "metadata": {},
     "output_type": "execute_result"
    }
   ],
   "source": [
    "gsearch2.best_params_"
   ]
  },
  {
   "cell_type": "code",
   "execution_count": 53,
   "metadata": {},
   "outputs": [
    {
     "data": {
      "text/plain": [
       "0.8483407884065786"
      ]
     },
     "execution_count": 53,
     "metadata": {},
     "output_type": "execute_result"
    }
   ],
   "source": [
    "gsearch2.best_score_"
   ]
  },
  {
   "cell_type": "markdown",
   "metadata": {},
   "source": [
    "# 'max_depth': 4, 'min_child_weight': 1   相对最优，调节gamma"
   ]
  },
  {
   "cell_type": "code",
   "execution_count": 55,
   "metadata": {},
   "outputs": [
    {
     "data": {
      "text/plain": [
       "GridSearchCV(cv=5, error_score='raise',\n",
       "       estimator=XGBClassifier(base_score=0.5, colsample_bylevel=1, colsample_bytree=0.8,\n",
       "       gamma=0, learning_rate=0.1, max_delta_step=0, max_depth=4,\n",
       "       min_child_weight=1, missing=None, n_estimators=145, nthread=4,\n",
       "       objective='binary:logistic', reg_alpha=0, reg_lambda=1,\n",
       "       scale_pos_weight=1, seed=27, silent=True, subsample=0.8),\n",
       "       fit_params={}, iid=False, n_jobs=4,\n",
       "       param_grid={'gamma': [0.0, 0.1, 0.2, 0.3, 0.4]},\n",
       "       pre_dispatch='2*n_jobs', refit=True, scoring='roc_auc', verbose=0)"
      ]
     },
     "execution_count": 55,
     "metadata": {},
     "output_type": "execute_result"
    }
   ],
   "source": [
    "param_test3 = {\n",
    "    'gamma':[i/10.0 for i in range(0,5)]}\n",
    "gsearch3 = GridSearchCV(\n",
    "    estimator=XGBClassifier(\n",
    "        learning_rate =0.1, \n",
    "        n_estimators=145, \n",
    "        max_depth=4,                                   \n",
    "        min_child_weight=1, \n",
    "        gamma=0, \n",
    "        subsample=0.8, \n",
    "        colsample_bytree=0.8,                                   \n",
    "        objective= 'binary:logistic', \n",
    "        nthread=4, \n",
    "        scale_pos_weight=1, \n",
    "        seed=27\n",
    "    ), \n",
    "    param_grid = param_test3, \n",
    "    scoring='roc_auc',\n",
    "    n_jobs=4,\n",
    "    iid=False, \n",
    "    cv=5\n",
    ")\n",
    "gsearch3.fit(train[predictors],train[target]) "
   ]
  },
  {
   "cell_type": "code",
   "execution_count": 56,
   "metadata": {},
   "outputs": [
    {
     "data": {
      "text/plain": [
       "[mean: 0.84834, std: 0.00563, params: {'gamma': 0.0},\n",
       " mean: 0.84847, std: 0.00558, params: {'gamma': 0.1},\n",
       " mean: 0.84738, std: 0.00603, params: {'gamma': 0.2},\n",
       " mean: 0.84720, std: 0.00593, params: {'gamma': 0.3},\n",
       " mean: 0.84753, std: 0.00539, params: {'gamma': 0.4}]"
      ]
     },
     "execution_count": 56,
     "metadata": {},
     "output_type": "execute_result"
    }
   ],
   "source": [
    "gsearch3.grid_scores_"
   ]
  },
  {
   "cell_type": "code",
   "execution_count": 57,
   "metadata": {},
   "outputs": [
    {
     "data": {
      "text/plain": [
       "{'gamma': 0.1}"
      ]
     },
     "execution_count": 57,
     "metadata": {},
     "output_type": "execute_result"
    }
   ],
   "source": [
    "gsearch3.best_params_"
   ]
  },
  {
   "cell_type": "code",
   "execution_count": 58,
   "metadata": {},
   "outputs": [
    {
     "data": {
      "text/plain": [
       "0.8484704571588637"
      ]
     },
     "execution_count": 58,
     "metadata": {},
     "output_type": "execute_result"
    }
   ],
   "source": [
    "gsearch3.best_score_"
   ]
  },
  {
   "cell_type": "markdown",
   "metadata": {},
   "source": [
    "# 'max_depth': 4,'min_child_weight': 1,'gamma':0.1 相对最优"
   ]
  },
  {
   "cell_type": "code",
   "execution_count": 59,
   "metadata": {},
   "outputs": [
    {
     "name": "stdout",
     "output_type": "stream",
     "text": [
      "202\n",
      "\n",
      "Model Report\n",
      "Accuracy : 0.9854\n",
      "AUC Score (Train): 0.898711\n"
     ]
    },
    {
     "data": {
      "image/png": "[encoded data removed]",
      "text/plain": [
       "<matplotlib.figure.Figure at 0x1a0c513908>"
      ]
     },
     "metadata": {},
     "output_type": "display_data"
    }
   ],
   "source": [
    "predictors = [x for x in train.columns if x not in [target, IDcol]]  #对所有变量属性选取，除了'Disbursed'和‘ID’；\n",
    "xgb2 = XGBClassifier(\n",
    "        learning_rate =0.1,          #学习率eta, 算法训练时，每一步的更新步长\n",
    "        n_estimators=1000,           #弱分类器的个数\n",
    "        max_depth=4,                 #树的最大深度\n",
    "        min_child_weight=1,          #叶子节点中，样本的权重和\n",
    "        gamma=0.1,                       #控制训练时每一颗树叶叶子节点，正则项，防过拟合\n",
    "        subsample=0.8,                 #模型训练子样本占全部集合的比例，防过拟合\n",
    "        colsample_bytree=0.8,          #构建树时对特征的采样比例\n",
    "        objective= 'binary:logistic',  #二分类’binary:logistic'；线性回归‘reg:linear'\n",
    "        nthread=4,                     #计算线程数目\n",
    "        scale_pos_weight=1,            #正负样本平衡权重         \n",
    "        seed=27)                       #随机数种子或者random_seed\n",
    "\n",
    "modelfit(xgb2, train, test, predictors) #当前模型基础上，进行分类器的训练选择"
   ]
  },
  {
   "cell_type": "markdown",
   "metadata": {},
   "source": [
    "#  max_depth=4,min_child_weight=1,gamma=0.1相对最优基础上，调节参数subsample,colsample_bytree"
   ]
  },
  {
   "cell_type": "code",
   "execution_count": 61,
   "metadata": {},
   "outputs": [
    {
     "data": {
      "text/plain": [
       "GridSearchCV(cv=5, error_score='raise',\n",
       "       estimator=XGBClassifier(base_score=0.5, colsample_bylevel=1, colsample_bytree=0.8,\n",
       "       gamma=0.1, learning_rate=0.1, max_delta_step=0, max_depth=4,\n",
       "       min_child_weight=1, missing=None, n_estimators=202, nthread=4,\n",
       "       objective='binary:logistic', reg_alpha=0, reg_lambda=1,\n",
       "       scale_pos_weight=1, seed=27, silent=True, subsample=0.8),\n",
       "       fit_params={}, iid=False, n_jobs=4,\n",
       "       param_grid={'subsample': [0.6, 0.7, 0.8, 0.9], 'colsample_bytree': [0.6, 0.7, 0.8, 0.9]},\n",
       "       pre_dispatch='2*n_jobs', refit=True, scoring='roc_auc', verbose=0)"
      ]
     },
     "execution_count": 61,
     "metadata": {},
     "output_type": "execute_result"
    }
   ],
   "source": [
    "param_test4={\n",
    "    'subsample': [i/10 for i in range(6,10)],\n",
    "    'colsample_bytree':[i/10 for i in range(6,10)]}\n",
    "gsearch4=GridSearchCV(\n",
    "    estimator=XGBClassifier(\n",
    "        learning_rate =0.1, \n",
    "        n_estimators=202, \n",
    "        max_depth=4,                                   \n",
    "        min_child_weight=1, \n",
    "        gamma=0.1, \n",
    "        subsample=0.8, \n",
    "        colsample_bytree=0.8,                                   \n",
    "        objective= 'binary:logistic', \n",
    "        nthread=4, \n",
    "        scale_pos_weight=1, \n",
    "        seed=27\n",
    "    ), \n",
    "    param_grid = param_test4, \n",
    "    scoring='roc_auc',\n",
    "    n_jobs=4,\n",
    "    iid=False, \n",
    "    cv=5\n",
    ")\n",
    "gsearch4.fit(train[predictors],train[target]) "
   ]
  },
  {
   "cell_type": "code",
   "execution_count": 62,
   "metadata": {},
   "outputs": [
    {
     "data": {
      "text/plain": [
       "[mean: 0.84500, std: 0.00725, params: {'colsample_bytree': 0.6, 'subsample': 0.6},\n",
       " mean: 0.84615, std: 0.00538, params: {'colsample_bytree': 0.6, 'subsample': 0.7},\n",
       " mean: 0.84750, std: 0.00535, params: {'colsample_bytree': 0.6, 'subsample': 0.8},\n",
       " mean: 0.84901, std: 0.00643, params: {'colsample_bytree': 0.6, 'subsample': 0.9},\n",
       " mean: 0.84599, std: 0.00770, params: {'colsample_bytree': 0.7, 'subsample': 0.6},\n",
       " mean: 0.84809, std: 0.00597, params: {'colsample_bytree': 0.7, 'subsample': 0.7},\n",
       " mean: 0.84807, std: 0.00568, params: {'colsample_bytree': 0.7, 'subsample': 0.8},\n",
       " mean: 0.84824, std: 0.00601, params: {'colsample_bytree': 0.7, 'subsample': 0.9},\n",
       " mean: 0.84608, std: 0.00680, params: {'colsample_bytree': 0.8, 'subsample': 0.6},\n",
       " mean: 0.84761, std: 0.00624, params: {'colsample_bytree': 0.8, 'subsample': 0.7},\n",
       " mean: 0.84899, std: 0.00629, params: {'colsample_bytree': 0.8, 'subsample': 0.8},\n",
       " mean: 0.84787, std: 0.00600, params: {'colsample_bytree': 0.8, 'subsample': 0.9},\n",
       " mean: 0.84598, std: 0.00563, params: {'colsample_bytree': 0.9, 'subsample': 0.6},\n",
       " mean: 0.84723, std: 0.00585, params: {'colsample_bytree': 0.9, 'subsample': 0.7},\n",
       " mean: 0.84890, std: 0.00552, params: {'colsample_bytree': 0.9, 'subsample': 0.8},\n",
       " mean: 0.84796, std: 0.00647, params: {'colsample_bytree': 0.9, 'subsample': 0.9}]"
      ]
     },
     "execution_count": 62,
     "metadata": {},
     "output_type": "execute_result"
    }
   ],
   "source": [
    "gsearch4.grid_scores_"
   ]
  },
  {
   "cell_type": "code",
   "execution_count": 63,
   "metadata": {},
   "outputs": [
    {
     "data": {
      "text/plain": [
       "{'colsample_bytree': 0.6, 'subsample': 0.9}"
      ]
     },
     "execution_count": 63,
     "metadata": {},
     "output_type": "execute_result"
    }
   ],
   "source": [
    "gsearch4.best_params_"
   ]
  },
  {
   "cell_type": "code",
   "execution_count": 65,
   "metadata": {},
   "outputs": [
    {
     "data": {
      "text/plain": [
       "0.8490100983567583"
      ]
     },
     "execution_count": 65,
     "metadata": {},
     "output_type": "execute_result"
    }
   ],
   "source": [
    "gsearch4.best_score_"
   ]
  },
  {
   "cell_type": "markdown",
   "metadata": {},
   "source": [
    "# 继续调节参数subsample,colsample_bytree"
   ]
  },
  {
   "cell_type": "code",
   "execution_count": 72,
   "metadata": {},
   "outputs": [
    {
     "data": {
      "text/plain": [
       "GridSearchCV(cv=5, error_score='raise',\n",
       "       estimator=XGBClassifier(base_score=0.5, colsample_bylevel=1, colsample_bytree=0.6,\n",
       "       gamma=0.1, learning_rate=0.1, max_delta_step=0, max_depth=4,\n",
       "       min_child_weight=1, missing=None, n_estimators=202, nthread=4,\n",
       "       objective='binary:logistic', reg_alpha=0, reg_lambda=1,\n",
       "       scale_pos_weight=1, seed=27, silent=True, subsample=0.9),\n",
       "       fit_params={}, iid=False, n_jobs=4,\n",
       "       param_grid={'colsample_bytree': [0.5, 0.55, 0.6, 0.65], 'subsample': [0.8, 0.85, 0.9, 0.95]},\n",
       "       pre_dispatch='2*n_jobs', refit=True, scoring='roc_auc', verbose=0)"
      ]
     },
     "execution_count": 72,
     "metadata": {},
     "output_type": "execute_result"
    }
   ],
   "source": [
    "param_test5={\n",
    "    'colsample_bytree':[i/100 for i in range(50,70,5)],\n",
    "    'subsample':[i/100 for i in range(80,100,5)]}\n",
    "gsearch5=GridSearchCV(\n",
    "    estimator=XGBClassifier(\n",
    "        learning_rate =0.1, \n",
    "        n_estimators=202, \n",
    "        max_depth=4,                                   \n",
    "        min_child_weight=1, \n",
    "        gamma=0.1, \n",
    "        subsample=0.9, \n",
    "        colsample_bytree=0.6,                                   \n",
    "        objective= 'binary:logistic', \n",
    "        nthread=4, \n",
    "        scale_pos_weight=1, \n",
    "        seed=27\n",
    "    ), \n",
    "    param_grid = param_test5, \n",
    "    scoring='roc_auc',\n",
    "    n_jobs=4,\n",
    "    iid=False, \n",
    "    cv=5\n",
    ")\n",
    "gsearch5.fit(train[predictors],train[target]) "
   ]
  },
  {
   "cell_type": "code",
   "execution_count": 73,
   "metadata": {},
   "outputs": [
    {
     "data": {
      "text/plain": [
       "[mean: 0.84663, std: 0.00624, params: {'colsample_bytree': 0.5, 'subsample': 0.8},\n",
       " mean: 0.84778, std: 0.00547, params: {'colsample_bytree': 0.5, 'subsample': 0.85},\n",
       " mean: 0.84827, std: 0.00649, params: {'colsample_bytree': 0.5, 'subsample': 0.9},\n",
       " mean: 0.84814, std: 0.00708, params: {'colsample_bytree': 0.5, 'subsample': 0.95},\n",
       " mean: 0.84770, std: 0.00628, params: {'colsample_bytree': 0.55, 'subsample': 0.8},\n",
       " mean: 0.84706, std: 0.00738, params: {'colsample_bytree': 0.55, 'subsample': 0.85},\n",
       " mean: 0.84709, std: 0.00627, params: {'colsample_bytree': 0.55, 'subsample': 0.9},\n",
       " mean: 0.84913, std: 0.00583, params: {'colsample_bytree': 0.55, 'subsample': 0.95},\n",
       " mean: 0.84750, std: 0.00535, params: {'colsample_bytree': 0.6, 'subsample': 0.8},\n",
       " mean: 0.84726, std: 0.00724, params: {'colsample_bytree': 0.6, 'subsample': 0.85},\n",
       " mean: 0.84901, std: 0.00643, params: {'colsample_bytree': 0.6, 'subsample': 0.9},\n",
       " mean: 0.84913, std: 0.00578, params: {'colsample_bytree': 0.6, 'subsample': 0.95},\n",
       " mean: 0.84807, std: 0.00543, params: {'colsample_bytree': 0.65, 'subsample': 0.8},\n",
       " mean: 0.84742, std: 0.00842, params: {'colsample_bytree': 0.65, 'subsample': 0.85},\n",
       " mean: 0.84967, std: 0.00670, params: {'colsample_bytree': 0.65, 'subsample': 0.9},\n",
       " mean: 0.84874, std: 0.00494, params: {'colsample_bytree': 0.65, 'subsample': 0.95}]"
      ]
     },
     "execution_count": 73,
     "metadata": {},
     "output_type": "execute_result"
    }
   ],
   "source": [
    "gsearch5.grid_scores_"
   ]
  },
  {
   "cell_type": "code",
   "execution_count": 74,
   "metadata": {},
   "outputs": [
    {
     "data": {
      "text/plain": [
       "{'colsample_bytree': 0.65, 'subsample': 0.9}"
      ]
     },
     "execution_count": 74,
     "metadata": {},
     "output_type": "execute_result"
    }
   ],
   "source": [
    "gsearch5.best_params_"
   ]
  },
  {
   "cell_type": "code",
   "execution_count": 75,
   "metadata": {},
   "outputs": [
    {
     "data": {
      "text/plain": [
       "0.8496748021842248"
      ]
     },
     "execution_count": 75,
     "metadata": {},
     "output_type": "execute_result"
    }
   ],
   "source": [
    "gsearch5.best_score_"
   ]
  },
  {
   "cell_type": "markdown",
   "metadata": {},
   "source": [
    "# 'subsample'=0.9,'colsample'=0.65,相对最优，继续调'reg_alpha'"
   ]
  },
  {
   "cell_type": "code",
   "execution_count": 76,
   "metadata": {},
   "outputs": [
    {
     "data": {
      "text/plain": [
       "GridSearchCV(cv=5, error_score='raise',\n",
       "       estimator=XGBClassifier(base_score=0.5, colsample_bylevel=1, colsample_bytree=0.65,\n",
       "       gamma=0.1, learning_rate=0.1, max_delta_step=0, max_depth=4,\n",
       "       min_child_weight=1, missing=None, n_estimators=202, nthread=4,\n",
       "       objective='binary:logistic', reg_alpha=0, reg_lambda=1,\n",
       "       scale_pos_weight=1, seed=27, silent=True, subsample=0.9),\n",
       "       fit_params={}, iid=False, n_jobs=4,\n",
       "       param_grid={'reg_alpha': [1e-05, 0.01, 0.1, 1, 100]},\n",
       "       pre_dispatch='2*n_jobs', refit=True, scoring='roc_auc', verbose=0)"
      ]
     },
     "execution_count": 76,
     "metadata": {},
     "output_type": "execute_result"
    }
   ],
   "source": [
    "param_test6={\n",
    "    'reg_alpha':[1e-5,1e-2,1e-1,1,100]}  #L1范数\n",
    "gsearch6=GridSearchCV(\n",
    "    estimator=XGBClassifier(\n",
    "        learning_rate =0.1, \n",
    "        n_estimators=202, \n",
    "        max_depth=4,                                   \n",
    "        min_child_weight=1, \n",
    "        gamma=0.1, \n",
    "        subsample=0.9, \n",
    "        colsample_bytree=0.65,                                   \n",
    "        objective= 'binary:logistic', \n",
    "        nthread=4, \n",
    "        scale_pos_weight=1, \n",
    "        seed=27\n",
    "    ), \n",
    "    param_grid = param_test6, \n",
    "    scoring='roc_auc',\n",
    "    n_jobs=4,\n",
    "    iid=False, \n",
    "    cv=5\n",
    ")\n",
    "gsearch6.fit(train[predictors],train[target])"
   ]
  },
  {
   "cell_type": "code",
   "execution_count": 77,
   "metadata": {},
   "outputs": [
    {
     "data": {
      "text/plain": [
       "[mean: 0.84967, std: 0.00670, params: {'reg_alpha': 1e-05},\n",
       " mean: 0.84980, std: 0.00539, params: {'reg_alpha': 0.01},\n",
       " mean: 0.84967, std: 0.00615, params: {'reg_alpha': 0.1},\n",
       " mean: 0.84939, std: 0.00735, params: {'reg_alpha': 1},\n",
       " mean: 0.81621, std: 0.01418, params: {'reg_alpha': 100}]"
      ]
     },
     "execution_count": 77,
     "metadata": {},
     "output_type": "execute_result"
    }
   ],
   "source": [
    "gsearch6.grid_scores_"
   ]
  },
  {
   "cell_type": "code",
   "execution_count": 79,
   "metadata": {},
   "outputs": [
    {
     "data": {
      "text/plain": [
       "{'reg_alpha': 0.01}"
      ]
     },
     "execution_count": 79,
     "metadata": {},
     "output_type": "execute_result"
    }
   ],
   "source": [
    "gsearch6.best_params_"
   ]
  },
  {
   "cell_type": "code",
   "execution_count": 80,
   "metadata": {},
   "outputs": [
    {
     "data": {
      "text/plain": [
       "0.8498045892464328"
      ]
     },
     "execution_count": 80,
     "metadata": {},
     "output_type": "execute_result"
    }
   ],
   "source": [
    "gsearch6.best_score_"
   ]
  },
  {
   "cell_type": "markdown",
   "metadata": {},
   "source": [
    "# 'reg_alpha'=0.01,缩小范围继续调优"
   ]
  },
  {
   "cell_type": "code",
   "execution_count": 81,
   "metadata": {},
   "outputs": [
    {
     "data": {
      "text/plain": [
       "GridSearchCV(cv=5, error_score='raise',\n",
       "       estimator=XGBClassifier(base_score=0.5, colsample_bylevel=1, colsample_bytree=0.65,\n",
       "       gamma=0.1, learning_rate=0.1, max_delta_step=0, max_depth=4,\n",
       "       min_child_weight=1, missing=None, n_estimators=202, nthread=4,\n",
       "       objective='binary:logistic', reg_alpha=0, reg_lambda=1,\n",
       "       scale_pos_weight=1, seed=27, silent=True, subsample=0.9),\n",
       "       fit_params={}, iid=False, n_jobs=4,\n",
       "       param_grid={'reg_alpha': [0, 0.001, 0.005, 0.01]},\n",
       "       pre_dispatch='2*n_jobs', refit=True, scoring='roc_auc', verbose=0)"
      ]
     },
     "execution_count": 81,
     "metadata": {},
     "output_type": "execute_result"
    }
   ],
   "source": [
    "param_test7={\n",
    "    'reg_alpha':[0,0.001,0.005,0.01]}\n",
    "gsearch7=GridSearchCV(\n",
    "    estimator=XGBClassifier(\n",
    "        learning_rate =0.1, \n",
    "        n_estimators=202, \n",
    "        max_depth=4,                                   \n",
    "        min_child_weight=1, \n",
    "        gamma=0.1, \n",
    "        subsample=0.9, \n",
    "        colsample_bytree=0.65,                                   \n",
    "        objective= 'binary:logistic', \n",
    "        nthread=4, \n",
    "        scale_pos_weight=1, \n",
    "        seed=27\n",
    "    ), \n",
    "    param_grid = param_test7, \n",
    "    scoring='roc_auc',\n",
    "    n_jobs=4,\n",
    "    iid=False, \n",
    "    cv=5\n",
    ")\n",
    "gsearch7.fit(train[predictors],train[target])"
   ]
  },
  {
   "cell_type": "code",
   "execution_count": 82,
   "metadata": {},
   "outputs": [
    {
     "data": {
      "text/plain": [
       "[mean: 0.84967, std: 0.00670, params: {'reg_alpha': 0},\n",
       " mean: 0.84887, std: 0.00639, params: {'reg_alpha': 0.001},\n",
       " mean: 0.84957, std: 0.00547, params: {'reg_alpha': 0.005},\n",
       " mean: 0.84980, std: 0.00539, params: {'reg_alpha': 0.01}]"
      ]
     },
     "execution_count": 82,
     "metadata": {},
     "output_type": "execute_result"
    }
   ],
   "source": [
    "gsearch7.grid_scores_"
   ]
  },
  {
   "cell_type": "code",
   "execution_count": 83,
   "metadata": {},
   "outputs": [
    {
     "data": {
      "text/plain": [
       "{'reg_alpha': 0.01}"
      ]
     },
     "execution_count": 83,
     "metadata": {},
     "output_type": "execute_result"
    }
   ],
   "source": [
    "gsearch7.best_params_"
   ]
  },
  {
   "cell_type": "code",
   "execution_count": 84,
   "metadata": {},
   "outputs": [
    {
     "data": {
      "text/plain": [
       "0.8498045892464328"
      ]
     },
     "execution_count": 84,
     "metadata": {},
     "output_type": "execute_result"
    }
   ],
   "source": [
    "gsearch7.best_score_"
   ]
  },
  {
   "cell_type": "markdown",
   "metadata": {},
   "source": [
    "# 参数相对最优\n",
    "'max_depth'=4,'min_child_weight'=1,'gamma'=0.1,\n",
    "'subsample'=0.9,'colsample_bytree'=0.65,'reg_alpha'=0.01"
   ]
  },
  {
   "cell_type": "code",
   "execution_count": 85,
   "metadata": {
    "scrolled": false
   },
   "outputs": [
    {
     "name": "stdout",
     "output_type": "stream",
     "text": [
      "226\n",
      "\n",
      "Model Report\n",
      "Accuracy : 0.9854\n",
      "AUC Score (Train): 0.897460\n"
     ]
    },
    {
     "data": {
      "image/png": "[encoded data removed]",
      "text/plain": [
       "<matplotlib.figure.Figure at 0x1a111a7710>"
      ]
     },
     "metadata": {},
     "output_type": "display_data"
    }
   ],
   "source": [
    "predictors = [x for x in train.columns if x not in [target, IDcol]]  #对所有变量属性选取，除了'Disbursed'和‘ID’；\n",
    "xgb3 = XGBClassifier(\n",
    "        learning_rate =0.1,          #学习率eta, 算法训练时，每一步的更新步长\n",
    "        n_estimators=1000,           #弱分类器的个数\n",
    "        max_depth=4,                 #树的最大深度\n",
    "        min_child_weight=1,          #叶子节点中，样本的权重和\n",
    "        reg_alpha=0.01,\n",
    "        gamma=0.1,                       #控制训练时每一颗树叶叶子节点，正则项，防过拟合\n",
    "        subsample=0.9,                 #模型训练子样本占全部集合的比例，防过拟合\n",
    "        colsample_bytree=0.65,          #构建树时对特征的采样比例\n",
    "        objective= 'binary:logistic',  #二分类’binary:logistic'；线性回归‘reg:linear'\n",
    "        nthread=4,                     #计算线程数目\n",
    "        scale_pos_weight=1,            #正负样本平衡权重         \n",
    "        seed=27)                       #随机数种子或者random_seed\n",
    "\n",
    "modelfit(xgb3, train, test, predictors) #当前模型基础上，进行分类器的训练选择"
   ]
  },
  {
   "cell_type": "markdown",
   "metadata": {},
   "source": [
    "# 调小学习率eta,继续训练"
   ]
  },
  {
   "cell_type": "code",
   "execution_count": 86,
   "metadata": {},
   "outputs": [
    {
     "name": "stdout",
     "output_type": "stream",
     "text": [
      "2294\n",
      "\n",
      "Model Report\n",
      "Accuracy : 0.9854\n",
      "AUC Score (Train): 0.896949\n"
     ]
    },
    {
     "data": {
      "image/png": "[encoded data removed]",
      "text/plain": [
       "<matplotlib.figure.Figure at 0x1a0e6889b0>"
      ]
     },
     "metadata": {},
     "output_type": "display_data"
    }
   ],
   "source": [
    "predictors = [x for x in train.columns if x not in [target, IDcol]]  #对所有变量属性选取，除了'Disbursed'和‘ID’；\n",
    "xgb4 = XGBClassifier(\n",
    "        learning_rate =0.01,          #学习率eta, 算法训练时，每一步的更新步长\n",
    "        n_estimators=5000,           #弱分类器的个数\n",
    "        max_depth=4,                 #树的最大深度\n",
    "        min_child_weight=1,          #叶子节点中，样本的权重和\n",
    "        reg_alpha=0.01,\n",
    "        gamma=0.1,                       #控制训练时每一颗树叶叶子节点，正则项，防过拟合\n",
    "        subsample=0.9,                 #模型训练子样本占全部集合的比例，防过拟合\n",
    "        colsample_bytree=0.65,          #构建树时对特征的采样比例\n",
    "        objective= 'binary:logistic',  #二分类’binary:logistic'；线性回归‘reg:linear'\n",
    "        nthread=4,                     #计算线程数目\n",
    "        scale_pos_weight=1,            #正负样本平衡权重         \n",
    "        seed=27)                       #随机数种子或者random_seed\n",
    "\n",
    "modelfit(xgb4, train, test, predictors) #当前模型基础上，进行分类器的训练选择"
   ]
  },
  {
   "cell_type": "code",
   "execution_count": null,
   "metadata": {
    "collapsed": true
   },
   "outputs": [],
   "source": [
    "'''\n",
    "import xgboost as xgb\n",
    "#定义xgboost算法的参数函数\n",
    "def pipeline(iteration,random_seed,gamma,max_depth,lambd,subsample,\n",
    "             colsample_bytree,min_child_weight):\n",
    "    #将数据转化为xgb算法数据格式\n",
    "    dtest=xgb.DMatrix(tests)        #测试集、训练集、va验证集\n",
    "    dtrain=xgb.DMatrix(X,label=y)   \n",
    "    dval=xgb.DMatrix(va,label=valy)\n",
    "    params={\n",
    "        'booster':'gbtree', #基于树的booster模型\n",
    "        'objective':'reg:linear',#线性回归‘reg:linear';二分类’binary:logistic'\n",
    "        'gamma':gamma,           #控制算法训练时每一颗树叶叶子节点\n",
    "        'max_depth':max_depth,   #树的最大深度\n",
    "        'lambda':lambd,          #L2正则化系数\n",
    "        'subsample':subsample,   #训练模型的子样本占整个集合的比例，防止过拟合\n",
    "        'colsample_bytree':colsample_bytree, #构建树时对特征的采样比例\n",
    "        'min_child_weight':min_child_weight, #叶子节点中，样本的权重和\n",
    "        'eta':0.2,           #学习率，算法训练过程中，每一步的更新步长\n",
    "        'seed':random_seed,  #随机数种子\n",
    "    }\n",
    "    \n",
    "    watchlist = [(dtrain,'train'),(dval,'val')]\n",
    "    num_round = 6560  #算法迭代总次数\n",
    "    model =xgb.train(params,dtrain,num_round,watchlist)    #模型训练\n",
    "    test_y =model.predit(dtest,ntree_limit=model.best_ntree_limit)#模型预\n",
    "'''"
   ]
  },
  {
   "cell_type": "code",
   "execution_count": null,
   "metadata": {
    "collapsed": true
   },
   "outputs": [],
   "source": []
  }
 ],
 "metadata": {
  "kernelspec": {
   "display_name": "Python 3",
   "language": "python",
   "name": "python3"
  },
  "language_info": {
   "codemirror_mode": {
    "name": "ipython",
    "version": 3
   },
   "file_extension": ".py",
   "mimetype": "text/x-python",
   "name": "python",
   "nbconvert_exporter": "python",
   "pygments_lexer": "ipython3",
   "version": "3.6.2"
  }
 },
 "nbformat": 4,
 "nbformat_minor": 2
}
