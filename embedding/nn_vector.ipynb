{
 "cells": [
  {
   "cell_type": "code",
   "execution_count": 29,
   "metadata": {
    "collapsed": true
   },
   "outputs": [],
   "source": [
    "import pandas as pd\n",
    "import numpy as np\n",
    "import random\n",
    "random.seed(100)\n",
    "import os\n",
    "import tensorflow as tf \n",
    "os.environ['TF_CPP_MIN_LOG_LEVEL'] = '2'"
   ]
  },
  {
   "cell_type": "code",
   "execution_count": 30,
   "metadata": {
    "collapsed": true
   },
   "outputs": [],
   "source": [
    "# load dataset\n",
    "user_keywords = pd.read_csv('/Users/jun_yu/Desktop/Pull常驻通知/user_keywords.csv')"
   ]
  },
  {
   "cell_type": "code",
   "execution_count": 14,
   "metadata": {
    "collapsed": true
   },
   "outputs": [],
   "source": [
    "def date_process(user_item):\n",
    "    \"\"\"user_item is a DataFrame,\n",
    "    只有两列column [user_id, keywords]\n",
    "    1. user_item: user and item information, user_id, keywords, keyword_index\n",
    "    2. user_index: user to index\n",
    "    3. item_index：item to index\n",
    "    \"\"\"\n",
    "    user_item[\"keywords\"] = user_item[\"keywords\"].apply(lambda x: x.split(\"|\"))\n",
    "\n",
    "    keyword_list = []\n",
    "    print(type(user_item[\"keywords\"])) # Series\n",
    "    print(\"+++++++++++++++++++++\")\n",
    "    for i in user_item[\"keywords\"].values:\n",
    "        print(i)\n",
    "        keyword_list.extend(i)\n",
    "\n",
    "    # word count\n",
    "    item_count = pd.DataFrame(pd.Series(keyword_list).value_counts())\n",
    "    # add index to word_count\n",
    "    item_count['id'] = list(range(0, len(item_count)))\n",
    "    # 将word的id对应起来\n",
    "    map_index = lambda x: list(item_count['id'][x])\n",
    "    # 速度太慢\n",
    "    user_item['keyword_index'] = user_item['keywords'].apply(map_index)\n",
    "    # create user_index, item_index\n",
    "    user_index = {v: k for k, v in user_item[\"user_id\"].to_dict().items()}\n",
    "    item_index = item_count[\"id\"].to_dict()\n",
    "\n",
    "    return user_item, user_index, item_index"
   ]
  },
  {
   "cell_type": "code",
   "execution_count": 32,
   "metadata": {},
   "outputs": [
    {
     "data": {
      "text/html": [
       "<div>\n",
       "<style scoped>\n",
       "    .dataframe tbody tr th:only-of-type {\n",
       "        vertical-align: middle;\n",
       "    }\n",
       "\n",
       "    .dataframe tbody tr th {\n",
       "        vertical-align: top;\n",
       "    }\n",
       "\n",
       "    .dataframe thead th {\n",
       "        text-align: right;\n",
       "    }\n",
       "</style>\n",
       "<table border=\"1\" class=\"dataframe\">\n",
       "  <thead>\n",
       "    <tr style=\"text-align: right;\">\n",
       "      <th></th>\n",
       "      <th>user_id</th>\n",
       "      <th>keywords</th>\n",
       "    </tr>\n",
       "  </thead>\n",
       "  <tbody>\n",
       "    <tr>\n",
       "      <th>0</th>\n",
       "      <td>113</td>\n",
       "      <td>新闻推荐|资讯推荐|内容推荐|文本分类|人工分类|自然语言处理|聚类|分类|冷启动</td>\n",
       "    </tr>\n",
       "    <tr>\n",
       "      <th>1</th>\n",
       "      <td>143</td>\n",
       "      <td>网络|睡眠|精神衰弱|声音|人工分类</td>\n",
       "    </tr>\n",
       "    <tr>\n",
       "      <th>2</th>\n",
       "      <td>123</td>\n",
       "      <td>新年愿望|梦想|2018|辞旧迎新</td>\n",
       "    </tr>\n",
       "    <tr>\n",
       "      <th>3</th>\n",
       "      <td>234</td>\n",
       "      <td>父母|肩头|饺子|蔬菜块|青春叛逆期|声音</td>\n",
       "    </tr>\n",
       "    <tr>\n",
       "      <th>4</th>\n",
       "      <td>117</td>\n",
       "      <td>新闻推荐|内容推荐|文本分类|人工分类|自然语言处理|聚类|分类|冷启动</td>\n",
       "    </tr>\n",
       "  </tbody>\n",
       "</table>\n",
       "</div>"
      ],
      "text/plain": [
       "   user_id                                   keywords\n",
       "0      113  新闻推荐|资讯推荐|内容推荐|文本分类|人工分类|自然语言处理|聚类|分类|冷启动\n",
       "1      143                         网络|睡眠|精神衰弱|声音|人工分类\n",
       "2      123                          新年愿望|梦想|2018|辞旧迎新\n",
       "3      234                      父母|肩头|饺子|蔬菜块|青春叛逆期|声音\n",
       "4      117       新闻推荐|内容推荐|文本分类|人工分类|自然语言处理|聚类|分类|冷启动"
      ]
     },
     "execution_count": 32,
     "metadata": {},
     "output_type": "execute_result"
    }
   ],
   "source": [
    "user_keywords.head()"
   ]
  },
  {
   "cell_type": "code",
   "execution_count": 33,
   "metadata": {},
   "outputs": [
    {
     "name": "stdout",
     "output_type": "stream",
     "text": [
      "<class 'pandas.core.series.Series'>\n",
      "+++++++++++++++++++++\n",
      "['新闻推荐', '资讯推荐', '内容推荐', '文本分类', '人工分类', '自然语言处理', '聚类', '分类', '冷启动']\n",
      "['网络', '睡眠', '精神衰弱', '声音', '人工分类']\n",
      "['新年愿望', '梦想', '2018', '辞旧迎新']\n",
      "['父母', '肩头', '饺子', '蔬菜块', '青春叛逆期', '声音']\n",
      "['新闻推荐', '内容推荐', '文本分类', '人工分类', '自然语言处理', '聚类', '分类', '冷启动']\n",
      "['新闻推荐', '资讯推荐', '人工分类', '自然语言处理', '聚类', '分类', '冷启动']\n",
      "['新闻推荐', '资讯推荐', '内容推荐', '文本分类', '聚类', '分类', '冷启动']\n",
      "['机器学习', '新闻推荐', '梦想', '人工分类', '自然语言处理']\n"
     ]
    }
   ],
   "source": [
    "user_keywords, user_index, keyword_index = date_process(user_keywords)"
   ]
  },
  {
   "cell_type": "code",
   "execution_count": 39,
   "metadata": {},
   "outputs": [
    {
     "name": "stdout",
     "output_type": "stream",
     "text": [
      "   user_id                                           keywords  \\\n",
      "0      113  [新闻推荐, 资讯推荐, 内容推荐, 文本分类, 人工分类, 自然语言处理, 聚类, 分类,...   \n",
      "1      143                           [网络, 睡眠, 精神衰弱, 声音, 人工分类]   \n",
      "2      123                             [新年愿望, 梦想, 2018, 辞旧迎新]   \n",
      "3      234                       [父母, 肩头, 饺子, 蔬菜块, 青春叛逆期, 声音]   \n",
      "4      117      [新闻推荐, 内容推荐, 文本分类, 人工分类, 自然语言处理, 聚类, 分类, 冷启动]   \n",
      "5      119            [新闻推荐, 资讯推荐, 人工分类, 自然语言处理, 聚类, 分类, 冷启动]   \n",
      "6       12              [新闻推荐, 资讯推荐, 内容推荐, 文本分类, 聚类, 分类, 冷启动]   \n",
      "7      122                     [机器学习, 新闻推荐, 梦想, 人工分类, 自然语言处理]   \n",
      "\n",
      "                 keyword_index  \n",
      "0  [1, 6, 7, 8, 0, 4, 5, 2, 3]  \n",
      "1           [19, 14, 11, 9, 0]  \n",
      "2             [13, 10, 18, 16]  \n",
      "3      [21, 17, 12, 22, 15, 9]  \n",
      "4     [1, 7, 8, 0, 4, 5, 2, 3]  \n",
      "5        [1, 6, 0, 4, 5, 2, 3]  \n",
      "6        [1, 6, 7, 8, 5, 2, 3]  \n",
      "7            [20, 1, 10, 0, 4]  \n"
     ]
    }
   ],
   "source": [
    "print(user_keywords)"
   ]
  },
  {
   "cell_type": "code",
   "execution_count": 38,
   "metadata": {},
   "outputs": [
    {
     "name": "stdout",
     "output_type": "stream",
     "text": [
      "user_index {113: 0, 143: 1, 123: 2, 234: 3, 117: 4, 119: 5, 12: 6, 122: 7}\n",
      "keyword_index {'人工分类': 0, '新闻推荐': 1, '分类': 2, '冷启动': 3, '自然语言处理': 4, '聚类': 5, '资讯推荐': 6, '内容推荐': 7, '文本分类': 8, '声音': 9, '梦想': 10, '精神衰弱': 11, '饺子': 12, '新年愿望': 13, '睡眠': 14, '青春叛逆期': 15, '辞旧迎新': 16, '肩头': 17, '2018': 18, '网络': 19, '机器学习': 20, '父母': 21, '蔬菜块': 22}\n"
     ]
    }
   ],
   "source": [
    "# 获取用户,item ID 及索引index  \n",
    "# df, user_index: user_id: keyword_index 列表结构\n",
    "print(\"user_keywords\", user_keywords)   \n",
    "print(\"user_index\", user_index)\n",
    "print(\"keyword_index\", keyword_index)"
   ]
  },
  {
   "cell_type": "code",
   "execution_count": 15,
   "metadata": {
    "collapsed": true
   },
   "outputs": [],
   "source": [
    "def create_pairs(user_keywords, user_index):\n",
    "    \"\"\"\n",
    "    generate user, keyword pair list\n",
    "    \"\"\"\n",
    "    pairs = []\n",
    "    def doc2tag(pairs, x):\n",
    "        for index in x[\"keyword_index\"]:\n",
    "            pairs.append((user_index[x[\"user_id\"]], index))\n",
    "    # 速度太慢\n",
    "    user_keywords.apply(lambda x: doc2tag(pairs, x), axis=1)\n",
    "    return pairs"
   ]
  },
  {
   "cell_type": "code",
   "execution_count": 41,
   "metadata": {},
   "outputs": [
    {
     "name": "stdout",
     "output_type": "stream",
     "text": [
      "[(0, 1), (0, 6), (0, 7), (0, 8), (0, 0), (0, 4), (0, 5), (0, 2), (0, 3), (1, 19), (1, 14), (1, 11), (1, 9), (1, 0), (2, 13), (2, 10), (2, 18), (2, 16), (3, 21), (3, 17), (3, 12), (3, 22), (3, 15), (3, 9), (4, 1), (4, 7), (4, 8), (4, 0), (4, 4), (4, 5), (4, 2), (4, 3), (5, 1), (5, 6), (5, 0), (5, 4), (5, 5), (5, 2), (5, 3), (6, 1), (6, 6), (6, 7), (6, 8), (6, 5), (6, 2), (6, 3), (7, 20), (7, 1), (7, 10), (7, 0), (7, 4)]\n",
      "51\n"
     ]
    }
   ],
   "source": [
    "# 获取用户物品索引对 pair(user,item) , 分别对应索引id  \n",
    "pairs = create_pairs(user_keywords, user_index)\n",
    "print(pairs)\n",
    "print(len(pairs))"
   ]
  },
  {
   "cell_type": "code",
   "execution_count": 44,
   "metadata": {
    "collapsed": true
   },
   "outputs": [],
   "source": [
    "#  建立全连接网络 3 layers, relu 激活函数 \n",
    "def build_embedding_model(embedding_size=50, classification = False):\n",
    "    \"\"\"\n",
    "    根据用户行为相关的item ,if clicked by user\n",
    "    Model to embed users and keywords using the Keras functional API.\n",
    "    \"\"\"\n",
    "    # Both inputs are 1-dimensional\n",
    "    user = tf.keras.Input(name='user',\n",
    "                          shape=[1])\n",
    "    keyword = tf.keras.Input(name='keyword',\n",
    "                             shape=[1])\n",
    "\n",
    "    # 50维 \n",
    "    # Embedding the user default: (shape will be (None, 1, 50))\n",
    "    user_embedding = tf.keras.layers.Embedding(name= 'user_embedding',\n",
    "                                               input_dim= len(user_index),\n",
    "                                               output_dim= embedding_size)(user)\n",
    "\n",
    "    # Embedding the keyword default: (shape will be (None, 1, 50))\n",
    "    keyword_embedding = tf.keras.layers.Embedding(name='keyword_embedding',\n",
    "                                                  input_dim=len(keyword_index),\n",
    "                                                  output_dim=embedding_size)(keyword)\n",
    "\n",
    "    # Merge the layers with a dot product along the second axis\n",
    "    # (shape will be (None, 1, 1))\n",
    "    merged = tf.keras.layers.Dot(name='dot_product',\n",
    "                                 normalize=True,\n",
    "                                 axes=2)([user_embedding, keyword_embedding])\n",
    "    \n",
    "    # 1维 \n",
    "    # Reshape to be a single number (shape will be (None, 1))\n",
    "    merged = tf.keras.layers.Reshape(target_shape=[1])(merged)\n",
    "\n",
    "    # Squash outputs for classification\n",
    "    out = tf.keras.layers.Dense(1, \n",
    "                                activation='sigmoid')(merged)\n",
    "    \n",
    "    # 调用 keras Model处理， NN 神经网络  \n",
    "    model = tf.keras.Model(inputs=[user, keyword],\n",
    "                           outputs=out)\n",
    "    \n",
    "    # 定义梯度损失优化函数 Adam   \n",
    "    # Compile using specified optimizer and loss\n",
    "    model.compile(optimizer='Adam',\n",
    "                  loss='binary_crossentropy',\n",
    "                  metrics=['accuracy'])\n",
    "    print(\"++++++\",model.summary())\n",
    "    return model"
   ]
  },
  {
   "cell_type": "code",
   "execution_count": 45,
   "metadata": {},
   "outputs": [
    {
     "name": "stdout",
     "output_type": "stream",
     "text": [
      "Model: \"model_2\"\n",
      "__________________________________________________________________________________________________\n",
      "Layer (type)                    Output Shape         Param #     Connected to                     \n",
      "==================================================================================================\n",
      "user (InputLayer)               [(None, 1)]          0                                            \n",
      "__________________________________________________________________________________________________\n",
      "keyword (InputLayer)            [(None, 1)]          0                                            \n",
      "__________________________________________________________________________________________________\n",
      "user_embedding (Embedding)      (None, 1, 20)        160         user[0][0]                       \n",
      "__________________________________________________________________________________________________\n",
      "keyword_embedding (Embedding)   (None, 1, 20)        460         keyword[0][0]                    \n",
      "__________________________________________________________________________________________________\n",
      "dot_product (Dot)               (None, 1, 1)         0           user_embedding[0][0]             \n",
      "                                                                 keyword_embedding[0][0]          \n",
      "__________________________________________________________________________________________________\n",
      "reshape_2 (Reshape)             (None, 1)            0           dot_product[0][0]                \n",
      "__________________________________________________________________________________________________\n",
      "dense_2 (Dense)                 (None, 1)            2           reshape_2[0][0]                  \n",
      "==================================================================================================\n",
      "Total params: 622\n",
      "Trainable params: 622\n",
      "Non-trainable params: 0\n",
      "__________________________________________________________________________________________________\n",
      "++++++ None\n"
     ]
    }
   ],
   "source": [
    "model = build_embedding_model(embedding_size=20, classification=False)"
   ]
  },
  {
   "cell_type": "code",
   "execution_count": 17,
   "metadata": {
    "collapsed": true
   },
   "outputs": [],
   "source": [
    "# 负采样\n",
    "def generate_batch(pairs, n_positive = 50, negative_ratio = 1.0):\n",
    "    \"\"\"\n",
    "    正样本从 用户观看序列pair 中随机选,\n",
    "    负样本从 从全局序列中随机选；\n",
    "    Generate batches of samples for training.\n",
    "    Random select positive samples from pairs \n",
    "    and randomly select negatives.\n",
    "    \"\"\"\n",
    "    # Create empty array to hold batch\n",
    "    batch_size = n_positive * (1 + negative_ratio)\n",
    "    batch = np.zeros((batch_size, 3))\n",
    "\n",
    "    # Continue to yield samples\n",
    "    while True:\n",
    "        # Randomly choose positive examples\n",
    "        # 采样数不能超过 pairs 的个数, 这里pairs的length 是51个  \n",
    "        for idx, (user_id, keyword_id) in enumerate(random.sample(pairs, n_positive)):\n",
    "            batch[idx, :] = (user_id, keyword_id, 1)\n",
    "        idx += 1\n",
    "\n",
    "        # Add negative examples until reach batch size\n",
    "        while idx < batch_size:\n",
    "            # Random selection\n",
    "            random_user = random.randrange(len(user_index))\n",
    "            random_keyword = random.randrange(len(keyword_index))\n",
    "\n",
    "            # print(random_user, random_keyword)\n",
    "            # Check to make sure this is not a positive example\n",
    "            if (random_user, random_keyword) not in pairs:\n",
    "                # Add to batch and increment index\n",
    "                batch[idx, :] = (random_user, random_keyword, 0)\n",
    "                idx += 1\n",
    "\n",
    "        # Make sure to shuffle order\n",
    "        np.random.shuffle(batch)\n",
    "        yield {'user': batch[:, 0], 'keyword': batch[:, 1]}, batch[:, 2]"
   ]
  },
  {
   "cell_type": "code",
   "execution_count": 46,
   "metadata": {
    "collapsed": true
   },
   "outputs": [],
   "source": [
    "n_positive = len(pairs)\n",
    "gen = generate_batch(pairs, n_positive, negative_ratio=1)"
   ]
  },
  {
   "cell_type": "code",
   "execution_count": 56,
   "metadata": {},
   "outputs": [
    {
     "data": {
      "text/plain": [
       "[(0, 1),\n",
       " (0, 6),\n",
       " (0, 7),\n",
       " (0, 8),\n",
       " (0, 0),\n",
       " (0, 4),\n",
       " (0, 5),\n",
       " (0, 2),\n",
       " (0, 3),\n",
       " (1, 19)]"
      ]
     },
     "execution_count": 56,
     "metadata": {},
     "output_type": "execute_result"
    }
   ],
   "source": [
    "pairs[:10] "
   ]
  },
  {
   "cell_type": "code",
   "execution_count": 67,
   "metadata": {},
   "outputs": [
    {
     "data": {
      "text/plain": [
       "51"
      ]
     },
     "execution_count": 67,
     "metadata": {},
     "output_type": "execute_result"
    }
   ],
   "source": [
    "len(pairs)"
   ]
  },
  {
   "cell_type": "code",
   "execution_count": 62,
   "metadata": {
    "collapsed": true
   },
   "outputs": [],
   "source": [
    "## 创建 100行,3列的 空array数组  \n",
    "negative_ratio = 1.0 \n",
    "n_positive = 50 \n",
    "# Create empty array to hold batch\n",
    "batch_size = int(n_positive * (1 + negative_ratio))\n",
    "batch = np.zeros((batch_size, 3))"
   ]
  },
  {
   "cell_type": "code",
   "execution_count": 66,
   "metadata": {},
   "outputs": [
    {
     "data": {
      "text/plain": [
       "array([[0., 0., 0.],\n",
       "       [0., 0., 0.],\n",
       "       [0., 0., 0.],\n",
       "       [0., 0., 0.],\n",
       "       [0., 0., 0.]])"
      ]
     },
     "execution_count": 66,
     "metadata": {},
     "output_type": "execute_result"
    }
   ],
   "source": [
    "batch[:5]"
   ]
  },
  {
   "cell_type": "code",
   "execution_count": 78,
   "metadata": {},
   "outputs": [
    {
     "name": "stdout",
     "output_type": "stream",
     "text": [
      "0 (2, 16)\n",
      "1 (6, 6)\n",
      "2 (0, 6)\n",
      "3 (5, 6)\n",
      "4 (0, 0)\n",
      "5 (1, 19)\n",
      "6 (5, 1)\n",
      "7 (7, 0)\n",
      "8 (4, 0)\n",
      "9 (6, 1)\n",
      "10 (0, 1)\n",
      "11 (4, 4)\n",
      "12 (1, 14)\n",
      "13 (0, 4)\n",
      "14 (3, 21)\n",
      "15 (6, 2)\n",
      "16 (7, 20)\n",
      "17 (2, 13)\n",
      "18 (5, 4)\n",
      "19 (3, 15)\n",
      "20 (6, 3)\n",
      "21 (5, 0)\n",
      "22 (1, 11)\n",
      "23 (1, 9)\n",
      "24 (0, 7)\n",
      "25 (5, 5)\n",
      "26 (0, 8)\n",
      "27 (7, 10)\n",
      "28 (7, 1)\n",
      "29 (0, 2)\n",
      "30 (4, 1)\n",
      "31 (3, 17)\n",
      "32 (6, 7)\n",
      "33 (5, 2)\n",
      "34 (3, 12)\n",
      "35 (7, 4)\n",
      "36 (0, 3)\n",
      "37 (5, 3)\n",
      "38 (2, 10)\n",
      "39 (0, 5)\n",
      "40 (4, 5)\n",
      "41 (3, 9)\n",
      "42 (3, 22)\n",
      "43 (4, 3)\n",
      "44 (6, 8)\n",
      "45 (4, 7)\n",
      "46 (4, 2)\n",
      "47 (1, 0)\n",
      "48 (6, 5)\n",
      "49 (2, 18)\n"
     ]
    }
   ],
   "source": [
    "for idx, (user_id,keyword_id)  in enumerate(random.sample(pairs, n_positive)):\n",
    "    print(idx, (user_id, keyword_id))\n",
    "    batch[idx, :] = (user_id, keyword_id, 1)\n",
    "idx += 1"
   ]
  },
  {
   "cell_type": "code",
   "execution_count": 83,
   "metadata": {},
   "outputs": [
    {
     "data": {
      "text/plain": [
       "(100, (100, 3))"
      ]
     },
     "execution_count": 83,
     "metadata": {},
     "output_type": "execute_result"
    }
   ],
   "source": [
    "len(batch), batch.shape"
   ]
  },
  {
   "cell_type": "code",
   "execution_count": null,
   "metadata": {
    "collapsed": true
   },
   "outputs": [],
   "source": [
    "# Continue to yield samples\n",
    "while True:\n",
    "    # Randomly choose positive examples\n",
    "    for idx, (user_id, keyword_id) in enumerate(random.sample(pairs, n_positive)):\n",
    "        batch[idx, :] = (user_id, keyword_id, 1)\n",
    "    idx += 1\n",
    "\n",
    "    # Add negative examples until reach batch size\n",
    "    while idx < batch_size:\n",
    "        # Random selection\n",
    "        random_user = random.randrange(len(user_index))\n",
    "        random_keyword = random.randrange(len(keyword_index))\n",
    "\n",
    "        # print(random_user, random_keyword)\n",
    "        # Check to make sure this is not a positive example\n",
    "        if (random_user, random_keyword) not in pairs:\n",
    "            # Add to batch and increment index\n",
    "            batch[idx, :] = (random_user, random_keyword, 0)\n",
    "            idx += 1\n",
    "\n",
    "    # Make sure to shuffle order\n",
    "    np.random.shuffle(batch)\n",
    "    yield {'user': batch[:, 0], 'keyword': batch[:, 1]}, batch[:, 2]"
   ]
  },
  {
   "cell_type": "code",
   "execution_count": 21,
   "metadata": {
    "scrolled": false
   },
   "outputs": [
    {
     "name": "stdout",
     "output_type": "stream",
     "text": [
      "Epoch 1/100\n",
      "1/1 [==============================] - 0s 231ms/step - loss: 0.7019 - accuracy: 0.4216\n",
      "Epoch 2/100\n",
      "1/1 [==============================] - 0s 37ms/step - loss: 0.7086 - accuracy: 0.4412\n",
      "Epoch 3/100\n",
      "1/1 [==============================] - 0s 48ms/step - loss: 0.6890 - accuracy: 0.4902\n",
      "Epoch 4/100\n",
      "1/1 [==============================] - 0s 44ms/step - loss: 0.7237 - accuracy: 0.4118\n",
      "Epoch 5/100\n",
      "1/1 [==============================] - 0s 55ms/step - loss: 0.7297 - accuracy: 0.4706\n",
      "Epoch 6/100\n",
      "1/1 [==============================] - 0s 62ms/step - loss: 0.7016 - accuracy: 0.5098\n",
      "Epoch 7/100\n",
      "1/1 [==============================] - 0s 47ms/step - loss: 0.7324 - accuracy: 0.4118\n",
      "Epoch 8/100\n",
      "1/1 [==============================] - 0s 49ms/step - loss: 0.6823 - accuracy: 0.5588\n",
      "Epoch 9/100\n",
      "1/1 [==============================] - 0s 71ms/step - loss: 0.6819 - accuracy: 0.5392\n",
      "Epoch 10/100\n",
      "1/1 [==============================] - 0s 74ms/step - loss: 0.7049 - accuracy: 0.5098\n",
      "Epoch 11/100\n",
      "1/1 [==============================] - 0s 57ms/step - loss: 0.6936 - accuracy: 0.4706\n",
      "Epoch 12/100\n",
      "1/1 [==============================] - 0s 46ms/step - loss: 0.6783 - accuracy: 0.5490\n",
      "Epoch 13/100\n",
      "1/1 [==============================] - 0s 62ms/step - loss: 0.6996 - accuracy: 0.5196\n",
      "Epoch 14/100\n",
      "1/1 [==============================] - 0s 54ms/step - loss: 0.6555 - accuracy: 0.5980\n",
      "Epoch 15/100\n",
      "1/1 [==============================] - 0s 45ms/step - loss: 0.6563 - accuracy: 0.6471\n",
      "Epoch 16/100\n",
      "1/1 [==============================] - 0s 52ms/step - loss: 0.6814 - accuracy: 0.5588\n",
      "Epoch 17/100\n",
      "1/1 [==============================] - 0s 72ms/step - loss: 0.7086 - accuracy: 0.4902\n",
      "Epoch 18/100\n",
      "1/1 [==============================] - 0s 48ms/step - loss: 0.6428 - accuracy: 0.7157\n",
      "Epoch 19/100\n",
      "1/1 [==============================] - 0s 51ms/step - loss: 0.6466 - accuracy: 0.6667\n",
      "Epoch 20/100\n",
      "1/1 [==============================] - 0s 41ms/step - loss: 0.6418 - accuracy: 0.7157\n",
      "Epoch 21/100\n",
      "1/1 [==============================] - 0s 42ms/step - loss: 0.6323 - accuracy: 0.7255\n",
      "Epoch 22/100\n",
      "1/1 [==============================] - 0s 48ms/step - loss: 0.6241 - accuracy: 0.6961\n",
      "Epoch 23/100\n",
      "1/1 [==============================] - 0s 47ms/step - loss: 0.6209 - accuracy: 0.7157\n",
      "Epoch 24/100\n",
      "1/1 [==============================] - 0s 48ms/step - loss: 0.6271 - accuracy: 0.7157\n",
      "Epoch 25/100\n",
      "1/1 [==============================] - 0s 49ms/step - loss: 0.6320 - accuracy: 0.7255\n",
      "Epoch 26/100\n",
      "1/1 [==============================] - 0s 50ms/step - loss: 0.6144 - accuracy: 0.7255\n",
      "Epoch 27/100\n",
      "1/1 [==============================] - 0s 50ms/step - loss: 0.5951 - accuracy: 0.7843\n",
      "Epoch 28/100\n",
      "1/1 [==============================] - 0s 62ms/step - loss: 0.5761 - accuracy: 0.8529\n",
      "Epoch 29/100\n",
      "1/1 [==============================] - 0s 55ms/step - loss: 0.5884 - accuracy: 0.8333\n",
      "Epoch 30/100\n",
      "1/1 [==============================] - 0s 53ms/step - loss: 0.5896 - accuracy: 0.8235\n",
      "Epoch 31/100\n",
      "1/1 [==============================] - 0s 58ms/step - loss: 0.5848 - accuracy: 0.8725\n",
      "Epoch 32/100\n",
      "1/1 [==============================] - 0s 53ms/step - loss: 0.7098 - accuracy: 0.4706\n",
      "Epoch 33/100\n",
      "1/1 [==============================] - 0s 52ms/step - loss: 0.7148 - accuracy: 0.4804\n",
      "Epoch 34/100\n",
      "1/1 [==============================] - 0s 61ms/step - loss: 0.5545 - accuracy: 0.9118\n",
      "Epoch 35/100\n",
      "1/1 [==============================] - 0s 57ms/step - loss: 0.5611 - accuracy: 0.8431\n",
      "Epoch 36/100\n",
      "1/1 [==============================] - 0s 66ms/step - loss: 0.6850 - accuracy: 0.5490\n",
      "Epoch 37/100\n",
      "1/1 [==============================] - 0s 41ms/step - loss: 0.6621 - accuracy: 0.5784\n",
      "Epoch 38/100\n",
      "1/1 [==============================] - 0s 46ms/step - loss: 0.5306 - accuracy: 0.9216\n",
      "Epoch 39/100\n",
      "1/1 [==============================] - 0s 50ms/step - loss: 0.6007 - accuracy: 0.7647\n",
      "Epoch 40/100\n",
      "1/1 [==============================] - 0s 42ms/step - loss: 0.5319 - accuracy: 0.9020\n",
      "Epoch 41/100\n",
      "1/1 [==============================] - 0s 63ms/step - loss: 0.5217 - accuracy: 0.9314\n",
      "Epoch 42/100\n",
      "1/1 [==============================] - 0s 48ms/step - loss: 0.5267 - accuracy: 0.9216\n",
      "Epoch 43/100\n",
      "1/1 [==============================] - 0s 67ms/step - loss: 0.5116 - accuracy: 0.9608\n",
      "Epoch 44/100\n",
      "1/1 [==============================] - 0s 62ms/step - loss: 0.5068 - accuracy: 0.9608\n",
      "Epoch 45/100\n",
      "1/1 [==============================] - 0s 53ms/step - loss: 0.5248 - accuracy: 0.9020\n",
      "Epoch 46/100\n",
      "1/1 [==============================] - 0s 50ms/step - loss: 0.5051 - accuracy: 0.9314\n",
      "Epoch 47/100\n",
      "1/1 [==============================] - 0s 61ms/step - loss: 0.4953 - accuracy: 0.9804\n",
      "Epoch 48/100\n",
      "1/1 [==============================] - 0s 66ms/step - loss: 0.4942 - accuracy: 0.9510\n",
      "Epoch 49/100\n",
      "1/1 [==============================] - 0s 70ms/step - loss: 0.6581 - accuracy: 0.6373\n",
      "Epoch 50/100\n",
      "1/1 [==============================] - 0s 45ms/step - loss: 0.5122 - accuracy: 0.9020\n",
      "Epoch 51/100\n",
      "1/1 [==============================] - 0s 59ms/step - loss: 0.4966 - accuracy: 0.9608\n",
      "Epoch 52/100\n",
      "1/1 [==============================] - 0s 62ms/step - loss: 0.4709 - accuracy: 0.9706\n",
      "Epoch 53/100\n",
      "1/1 [==============================] - 0s 52ms/step - loss: 0.6416 - accuracy: 0.6078\n",
      "Epoch 54/100\n",
      "1/1 [==============================] - 0s 73ms/step - loss: 0.4652 - accuracy: 0.9902\n",
      "Epoch 55/100\n",
      "1/1 [==============================] - 0s 56ms/step - loss: 0.4693 - accuracy: 0.9608\n",
      "Epoch 56/100\n",
      "1/1 [==============================] - 0s 50ms/step - loss: 0.7190 - accuracy: 0.5294\n",
      "Epoch 57/100\n",
      "1/1 [==============================] - 0s 50ms/step - loss: 0.6283 - accuracy: 0.6765\n",
      "Epoch 58/100\n",
      "1/1 [==============================] - 0s 41ms/step - loss: 0.6903 - accuracy: 0.5686\n",
      "Epoch 59/100\n",
      "1/1 [==============================] - 0s 55ms/step - loss: 0.4520 - accuracy: 0.9804\n",
      "Epoch 60/100\n",
      "1/1 [==============================] - 0s 43ms/step - loss: 0.4548 - accuracy: 0.9510\n",
      "Epoch 61/100\n",
      "1/1 [==============================] - 0s 79ms/step - loss: 0.4525 - accuracy: 0.9510\n",
      "Epoch 62/100\n",
      "1/1 [==============================] - 0s 59ms/step - loss: 0.4499 - accuracy: 0.9608\n",
      "Epoch 63/100\n",
      "1/1 [==============================] - 0s 54ms/step - loss: 0.4375 - accuracy: 0.9804\n",
      "Epoch 64/100\n",
      "1/1 [==============================] - 0s 42ms/step - loss: 0.6807 - accuracy: 0.5784\n",
      "Epoch 65/100\n",
      "1/1 [==============================] - 0s 54ms/step - loss: 0.6785 - accuracy: 0.5882\n",
      "Epoch 66/100\n",
      "1/1 [==============================] - 0s 42ms/step - loss: 0.5155 - accuracy: 0.8627\n",
      "Epoch 67/100\n",
      "1/1 [==============================] - 0s 59ms/step - loss: 0.4337 - accuracy: 0.9804\n",
      "Epoch 68/100\n",
      "1/1 [==============================] - 0s 52ms/step - loss: 0.4365 - accuracy: 0.9510\n",
      "Epoch 69/100\n",
      "1/1 [==============================] - 0s 51ms/step - loss: 0.4441 - accuracy: 0.9412\n",
      "Epoch 70/100\n",
      "1/1 [==============================] - 0s 51ms/step - loss: 0.4300 - accuracy: 0.9706\n",
      "Epoch 71/100\n",
      "1/1 [==============================] - 0s 49ms/step - loss: 0.4222 - accuracy: 0.9706\n",
      "Epoch 72/100\n",
      "1/1 [==============================] - 0s 50ms/step - loss: 0.6636 - accuracy: 0.6078\n",
      "Epoch 73/100\n",
      "1/1 [==============================] - 0s 51ms/step - loss: 0.4167 - accuracy: 0.9706\n",
      "Epoch 74/100\n",
      "1/1 [==============================] - 0s 48ms/step - loss: 0.6449 - accuracy: 0.6667\n",
      "Epoch 75/100\n",
      "1/1 [==============================] - 0s 47ms/step - loss: 0.7167 - accuracy: 0.5686\n",
      "Epoch 76/100\n",
      "1/1 [==============================] - 0s 47ms/step - loss: 0.7824 - accuracy: 0.4804\n",
      "Epoch 77/100\n",
      "1/1 [==============================] - 0s 54ms/step - loss: 0.4193 - accuracy: 0.9608\n",
      "Epoch 78/100\n",
      "1/1 [==============================] - 0s 71ms/step - loss: 0.4159 - accuracy: 0.9706\n",
      "Epoch 79/100\n",
      "1/1 [==============================] - 0s 51ms/step - loss: 0.6648 - accuracy: 0.6373\n",
      "Epoch 80/100\n",
      "1/1 [==============================] - 0s 52ms/step - loss: 0.4076 - accuracy: 0.9804\n",
      "Epoch 81/100\n",
      "1/1 [==============================] - 0s 51ms/step - loss: 0.7418 - accuracy: 0.5686\n",
      "Epoch 82/100\n",
      "1/1 [==============================] - 0s 40ms/step - loss: 0.5458 - accuracy: 0.7745\n",
      "Epoch 83/100\n",
      "1/1 [==============================] - 0s 48ms/step - loss: 0.4070 - accuracy: 0.9804\n"
     ]
    },
    {
     "name": "stdout",
     "output_type": "stream",
     "text": [
      "Epoch 84/100\n",
      "1/1 [==============================] - 0s 35ms/step - loss: 0.4228 - accuracy: 0.9510\n",
      "Epoch 85/100\n",
      "1/1 [==============================] - 0s 55ms/step - loss: 0.7542 - accuracy: 0.5196\n",
      "Epoch 86/100\n",
      "1/1 [==============================] - 0s 49ms/step - loss: 0.4193 - accuracy: 0.9706\n",
      "Epoch 87/100\n",
      "1/1 [==============================] - 0s 37ms/step - loss: 0.4149 - accuracy: 0.9902\n",
      "Epoch 88/100\n",
      "1/1 [==============================] - 0s 45ms/step - loss: 0.4032 - accuracy: 0.9804\n",
      "Epoch 89/100\n",
      "1/1 [==============================] - 0s 52ms/step - loss: 0.4017 - accuracy: 0.9608\n",
      "Epoch 90/100\n",
      "1/1 [==============================] - 0s 51ms/step - loss: 0.6887 - accuracy: 0.5686\n",
      "Epoch 91/100\n",
      "1/1 [==============================] - 0s 40ms/step - loss: 0.7439 - accuracy: 0.6078\n",
      "Epoch 92/100\n",
      "1/1 [==============================] - 0s 55ms/step - loss: 0.7487 - accuracy: 0.4412\n",
      "Epoch 93/100\n",
      "1/1 [==============================] - 0s 52ms/step - loss: 0.7835 - accuracy: 0.5000\n",
      "Epoch 94/100\n",
      "1/1 [==============================] - 0s 48ms/step - loss: 0.7870 - accuracy: 0.5000\n",
      "Epoch 95/100\n",
      "1/1 [==============================] - 0s 45ms/step - loss: 0.4306 - accuracy: 0.9314\n",
      "Epoch 96/100\n",
      "1/1 [==============================] - 0s 54ms/step - loss: 0.4119 - accuracy: 0.9706\n",
      "Epoch 97/100\n",
      "1/1 [==============================] - 0s 52ms/step - loss: 0.3896 - accuracy: 1.0000\n",
      "Epoch 98/100\n",
      "1/1 [==============================] - 0s 41ms/step - loss: 0.3864 - accuracy: 0.9902\n",
      "Epoch 99/100\n",
      "1/1 [==============================] - 0s 44ms/step - loss: 0.3954 - accuracy: 0.9804\n",
      "Epoch 100/100\n",
      "1/1 [==============================] - 0s 47ms/step - loss: 0.3964 - accuracy: 0.9902\n"
     ]
    }
   ],
   "source": [
    "\n",
    "# Train\n",
    "h = model.fit_generator(gen, epochs=100, steps_per_epoch=len(pairs) // n_positive)\n",
    "\n",
    "# Extract embeddings\n",
    "user_layer = model.get_layer('user_embedding')\n",
    "user_weights = user_layer.get_weights()[0]\n",
    "\n",
    "keyword_layer = model.get_layer('keyword_embedding')\n",
    "keyword_weights = keyword_layer.get_weights()[0]"
   ]
  },
  {
   "cell_type": "code",
   "execution_count": 22,
   "metadata": {
    "scrolled": false
   },
   "outputs": [
    {
     "name": "stdout",
     "output_type": "stream",
     "text": [
      "user_weights<<<<<<<<<<<<<<<< [[ 3.09637282e-02 -2.37099528e-02  1.62288919e-02 -7.07484409e-02\n",
      "  -6.11395761e-03  1.63467159e-03  4.82127964e-02  4.96753715e-02\n",
      "  -9.78266262e-03  6.98231682e-02  4.79116477e-02 -1.55000957e-02\n",
      "  -6.21189103e-02  1.90602224e-02 -4.11579572e-02  2.20483001e-02\n",
      "  -1.62875548e-03 -3.70597504e-02  5.83592476e-03 -7.51909055e-03]\n",
      " [-6.01839870e-02 -2.37399321e-02 -3.36647630e-02 -2.54096463e-02\n",
      "   8.54421966e-03  4.25762422e-02 -2.97086849e-03  6.59334334e-03\n",
      "  -1.03700543e-02  7.14505650e-03 -3.96692306e-02  6.94450969e-03\n",
      "  -3.95261683e-02  4.66429517e-02  3.78991552e-02  6.94792019e-03\n",
      "  -6.88189641e-02  1.71536449e-02 -5.68379201e-02  3.44302692e-02]\n",
      " [ 2.57407781e-02 -5.67690320e-02  2.80867256e-02  5.88537380e-02\n",
      "  -3.53545807e-02  1.87111441e-02 -3.52510158e-03 -1.01150991e-02\n",
      "   3.12948525e-02 -3.72253656e-02 -1.03871077e-02 -6.50873408e-02\n",
      "  -9.75976815e-04 -4.40456942e-02 -3.26272734e-02 -9.76784900e-03\n",
      "  -7.41525227e-03  6.40498847e-02  1.34065766e-02 -4.94981632e-02]\n",
      " [-1.61474664e-02  6.27119616e-02 -4.57018316e-02  2.41303891e-02\n",
      "  -1.50773274e-02 -2.51929965e-02  9.71034914e-03  1.16928741e-02\n",
      "  -9.47073661e-03 -2.02942565e-02 -2.51191463e-02  7.35364109e-02\n",
      "   6.59833178e-02  2.20817570e-02  4.21202704e-02 -1.73555668e-02\n",
      "   3.66855562e-02 -1.40485233e-02  2.46896669e-02  6.33706525e-03]\n",
      " [ 3.01707387e-02 -2.00806949e-02  1.38784582e-02 -5.12816273e-02\n",
      "  -1.61055685e-03 -4.09652057e-05  4.11298759e-02  5.10989800e-02\n",
      "  -5.45014022e-03  5.09140529e-02  2.34006122e-02 -1.64217502e-02\n",
      "  -4.49678041e-02  3.44766788e-02 -1.93227995e-02  3.34894806e-02\n",
      "   1.20075885e-02 -3.04005072e-02 -5.52063691e-04 -5.06243529e-03]\n",
      " [-2.28083460e-03 -4.33330275e-02  2.96418928e-02 -5.81796430e-02\n",
      "  -2.79312450e-02  3.47789489e-02  3.83941494e-02  8.31970274e-02\n",
      "  -6.44303532e-03  4.34052236e-02  2.48349905e-02  9.08930320e-03\n",
      "  -6.73056245e-02  2.62241941e-02 -3.33782993e-02  3.57553340e-03\n",
      "   4.02417034e-03 -9.91708413e-03  1.87520999e-02 -1.52153438e-02]\n",
      " [ 3.05152554e-02 -1.17949108e-02 -1.87177695e-02 -6.00394905e-02\n",
      "  -1.04016997e-02 -2.11762637e-02  6.43744133e-03  7.30940178e-02\n",
      "  -2.57767388e-03  1.67165063e-02  5.33368923e-02 -3.46811339e-02\n",
      "  -6.52863532e-02 -2.94653187e-03 -4.27993536e-02  4.98791132e-03\n",
      "   1.65848117e-02 -3.06350738e-02  9.31063667e-03  1.29316067e-02]\n",
      " [ 3.87894996e-02 -3.18320394e-02  3.67321037e-02  2.76228320e-02\n",
      "  -9.08454007e-04  6.56152517e-02  1.21336496e-02  2.94221081e-02\n",
      "   1.34458495e-02  3.42557542e-02  1.94951594e-02  6.54911809e-03\n",
      "  -1.12104267e-02  8.12069513e-03  3.43923531e-02  5.09932302e-02\n",
      "  -4.88027837e-03  5.75408041e-02  1.81399211e-02 -2.75445939e-03]]\n",
      "word_weights<<<<<<<<<<<<<<<< [[-3.18583939e-03 -1.92091260e-02  2.31593903e-02 -3.80489007e-02\n",
      "  -2.57984363e-03  4.79931757e-02  4.87132967e-02  3.83889899e-02\n",
      "   2.75096996e-03  6.55802265e-02  1.10437665e-02  1.18908985e-02\n",
      "  -5.20168915e-02  4.60467003e-02  1.15717314e-02  4.55655605e-02\n",
      "  -2.86893882e-02  1.23834321e-02 -9.29806381e-03  1.42476726e-02]\n",
      " [ 6.09575398e-02 -4.05388065e-02  3.04235816e-02 -5.31729497e-02\n",
      "  -8.62414949e-03  1.32440431e-02  4.13651764e-03  7.42125511e-02\n",
      "   2.42892024e-03  6.46025389e-02  3.26203108e-02 -5.66191785e-03\n",
      "  -5.34791760e-02  4.36030934e-03 -5.77337900e-03  4.47073020e-02\n",
      "   5.80830267e-03 -4.39755665e-03  2.32453384e-02 -7.55091617e-03]\n",
      " [ 8.74418672e-03  1.16199823e-02  5.93898492e-03 -7.85636082e-02\n",
      "  -8.85507185e-03 -1.13026295e-02  3.45401056e-02  6.85351640e-02\n",
      "  -1.80191603e-02  4.20882180e-02  2.94194873e-02 -1.97952371e-02\n",
      "  -2.34437231e-02  1.20886508e-02 -5.14565855e-02  1.22104050e-03\n",
      "   1.24187190e-02 -3.41791436e-02  5.04175900e-03 -4.39171167e-03]\n",
      " [ 2.10224241e-02 -3.01534054e-03  1.36693940e-02 -8.42981189e-02\n",
      "  -7.60169653e-03 -2.73652319e-02  2.22199988e-02  6.02752268e-02\n",
      "   2.51254858e-03  4.99808155e-02  2.89396215e-02 -2.22238339e-02\n",
      "  -6.73311427e-02  1.92193035e-02 -5.86334541e-02 -1.02403024e-02\n",
      "   7.41164293e-03 -6.47658855e-02  8.69446062e-03 -7.09258765e-03]\n",
      " [ 3.46228592e-02 -3.75733897e-02  4.29168008e-02 -3.15028206e-02\n",
      "   8.09905399e-03  1.79499257e-02  5.27789444e-02  4.03036661e-02\n",
      "  -1.02149742e-02  5.76089993e-02  1.31979892e-02  5.59302466e-03\n",
      "  -3.43742967e-02  3.17358822e-02 -1.71286520e-02  1.85387358e-02\n",
      "   1.39708053e-02 -1.60068423e-02  1.46496147e-02 -2.35887188e-02]\n",
      " [ 2.70228982e-02 -2.11735237e-02 -7.02814292e-03 -5.48854880e-02\n",
      "   2.90657277e-03 -2.49128882e-02  1.79134142e-02  2.25783531e-02\n",
      "  -2.84020081e-02  2.43660286e-02  4.57391515e-02 -1.01500330e-02\n",
      "  -6.69468939e-02  1.05520794e-02 -3.10022291e-02  1.93038825e-02\n",
      "   3.22603472e-02 -5.27892970e-02  7.11615477e-03  2.84181978e-03]\n",
      " [-9.72174294e-03  3.45193548e-03  1.60249453e-02 -5.74402474e-02\n",
      "  -8.41518492e-03  6.64254744e-03  2.29032543e-02  4.43304628e-02\n",
      "  -1.28284730e-02  4.19607088e-02  6.27328530e-02 -6.47773966e-03\n",
      "  -4.61390093e-02 -2.20572352e-02 -7.32234195e-02 -3.56847867e-02\n",
      "  -1.20903999e-02 -3.38136293e-02  4.83941333e-03  6.81895716e-03]\n",
      " [ 4.97628450e-02  7.43826013e-03 -1.55730480e-02 -3.48798372e-02\n",
      "   1.66810118e-02 -5.29419035e-02  2.47840807e-02  5.48844319e-03\n",
      "   4.86807805e-03  3.78532596e-02  1.59492623e-02 -2.92398278e-02\n",
      "  -1.01900874e-02  5.95272100e-03 -2.73354426e-02  5.09215519e-03\n",
      "   2.99183242e-02 -6.47248253e-02 -1.65597815e-02  1.61878206e-02]\n",
      " [ 3.70172784e-02  2.84043755e-02 -1.48426872e-02 -3.95756662e-02\n",
      "   1.07844668e-02 -5.48396595e-02  1.64583884e-02  2.62276269e-02\n",
      "  -8.54946021e-03  3.45654711e-02  4.87868451e-02 -2.95168366e-02\n",
      "  -3.12548690e-02 -4.41611512e-03 -2.92480439e-02  2.10432485e-02\n",
      "   1.23192079e-03 -6.10174388e-02 -1.29253580e-03  6.30037952e-03]\n",
      " [-7.85838813e-02  3.13986130e-02 -5.15245758e-02  2.55961251e-02\n",
      "   8.57939292e-03 -2.14150455e-02 -2.79824063e-02 -3.42593738e-03\n",
      "  -2.84232292e-02 -1.25670712e-02 -6.32968098e-02  5.78985289e-02\n",
      "   1.53618744e-02 -3.49761336e-03  6.13122433e-02 -6.48419373e-03\n",
      "  -4.79921326e-02 -1.98643748e-03 -1.50597906e-02  1.56377517e-02]\n",
      " [ 5.35852313e-02 -3.70344967e-02  1.16985673e-02  8.83515626e-02\n",
      "   8.68748128e-03  4.85089645e-02 -3.33070159e-02 -1.63063090e-02\n",
      "   2.72629652e-02 -6.70596259e-03  2.72557838e-04 -2.68994067e-02\n",
      "   4.01226394e-02 -3.34999934e-02  1.46008478e-02  7.18593970e-03\n",
      "   1.08820514e-03  5.55829145e-02  6.97929971e-03 -3.98729965e-02]\n",
      " [-2.53062416e-02  2.55853049e-02 -5.28982878e-02 -1.08056162e-02\n",
      "   3.13346535e-02 -4.22496162e-03 -2.44483184e-02 -3.34288925e-02\n",
      "   1.89962983e-02 -9.50377062e-03 -4.14675735e-02  6.42737723e-04\n",
      "  -1.60301477e-02  2.31515523e-02  1.86236370e-02 -1.88868474e-02\n",
      "  -5.55007868e-02  9.16776154e-03 -2.11536121e-02  4.07771021e-02]\n",
      " [-2.48376317e-02  5.97801842e-02  3.85984499e-03  3.26714553e-02\n",
      "  -1.14349527e-02 -4.26646918e-02 -3.28869671e-02 -3.82120609e-02\n",
      "   8.78275093e-03 -2.10153274e-02 -1.73513517e-02  5.44609353e-02\n",
      "   6.38634712e-02  1.65455360e-02  2.43458338e-02 -2.75577400e-02\n",
      "   2.29119714e-02 -4.91575059e-03  1.19030811e-02 -6.44696178e-03]\n",
      " [-1.85343549e-02 -8.05168506e-03  1.81959942e-02  5.06949984e-02\n",
      "  -1.60198081e-02 -2.94004306e-02 -1.83728884e-03 -7.52409250e-02\n",
      "  -7.15514598e-03 -6.90173358e-02 -1.21211857e-02 -5.04284762e-02\n",
      "   3.65004912e-02 -7.57380724e-02 -2.72023845e-02 -3.29896957e-02\n",
      "   9.21762362e-03  1.55024491e-02  3.75856981e-02 -4.22732644e-02]\n",
      " [-4.20936011e-02 -2.13285871e-02 -3.44083793e-02  9.06383619e-03\n",
      "  -7.31508539e-04 -3.34336353e-03 -3.08476109e-02 -6.94334656e-02\n",
      "  -3.29601169e-02 -1.16321193e-02 -3.63678075e-02 -2.08595488e-02\n",
      "   1.75649747e-02  3.92073505e-02  1.84246227e-02  4.65964479e-03\n",
      "  -4.15691361e-02  2.73247398e-02 -6.00163601e-02  1.44676398e-03]\n",
      " [-2.80759707e-02  7.22794458e-02 -2.36874092e-02  2.25637779e-02\n",
      "   2.88482998e-02 -4.87925299e-02 -1.43007440e-02 -1.76506769e-02\n",
      "   3.01664006e-02 -8.08655657e-03 -4.05630842e-02  4.53887880e-02\n",
      "   7.68485144e-02 -1.54280094e-02  4.87197824e-02 -3.67327034e-02\n",
      "   2.97797825e-02  5.85176423e-03  2.23380402e-02  6.09074580e-03]\n",
      " [ 1.34068085e-02 -2.04680418e-03  5.29818647e-02  2.43727304e-02\n",
      "  -2.89895050e-02 -1.80457477e-02 -5.10002784e-02 -4.20729853e-02\n",
      "   4.21231519e-03 -4.62910794e-02 -2.17910931e-02 -3.76339741e-02\n",
      "  -8.28825310e-03 -8.40801671e-02 -4.30930145e-02 -3.03936116e-02\n",
      "   1.04668667e-03  6.37492537e-02  1.69962496e-02  1.33512320e-03]\n",
      " [ 9.83016752e-03  5.31984903e-02 -2.22120546e-02  1.87783726e-02\n",
      "   2.78620850e-02 -1.38695780e-02  2.25539343e-03 -4.18566577e-02\n",
      "  -2.72024292e-02 -4.82444242e-02 -9.96468961e-03  3.86335328e-02\n",
      "   7.06318840e-02 -1.30901011e-02  1.25161987e-02 -3.60900350e-03\n",
      "   2.16034483e-02 -3.15316543e-02 -6.22811168e-03  1.69914849e-02]\n",
      " [ 4.80865099e-04 -8.50724801e-03  1.99674554e-02  4.81857397e-02\n",
      "  -8.78799614e-03 -1.06006693e-02  8.19379638e-05 -6.86473995e-02\n",
      "   2.38358546e-02 -3.48922387e-02 -2.04877052e-02 -3.82891074e-02\n",
      "   4.09940369e-02 -2.95691472e-02 -1.60766747e-02 -1.13993213e-02\n",
      "  -2.26457492e-02  1.48041323e-02 -6.69560861e-03 -4.01470661e-02]\n",
      " [-2.07509436e-02  1.35420626e-02  8.88469070e-03 -4.41197567e-02\n",
      "   5.05850129e-02  3.24460156e-02 -5.32833003e-02 -6.28214628e-02\n",
      "  -3.35208001e-03 -2.68922076e-02 -4.08104658e-02 -6.77982625e-03\n",
      "   5.08055603e-03 -1.19921472e-02  4.50973101e-02 -3.70783471e-02\n",
      "  -4.42344509e-02 -3.73837166e-02 -8.96053314e-02  3.64960171e-02]\n",
      " [ 2.19761934e-02  2.96317153e-02  5.71110956e-02  5.39777242e-02\n",
      "   3.21184099e-02  2.79687438e-02 -2.59671323e-02 -6.77286536e-02\n",
      "  -1.16061214e-02 -1.21790729e-02  8.99734627e-03  3.01285135e-03\n",
      "   4.19802107e-02 -4.60808128e-02  4.36984412e-02  3.99468951e-02\n",
      "  -5.82239497e-03  3.68879773e-02  1.42158018e-02  3.03159878e-02]\n",
      " [-1.00735668e-02  5.96787669e-02 -1.93738826e-02  2.77839936e-02\n",
      "   1.90197229e-02 -4.36837934e-02 -1.18428757e-02 -3.29271965e-02\n",
      "  -1.26671586e-02 -5.83755411e-03 -1.44307846e-02  7.02726543e-02\n",
      "   7.08473474e-02  1.22488486e-02  1.87413767e-02 -3.28416601e-02\n",
      "   2.26958524e-02 -7.68544385e-04 -5.49218908e-04 -6.97723357e-03]\n",
      " [-9.16593336e-03  4.72693294e-02 -3.93155627e-02  2.70047616e-02\n",
      "   2.10172427e-03 -3.27121653e-03 -1.54938018e-02 -5.22140376e-02\n",
      "  -5.25398972e-03 -3.11799906e-02 -2.31614131e-02  3.41806039e-02\n",
      "   5.49587682e-02 -8.75880197e-03  3.69806550e-02 -1.78074092e-02\n",
      "   4.73524816e-02 -5.12226224e-02  3.42395082e-02  2.12856978e-02]]\n"
     ]
    }
   ],
   "source": [
    "print(\"user_weights<<<<<<<<<<<<<<<<\",user_weights)\n",
    "print(\"word_weights<<<<<<<<<<<<<<<<\",keyword_weights)"
   ]
  },
  {
   "cell_type": "code",
   "execution_count": 23,
   "metadata": {},
   "outputs": [
    {
     "name": "stdout",
     "output_type": "stream",
     "text": [
      "[[ 0.03096373 -0.02370995  0.01622889 -0.07074844 -0.00611396  0.00163467\n",
      "   0.0482128   0.04967537 -0.00978266  0.06982317  0.04791165 -0.0155001\n",
      "  -0.06211891  0.01906022 -0.04115796  0.0220483  -0.00162876 -0.03705975\n",
      "   0.00583592 -0.00751909]]\n"
     ]
    }
   ],
   "source": [
    "#calculate cosine similarity\n",
    "from sklearn.metrics.pairwise import cosine_similarity\n",
    "print(user_weights[0:1])"
   ]
  },
  {
   "cell_type": "code",
   "execution_count": 24,
   "metadata": {},
   "outputs": [
    {
     "name": "stdout",
     "output_type": "stream",
     "text": [
      "++++++++++ [[ 0.9999999  -0.01685169 -0.22256094 -0.48485026  0.95683956  0.8507678\n",
      "   0.818949    0.19291675]]\n",
      "********** [0 4 5 6]\n"
     ]
    }
   ],
   "source": [
    "#计算第1个用户与其他用户的相似系数\n",
    "cos = cosine_similarity(user_weights[0:1], user_weights)\n",
    "recommendations = cos[0].argsort()[-4:][::-1]\n",
    "print(\"++++++++++\",cos)\n",
    "print(\"**********\",recommendations)"
   ]
  },
  {
   "cell_type": "code",
   "execution_count": 25,
   "metadata": {},
   "outputs": [
    {
     "name": "stdout",
     "output_type": "stream",
     "text": [
      "[[-1.0553447e-01 -1.1883489e-02]\n",
      " [ 6.2193949e-02 -5.4816421e-02]\n",
      " [ 8.6953446e-02  1.4526501e-01]\n",
      " [ 1.3923810e-01 -1.0809699e-01]\n",
      " [-6.7732185e-02 -1.7343177e-02]\n",
      " [-7.7704996e-02 -2.9444003e-05]\n",
      " [-8.0601893e-02 -1.1086222e-02]\n",
      " [ 4.3188032e-02  5.7990763e-02]]\n",
      "[-0.10553447  0.06219395  0.08695345  0.1392381  -0.06773219 -0.077705\n",
      " -0.08060189  0.04318803]\n",
      "[-1.1883489e-02 -5.4816421e-02  1.4526501e-01 -1.0809699e-01\n",
      " -1.7343177e-02 -2.9444003e-05 -1.1086222e-02  5.7990763e-02]\n"
     ]
    },
    {
     "name": "stderr",
     "output_type": "stream",
     "text": [
      "/anaconda3/lib/python3.6/site-packages/scipy/stats/stats.py:1633: FutureWarning: Using a non-tuple sequence for multidimensional indexing is deprecated; use `arr[tuple(seq)]` instead of `arr[seq]`. In the future this will be interpreted as an array index, `arr[np.array(seq)]`, which will result either in an error or a different result.\n",
      "  return np.add.reduce(sorted[indexer] * weights, axis=axis) / sumval\n"
     ]
    },
    {
     "data": {
      "image/png": "[encoded data removed]",
      "text/plain": [
       "<matplotlib.figure.Figure at 0x18357fe550>"
      ]
     },
     "metadata": {},
     "output_type": "display_data"
    }
   ],
   "source": [
    "import matplotlib.pyplot as plt\n",
    "from sklearn.decomposition import PCA\n",
    "import seaborn as sns\n",
    "\n",
    "#主成分PCA可视化\n",
    "pca = PCA(n_components=2)\n",
    "pca_result = pca.fit_transform(user_weights)\n",
    "print(pca_result)\n",
    "print(pca_result[:,0])\n",
    "print(pca_result[:,1])\n",
    "\n",
    "sns.jointplot(x=pca_result[:,0], y=pca_result[:,1])\n",
    "plt.show()"
   ]
  },
  {
   "cell_type": "code",
   "execution_count": 26,
   "metadata": {
    "scrolled": false
   },
   "outputs": [
    {
     "name": "stdout",
     "output_type": "stream",
     "text": [
      "     total_bill   tip     sex smoker   day    time  size\n",
      "0         16.99  1.01  Female     No   Sun  Dinner     2\n",
      "1         10.34  1.66    Male     No   Sun  Dinner     3\n",
      "2         21.01  3.50    Male     No   Sun  Dinner     3\n",
      "3         23.68  3.31    Male     No   Sun  Dinner     2\n",
      "4         24.59  3.61  Female     No   Sun  Dinner     4\n",
      "5         25.29  4.71    Male     No   Sun  Dinner     4\n",
      "6          8.77  2.00    Male     No   Sun  Dinner     2\n",
      "7         26.88  3.12    Male     No   Sun  Dinner     4\n",
      "8         15.04  1.96    Male     No   Sun  Dinner     2\n",
      "9         14.78  3.23    Male     No   Sun  Dinner     2\n",
      "10        10.27  1.71    Male     No   Sun  Dinner     2\n",
      "11        35.26  5.00  Female     No   Sun  Dinner     4\n",
      "12        15.42  1.57    Male     No   Sun  Dinner     2\n",
      "13        18.43  3.00    Male     No   Sun  Dinner     4\n",
      "14        14.83  3.02  Female     No   Sun  Dinner     2\n",
      "15        21.58  3.92    Male     No   Sun  Dinner     2\n",
      "16        10.33  1.67  Female     No   Sun  Dinner     3\n",
      "17        16.29  3.71    Male     No   Sun  Dinner     3\n",
      "18        16.97  3.50  Female     No   Sun  Dinner     3\n",
      "19        20.65  3.35    Male     No   Sat  Dinner     3\n",
      "20        17.92  4.08    Male     No   Sat  Dinner     2\n",
      "21        20.29  2.75  Female     No   Sat  Dinner     2\n",
      "22        15.77  2.23  Female     No   Sat  Dinner     2\n",
      "23        39.42  7.58    Male     No   Sat  Dinner     4\n",
      "24        19.82  3.18    Male     No   Sat  Dinner     2\n",
      "25        17.81  2.34    Male     No   Sat  Dinner     4\n",
      "26        13.37  2.00    Male     No   Sat  Dinner     2\n",
      "27        12.69  2.00    Male     No   Sat  Dinner     2\n",
      "28        21.70  4.30    Male     No   Sat  Dinner     2\n",
      "29        19.65  3.00  Female     No   Sat  Dinner     2\n",
      "..          ...   ...     ...    ...   ...     ...   ...\n",
      "214       28.17  6.50  Female    Yes   Sat  Dinner     3\n",
      "215       12.90  1.10  Female    Yes   Sat  Dinner     2\n",
      "216       28.15  3.00    Male    Yes   Sat  Dinner     5\n",
      "217       11.59  1.50    Male    Yes   Sat  Dinner     2\n",
      "218        7.74  1.44    Male    Yes   Sat  Dinner     2\n",
      "219       30.14  3.09  Female    Yes   Sat  Dinner     4\n",
      "220       12.16  2.20    Male    Yes   Fri   Lunch     2\n",
      "221       13.42  3.48  Female    Yes   Fri   Lunch     2\n",
      "222        8.58  1.92    Male    Yes   Fri   Lunch     1\n",
      "223       15.98  3.00  Female     No   Fri   Lunch     3\n",
      "224       13.42  1.58    Male    Yes   Fri   Lunch     2\n",
      "225       16.27  2.50  Female    Yes   Fri   Lunch     2\n",
      "226       10.09  2.00  Female    Yes   Fri   Lunch     2\n",
      "227       20.45  3.00    Male     No   Sat  Dinner     4\n",
      "228       13.28  2.72    Male     No   Sat  Dinner     2\n",
      "229       22.12  2.88  Female    Yes   Sat  Dinner     2\n",
      "230       24.01  2.00    Male    Yes   Sat  Dinner     4\n",
      "231       15.69  3.00    Male    Yes   Sat  Dinner     3\n",
      "232       11.61  3.39    Male     No   Sat  Dinner     2\n",
      "233       10.77  1.47    Male     No   Sat  Dinner     2\n",
      "234       15.53  3.00    Male    Yes   Sat  Dinner     2\n",
      "235       10.07  1.25    Male     No   Sat  Dinner     2\n",
      "236       12.60  1.00    Male    Yes   Sat  Dinner     2\n",
      "237       32.83  1.17    Male    Yes   Sat  Dinner     2\n",
      "238       35.83  4.67  Female     No   Sat  Dinner     3\n",
      "239       29.03  5.92    Male     No   Sat  Dinner     3\n",
      "240       27.18  2.00  Female    Yes   Sat  Dinner     2\n",
      "241       22.67  2.00    Male    Yes   Sat  Dinner     2\n",
      "242       17.82  1.75    Male     No   Sat  Dinner     2\n",
      "243       18.78  3.00  Female     No  Thur  Dinner     2\n",
      "\n",
      "[244 rows x 7 columns]\n",
      "<class 'pandas.core.frame.DataFrame'>\n"
     ]
    },
    {
     "name": "stderr",
     "output_type": "stream",
     "text": [
      "/anaconda3/lib/python3.6/site-packages/scipy/stats/stats.py:1633: FutureWarning: Using a non-tuple sequence for multidimensional indexing is deprecated; use `arr[tuple(seq)]` instead of `arr[seq]`. In the future this will be interpreted as an array index, `arr[np.array(seq)]`, which will result either in an error or a different result.\n",
      "  return np.add.reduce(sorted[indexer] * weights, axis=axis) / sumval\n"
     ]
    },
    {
     "data": {
      "image/png": "[encoded data removed]",
      "text/plain": [
       "<matplotlib.figure.Figure at 0x1a41751a90>"
      ]
     },
     "metadata": {},
     "output_type": "display_data"
    },
    {
     "data": {
      "image/png": "[encoded data removed]",
      "text/plain": [
       "<matplotlib.figure.Figure at 0x1a41751da0>"
      ]
     },
     "metadata": {},
     "output_type": "display_data"
    }
   ],
   "source": [
    "# 二维数据交互关系展示\n",
    "tips = sns.load_dataset(\"tips\")\n",
    "print(tips)\n",
    "print(type(tips))\n",
    "g = sns.jointplot(x=\"total_bill\", y=\"tip\", data=tips)\n",
    "g2 = sns.jointplot(x=\"total_bill\", y=\"tip\", data=tips, kind=\"scatter\")\n",
    "plt.show()"
   ]
  },
  {
   "cell_type": "code",
   "execution_count": null,
   "metadata": {
    "collapsed": true
   },
   "outputs": [],
   "source": []
  }
 ],
 "metadata": {
  "kernelspec": {
   "display_name": "Python 3",
   "language": "python",
   "name": "python3"
  },
  "language_info": {
   "codemirror_mode": {
    "name": "ipython",
    "version": 3
   },
   "file_extension": ".py",
   "mimetype": "text/x-python",
   "name": "python",
   "nbconvert_exporter": "python",
   "pygments_lexer": "ipython3",
   "version": "3.6.2"
  }
 },
 "nbformat": 4,
 "nbformat_minor": 2
}
