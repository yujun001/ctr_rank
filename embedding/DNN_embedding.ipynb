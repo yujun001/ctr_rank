{
 "cells": [
  {
   "cell_type": "code",
   "execution_count": 2,
   "metadata": {
    "collapsed": true
   },
   "outputs": [],
   "source": [
    "## dataset with user_keywords \n",
    "import pandas as pd\n",
    "import numpy as np\n",
    "import os\n",
    "import tensorflow as tf \n",
    "import random\n",
    "random.seed(100)\n",
    "os.environ['TF_CPP_MIN_LOG_LEVEL'] = '2' "
   ]
  },
  {
   "cell_type": "code",
   "execution_count": 250,
   "metadata": {
    "collapsed": true
   },
   "outputs": [],
   "source": [
    "# load dataset\n",
    "user_keywords = pd.read_csv('./dataset/user_keywords.csv')"
   ]
  },
  {
   "cell_type": "code",
   "execution_count": 47,
   "metadata": {
    "scrolled": true
   },
   "outputs": [
    {
     "data": {
      "text/html": [
       "<div>\n",
       "<style scoped>\n",
       "    .dataframe tbody tr th:only-of-type {\n",
       "        vertical-align: middle;\n",
       "    }\n",
       "\n",
       "    .dataframe tbody tr th {\n",
       "        vertical-align: top;\n",
       "    }\n",
       "\n",
       "    .dataframe thead th {\n",
       "        text-align: right;\n",
       "    }\n",
       "</style>\n",
       "<table border=\"1\" class=\"dataframe\">\n",
       "  <thead>\n",
       "    <tr style=\"text-align: right;\">\n",
       "      <th></th>\n",
       "      <th>user_id</th>\n",
       "      <th>keywords</th>\n",
       "    </tr>\n",
       "  </thead>\n",
       "  <tbody>\n",
       "    <tr>\n",
       "      <th>0</th>\n",
       "      <td>113</td>\n",
       "      <td>新闻推荐|资讯推荐|内容推荐|文本分类|人工分类|自然语言处理|聚类|分类|冷启动</td>\n",
       "    </tr>\n",
       "    <tr>\n",
       "      <th>1</th>\n",
       "      <td>143</td>\n",
       "      <td>网络|睡眠|精神衰弱|声音|人工分类</td>\n",
       "    </tr>\n",
       "    <tr>\n",
       "      <th>2</th>\n",
       "      <td>123</td>\n",
       "      <td>新年愿望|梦想|2018|辞旧迎新</td>\n",
       "    </tr>\n",
       "    <tr>\n",
       "      <th>3</th>\n",
       "      <td>234</td>\n",
       "      <td>父母|肩头|饺子|蔬菜块|青春叛逆期|声音</td>\n",
       "    </tr>\n",
       "    <tr>\n",
       "      <th>4</th>\n",
       "      <td>117</td>\n",
       "      <td>新闻推荐|内容推荐|文本分类|人工分类|自然语言处理|聚类|分类|冷启动</td>\n",
       "    </tr>\n",
       "    <tr>\n",
       "      <th>5</th>\n",
       "      <td>119</td>\n",
       "      <td>新闻推荐|资讯推荐|人工分类|自然语言处理|聚类|分类|冷启动</td>\n",
       "    </tr>\n",
       "    <tr>\n",
       "      <th>6</th>\n",
       "      <td>12</td>\n",
       "      <td>新闻推荐|资讯推荐|内容推荐|文本分类|聚类|分类|冷启动</td>\n",
       "    </tr>\n",
       "    <tr>\n",
       "      <th>7</th>\n",
       "      <td>122</td>\n",
       "      <td>机器学习|新闻推荐|梦想|人工分类|自然语言处理</td>\n",
       "    </tr>\n",
       "  </tbody>\n",
       "</table>\n",
       "</div>"
      ],
      "text/plain": [
       "   user_id                                   keywords\n",
       "0      113  新闻推荐|资讯推荐|内容推荐|文本分类|人工分类|自然语言处理|聚类|分类|冷启动\n",
       "1      143                         网络|睡眠|精神衰弱|声音|人工分类\n",
       "2      123                          新年愿望|梦想|2018|辞旧迎新\n",
       "3      234                      父母|肩头|饺子|蔬菜块|青春叛逆期|声音\n",
       "4      117       新闻推荐|内容推荐|文本分类|人工分类|自然语言处理|聚类|分类|冷启动\n",
       "5      119            新闻推荐|资讯推荐|人工分类|自然语言处理|聚类|分类|冷启动\n",
       "6       12              新闻推荐|资讯推荐|内容推荐|文本分类|聚类|分类|冷启动\n",
       "7      122                   机器学习|新闻推荐|梦想|人工分类|自然语言处理"
      ]
     },
     "execution_count": 47,
     "metadata": {},
     "output_type": "execute_result"
    }
   ],
   "source": [
    "user_keywords"
   ]
  },
  {
   "cell_type": "code",
   "execution_count": 48,
   "metadata": {
    "collapsed": true
   },
   "outputs": [],
   "source": [
    "def date_process(user_item):\n",
    "    \"\"\"user_item is a DataFrame,\n",
    "    只有两列column [user_id, keywords]\n",
    "    1. user_item: user and item information, user_id, keywords, keyword_index\n",
    "    2. user_index: user to index\n",
    "    3. item_index：item to index\n",
    "    \"\"\"\n",
    "    user_item[\"keywords\"] = user_item[\"keywords\"].apply(lambda x: x.split(\"|\"))  #转成列表\n",
    "\n",
    "    keyword_list = []\n",
    "    print(type(user_item[\"keywords\"])) # Series\n",
    "    \n",
    "    for i in user_item[\"keywords\"].values:\n",
    "        keyword_list.extend(i)  # 合并列表, 相同元素未去重  \n",
    "\n",
    "    item_count = pd.DataFrame(pd.Series(keyword_list).value_counts()) # keyword count\n",
    "\n",
    "    item_count['id'] = list(range(0, len(item_count)))  # add index to word_count(话题编号)\n",
    "    \n",
    "    # 将word的id对应起来, 速度太慢\n",
    "    user_item['keyword_index'] = user_item['keywords'].apply(lambda x: list(item_count['id'][x]))\n",
    "    \n",
    "    # create user_index, item_index\n",
    "    # user,item 分别建立索引   \n",
    "    user_index = {v: k for k, v in user_item[\"user_id\"].to_dict().items()}   \n",
    "    item_index = item_count[\"id\"].to_dict()\n",
    "\n",
    "    return user_item, user_index, item_index"
   ]
  },
  {
   "cell_type": "code",
   "execution_count": 49,
   "metadata": {},
   "outputs": [
    {
     "name": "stdout",
     "output_type": "stream",
     "text": [
      "<class 'pandas.core.series.Series'>\n"
     ]
    }
   ],
   "source": [
    "user_keywords, user_index, keyword_index = date_process(user_keywords)"
   ]
  },
  {
   "cell_type": "code",
   "execution_count": 50,
   "metadata": {},
   "outputs": [
    {
     "data": {
      "text/html": [
       "<div>\n",
       "<style scoped>\n",
       "    .dataframe tbody tr th:only-of-type {\n",
       "        vertical-align: middle;\n",
       "    }\n",
       "\n",
       "    .dataframe tbody tr th {\n",
       "        vertical-align: top;\n",
       "    }\n",
       "\n",
       "    .dataframe thead th {\n",
       "        text-align: right;\n",
       "    }\n",
       "</style>\n",
       "<table border=\"1\" class=\"dataframe\">\n",
       "  <thead>\n",
       "    <tr style=\"text-align: right;\">\n",
       "      <th></th>\n",
       "      <th>user_id</th>\n",
       "      <th>keywords</th>\n",
       "      <th>keyword_index</th>\n",
       "    </tr>\n",
       "  </thead>\n",
       "  <tbody>\n",
       "    <tr>\n",
       "      <th>0</th>\n",
       "      <td>113</td>\n",
       "      <td>[新闻推荐, 资讯推荐, 内容推荐, 文本分类, 人工分类, 自然语言处理, 聚类, 分类,...</td>\n",
       "      <td>[0, 6, 7, 8, 1, 3, 4, 5, 2]</td>\n",
       "    </tr>\n",
       "    <tr>\n",
       "      <th>1</th>\n",
       "      <td>143</td>\n",
       "      <td>[网络, 睡眠, 精神衰弱, 声音, 人工分类]</td>\n",
       "      <td>[12, 13, 21, 10, 1]</td>\n",
       "    </tr>\n",
       "    <tr>\n",
       "      <th>2</th>\n",
       "      <td>123</td>\n",
       "      <td>[新年愿望, 梦想, 2018, 辞旧迎新]</td>\n",
       "      <td>[20, 9, 18, 19]</td>\n",
       "    </tr>\n",
       "    <tr>\n",
       "      <th>3</th>\n",
       "      <td>234</td>\n",
       "      <td>[父母, 肩头, 饺子, 蔬菜块, 青春叛逆期, 声音]</td>\n",
       "      <td>[16, 14, 17, 15, 22, 10]</td>\n",
       "    </tr>\n",
       "    <tr>\n",
       "      <th>4</th>\n",
       "      <td>117</td>\n",
       "      <td>[新闻推荐, 内容推荐, 文本分类, 人工分类, 自然语言处理, 聚类, 分类, 冷启动]</td>\n",
       "      <td>[0, 7, 8, 1, 3, 4, 5, 2]</td>\n",
       "    </tr>\n",
       "    <tr>\n",
       "      <th>5</th>\n",
       "      <td>119</td>\n",
       "      <td>[新闻推荐, 资讯推荐, 人工分类, 自然语言处理, 聚类, 分类, 冷启动]</td>\n",
       "      <td>[0, 6, 1, 3, 4, 5, 2]</td>\n",
       "    </tr>\n",
       "    <tr>\n",
       "      <th>6</th>\n",
       "      <td>12</td>\n",
       "      <td>[新闻推荐, 资讯推荐, 内容推荐, 文本分类, 聚类, 分类, 冷启动]</td>\n",
       "      <td>[0, 6, 7, 8, 4, 5, 2]</td>\n",
       "    </tr>\n",
       "    <tr>\n",
       "      <th>7</th>\n",
       "      <td>122</td>\n",
       "      <td>[机器学习, 新闻推荐, 梦想, 人工分类, 自然语言处理]</td>\n",
       "      <td>[11, 0, 9, 1, 3]</td>\n",
       "    </tr>\n",
       "  </tbody>\n",
       "</table>\n",
       "</div>"
      ],
      "text/plain": [
       "   user_id                                           keywords  \\\n",
       "0      113  [新闻推荐, 资讯推荐, 内容推荐, 文本分类, 人工分类, 自然语言处理, 聚类, 分类,...   \n",
       "1      143                           [网络, 睡眠, 精神衰弱, 声音, 人工分类]   \n",
       "2      123                             [新年愿望, 梦想, 2018, 辞旧迎新]   \n",
       "3      234                       [父母, 肩头, 饺子, 蔬菜块, 青春叛逆期, 声音]   \n",
       "4      117      [新闻推荐, 内容推荐, 文本分类, 人工分类, 自然语言处理, 聚类, 分类, 冷启动]   \n",
       "5      119            [新闻推荐, 资讯推荐, 人工分类, 自然语言处理, 聚类, 分类, 冷启动]   \n",
       "6       12              [新闻推荐, 资讯推荐, 内容推荐, 文本分类, 聚类, 分类, 冷启动]   \n",
       "7      122                     [机器学习, 新闻推荐, 梦想, 人工分类, 自然语言处理]   \n",
       "\n",
       "                 keyword_index  \n",
       "0  [0, 6, 7, 8, 1, 3, 4, 5, 2]  \n",
       "1          [12, 13, 21, 10, 1]  \n",
       "2              [20, 9, 18, 19]  \n",
       "3     [16, 14, 17, 15, 22, 10]  \n",
       "4     [0, 7, 8, 1, 3, 4, 5, 2]  \n",
       "5        [0, 6, 1, 3, 4, 5, 2]  \n",
       "6        [0, 6, 7, 8, 4, 5, 2]  \n",
       "7             [11, 0, 9, 1, 3]  "
      ]
     },
     "execution_count": 50,
     "metadata": {},
     "output_type": "execute_result"
    }
   ],
   "source": [
    "user_keywords"
   ]
  },
  {
   "cell_type": "code",
   "execution_count": 52,
   "metadata": {},
   "outputs": [
    {
     "data": {
      "text/plain": [
       "{12: 6, 113: 0, 117: 4, 119: 5, 122: 7, 123: 2, 143: 1, 234: 3}"
      ]
     },
     "execution_count": 52,
     "metadata": {},
     "output_type": "execute_result"
    }
   ],
   "source": [
    "user_index"
   ]
  },
  {
   "cell_type": "code",
   "execution_count": 53,
   "metadata": {
    "scrolled": false
   },
   "outputs": [
    {
     "data": {
      "text/plain": [
       "{'2018': 18,\n",
       " '人工分类': 1,\n",
       " '内容推荐': 7,\n",
       " '冷启动': 2,\n",
       " '分类': 5,\n",
       " '声音': 10,\n",
       " '文本分类': 8,\n",
       " '新年愿望': 20,\n",
       " '新闻推荐': 0,\n",
       " '机器学习': 11,\n",
       " '梦想': 9,\n",
       " '父母': 16,\n",
       " '睡眠': 13,\n",
       " '精神衰弱': 21,\n",
       " '网络': 12,\n",
       " '聚类': 4,\n",
       " '肩头': 14,\n",
       " '自然语言处理': 3,\n",
       " '蔬菜块': 15,\n",
       " '资讯推荐': 6,\n",
       " '辞旧迎新': 19,\n",
       " '青春叛逆期': 22,\n",
       " '饺子': 17}"
      ]
     },
     "execution_count": 53,
     "metadata": {},
     "output_type": "execute_result"
    }
   ],
   "source": [
    "keyword_index"
   ]
  },
  {
   "cell_type": "code",
   "execution_count": 63,
   "metadata": {
    "collapsed": true
   },
   "outputs": [],
   "source": [
    "def doc2tag(x,user_index):\n",
    "    pairs = []\n",
    "    for index in x[\"keyword_index\"]:\n",
    "        pairs.append((user_index[x[\"user_id\"]], index))\n",
    "    return pairs \n",
    "\n",
    "# 获取用户物品索引对 pair(user,item) , 分别对应索引id  \n",
    "u2i_pairs = []\n",
    "tmp = user_keywords.apply(lambda x: doc2tag(x,user_index), axis=1)\n",
    "for i,row in tmp.iteritems():\n",
    "    u2i_pairs.extend(row)  "
   ]
  },
  {
   "cell_type": "code",
   "execution_count": 76,
   "metadata": {
    "scrolled": true
   },
   "outputs": [
    {
     "data": {
      "text/plain": [
       "[(0, 0),\n",
       " (0, 6),\n",
       " (0, 7),\n",
       " (0, 8),\n",
       " (0, 1),\n",
       " (0, 3),\n",
       " (0, 4),\n",
       " (0, 5),\n",
       " (0, 2),\n",
       " (1, 12),\n",
       " (1, 13),\n",
       " (1, 21),\n",
       " (1, 10),\n",
       " (1, 1),\n",
       " (2, 20),\n",
       " (2, 9),\n",
       " (2, 18),\n",
       " (2, 19),\n",
       " (3, 16),\n",
       " (3, 14),\n",
       " (3, 17),\n",
       " (3, 15),\n",
       " (3, 22),\n",
       " (3, 10),\n",
       " (4, 0),\n",
       " (4, 7),\n",
       " (4, 8),\n",
       " (4, 1),\n",
       " (4, 3),\n",
       " (4, 4),\n",
       " (4, 5),\n",
       " (4, 2),\n",
       " (5, 0),\n",
       " (5, 6),\n",
       " (5, 1),\n",
       " (5, 3),\n",
       " (5, 4),\n",
       " (5, 5),\n",
       " (5, 2),\n",
       " (6, 0),\n",
       " (6, 6),\n",
       " (6, 7),\n",
       " (6, 8),\n",
       " (6, 4),\n",
       " (6, 5),\n",
       " (6, 2),\n",
       " (7, 11),\n",
       " (7, 0),\n",
       " (7, 9),\n",
       " (7, 1),\n",
       " (7, 3)]"
      ]
     },
     "execution_count": 76,
     "metadata": {},
     "output_type": "execute_result"
    }
   ],
   "source": [
    "u2i_pairs"
   ]
  },
  {
   "cell_type": "code",
   "execution_count": 88,
   "metadata": {
    "collapsed": true
   },
   "outputs": [],
   "source": [
    "#  建立全连接网络 3 layers, relu 激活函数 \n",
    "def build_embedding_model(embedding_size=50, classification = False):\n",
    "    \"\"\"\n",
    "    根据用户行为相关的item ,if clicked by user\n",
    "    Model to embed users and keywords using the Keras functional API.\n",
    "    \"\"\"\n",
    "    # Both inputs are 1-dimensional\n",
    "    user = tf.keras.Input(name='user', shape=[1])\n",
    "    keyword = tf.keras.Input(name='keyword', shape=[1])\n",
    "\n",
    "    # 50维 \n",
    "    # Embedding the user default: (shape will be (None, 1, 50))\n",
    "    user_embedding = tf.keras.layers.Embedding(name= 'user_embedding',\n",
    "                                               input_dim= len(user_index),\n",
    "                                               output_dim= embedding_size)(user)       #定义user embedding 维度 \n",
    "\n",
    "    # Embedding the keyword default: (shape will be (None, 1, 50))\n",
    "    keyword_embedding = tf.keras.layers.Embedding(name='keyword_embedding',\n",
    "                                                  input_dim=len(keyword_index),\n",
    "                                                  output_dim=embedding_size)(keyword)  #定义keyword embedding 维度 \n",
    "\n",
    "    # Merge the layers with a dot product along the second axis\n",
    "    # (shape will be (None, 1, 1))\n",
    "    merged = tf.keras.layers.Dot(name='dot_product',\n",
    "                                 normalize=True,\n",
    "                                 axes=2) ([user_embedding, keyword_embedding])\n",
    "    \n",
    "    # 1维 \n",
    "    # Reshape to be a single number (shape will be (None, 1))\n",
    "    merged = tf.keras.layers.Reshape(target_shape=[1])(merged)\n",
    "\n",
    "    # Squash outputs for classification\n",
    "    out = tf.keras.layers.Dense(1, activation='sigmoid')(merged)\n",
    "    \n",
    "    # 调用 keras Model处理， NN 神经网络  \n",
    "    model = tf.keras.Model(inputs=[user, keyword],\n",
    "                           outputs=out)\n",
    "    \n",
    "    # 定义梯度损失优化函数 Adam   \n",
    "    # Compile using specified optimizer and loss\n",
    "    model.compile(optimizer='Adam', loss='binary_crossentropy', metrics=['accuracy'])\n",
    "    \n",
    "    return model"
   ]
  },
  {
   "cell_type": "code",
   "execution_count": 89,
   "metadata": {
    "collapsed": true
   },
   "outputs": [],
   "source": [
    "model = build_embedding_model(embedding_size=20, classification=False)   # embedding_size 代表输出向量维度   "
   ]
  },
  {
   "cell_type": "code",
   "execution_count": 173,
   "metadata": {
    "collapsed": true
   },
   "outputs": [],
   "source": [
    "# 样本采样,\n",
    "# 正样本从 观看序列pair中随机选,\n",
    "# 负样本从 从全局序列中随机选;\n",
    "def generate_batch(pairs, n_positive = 50, negative_ratio = 1.0):\n",
    "    \"\"\"\n",
    "    Generate batches of samples for training.\n",
    "    Random select positive samples from pairs \n",
    "    and randomly select negatives.\n",
    "    \"\"\"\n",
    "    # Create empty array to hold batch\n",
    "    batch_size = n_positive * (1 + negative_ratio) # 采样规模   \n",
    "    batch = np.zeros((batch_size, 3))              # 采样存储空array数组   （100*3） \n",
    "\n",
    "    # Continue to yield samples, 迭代器采样  \n",
    "    while True:\n",
    "        # Randomly choose positive examples\n",
    "        # 采样数不能超过 pairs 的个数, 这里pairs的length 是51个  \n",
    "        for idx, (user_id, keyword_id) in enumerate(random.sample(pairs, n_positive)):\n",
    "            batch[idx, :] = (user_id, keyword_id, 1)\n",
    "            idx += 1\n",
    "\n",
    "        # Add negative examples until reach batch size\n",
    "        while idx < batch_size:\n",
    "            # Random selection\n",
    "            random_user = random.randrange(len(user_index))\n",
    "            random_keyword = random.randrange(len(keyword_index))\n",
    "\n",
    "            # print(random_user, random_keyword)\n",
    "            # Check to make sure this is not a positive example\n",
    "            if (random_user, random_keyword) not in pairs:\n",
    "                # Add to batch and increment index\n",
    "                batch[idx, :] = (random_user, random_keyword, 0)\n",
    "                idx += 1\n",
    "\n",
    "        # Make sure to shuffle order\n",
    "        np.random.shuffle(batch)\n",
    "        yield {'user': batch[:, 0], 'keyword': batch[:, 1]}, batch[:, 2]   # 分别表示第 1列、2列、3列 "
   ]
  },
  {
   "cell_type": "code",
   "execution_count": 174,
   "metadata": {
    "collapsed": true
   },
   "outputs": [],
   "source": [
    "n_positive = len(u2i_pairs)\n",
    "# n_positive 正样本采样个数, negative_ratio 正负1:1扩充\n",
    "gen = generate_batch(u2i_pairs, n_positive, negative_ratio=1)  "
   ]
  },
  {
   "cell_type": "code",
   "execution_count": 175,
   "metadata": {},
   "outputs": [
    {
     "data": {
      "text/plain": [
       "generator"
      ]
     },
     "execution_count": 175,
     "metadata": {},
     "output_type": "execute_result"
    }
   ],
   "source": [
    "type(gen)"
   ]
  },
  {
   "cell_type": "code",
   "execution_count": 237,
   "metadata": {
    "scrolled": true
   },
   "outputs": [
    {
     "name": "stdout",
     "output_type": "stream",
     "text": [
      "Train for 1 steps\n",
      "Epoch 1/100\n",
      "1/1 [==============================] - 0s 18ms/step - loss: 0.4197 - accuracy: 0.9608\n",
      "Epoch 2/100\n",
      "1/1 [==============================] - 0s 5ms/step - loss: 0.4418 - accuracy: 0.9412\n",
      "Epoch 3/100\n",
      "1/1 [==============================] - 0s 6ms/step - loss: 0.4415 - accuracy: 0.9314\n",
      "Epoch 4/100\n",
      "1/1 [==============================] - 0s 7ms/step - loss: 0.4342 - accuracy: 0.9216\n",
      "Epoch 5/100\n",
      "1/1 [==============================] - 0s 6ms/step - loss: 0.4385 - accuracy: 0.9412\n",
      "Epoch 6/100\n",
      "1/1 [==============================] - 0s 6ms/step - loss: 0.4486 - accuracy: 0.9314\n",
      "Epoch 7/100\n",
      "1/1 [==============================] - 0s 6ms/step - loss: 0.4747 - accuracy: 0.9020\n",
      "Epoch 8/100\n",
      "1/1 [==============================] - 0s 6ms/step - loss: 0.4243 - accuracy: 0.9804\n",
      "Epoch 9/100\n",
      "1/1 [==============================] - 0s 6ms/step - loss: 0.4496 - accuracy: 0.9510\n",
      "Epoch 10/100\n",
      "1/1 [==============================] - 0s 6ms/step - loss: 0.4413 - accuracy: 0.9510\n",
      "Epoch 11/100\n",
      "1/1 [==============================] - 0s 7ms/step - loss: 0.4472 - accuracy: 0.9412\n",
      "Epoch 12/100\n",
      "1/1 [==============================] - 0s 6ms/step - loss: 0.4543 - accuracy: 0.9314\n",
      "Epoch 13/100\n",
      "1/1 [==============================] - 0s 6ms/step - loss: 0.4464 - accuracy: 0.9412\n",
      "Epoch 14/100\n",
      "1/1 [==============================] - 0s 7ms/step - loss: 0.4548 - accuracy: 0.9216\n",
      "Epoch 15/100\n",
      "1/1 [==============================] - 0s 6ms/step - loss: 0.4507 - accuracy: 0.9216\n",
      "Epoch 16/100\n",
      "1/1 [==============================] - 0s 5ms/step - loss: 0.4327 - accuracy: 0.9706\n",
      "Epoch 17/100\n",
      "1/1 [==============================] - 0s 6ms/step - loss: 0.4498 - accuracy: 0.9412\n",
      "Epoch 18/100\n",
      "1/1 [==============================] - 0s 6ms/step - loss: 0.4478 - accuracy: 0.9216\n",
      "Epoch 19/100\n",
      "1/1 [==============================] - 0s 6ms/step - loss: 0.4421 - accuracy: 0.9412\n",
      "Epoch 20/100\n",
      "1/1 [==============================] - 0s 7ms/step - loss: 0.4415 - accuracy: 0.9314\n",
      "Epoch 21/100\n",
      "1/1 [==============================] - 0s 6ms/step - loss: 0.4440 - accuracy: 0.9510\n",
      "Epoch 22/100\n",
      "1/1 [==============================] - 0s 27ms/step - loss: 0.4379 - accuracy: 0.9608\n",
      "Epoch 23/100\n",
      "1/1 [==============================] - 0s 13ms/step - loss: 0.4489 - accuracy: 0.9314\n",
      "Epoch 24/100\n",
      "1/1 [==============================] - 0s 8ms/step - loss: 0.4651 - accuracy: 0.9020\n",
      "Epoch 25/100\n",
      "1/1 [==============================] - 0s 7ms/step - loss: 0.4474 - accuracy: 0.9412\n",
      "Epoch 26/100\n",
      "1/1 [==============================] - 0s 9ms/step - loss: 0.4555 - accuracy: 0.9412\n",
      "Epoch 27/100\n",
      "1/1 [==============================] - 0s 7ms/step - loss: 0.4400 - accuracy: 0.9510\n",
      "Epoch 28/100\n",
      "1/1 [==============================] - 0s 8ms/step - loss: 0.4224 - accuracy: 0.9706\n",
      "Epoch 29/100\n",
      "1/1 [==============================] - 0s 9ms/step - loss: 0.4257 - accuracy: 0.9608\n",
      "Epoch 30/100\n",
      "1/1 [==============================] - 0s 8ms/step - loss: 0.4144 - accuracy: 0.9608\n",
      "Epoch 31/100\n",
      "1/1 [==============================] - 0s 9ms/step - loss: 0.4390 - accuracy: 0.9412\n",
      "Epoch 32/100\n",
      "1/1 [==============================] - 0s 9ms/step - loss: 0.4330 - accuracy: 0.9608\n",
      "Epoch 33/100\n",
      "1/1 [==============================] - 0s 9ms/step - loss: 0.4504 - accuracy: 0.9118\n",
      "Epoch 34/100\n",
      "1/1 [==============================] - 0s 8ms/step - loss: 0.4572 - accuracy: 0.9412\n",
      "Epoch 35/100\n",
      "1/1 [==============================] - 0s 7ms/step - loss: 0.4579 - accuracy: 0.9412\n",
      "Epoch 36/100\n",
      "1/1 [==============================] - 0s 7ms/step - loss: 0.4505 - accuracy: 0.9412\n",
      "Epoch 37/100\n",
      "1/1 [==============================] - 0s 7ms/step - loss: 0.4429 - accuracy: 0.9412\n",
      "Epoch 38/100\n",
      "1/1 [==============================] - 0s 8ms/step - loss: 0.4496 - accuracy: 0.9216\n",
      "Epoch 39/100\n",
      "1/1 [==============================] - 0s 7ms/step - loss: 0.4417 - accuracy: 0.9412\n",
      "Epoch 40/100\n",
      "1/1 [==============================] - 0s 10ms/step - loss: 0.4268 - accuracy: 0.9412\n",
      "Epoch 41/100\n",
      "1/1 [==============================] - 0s 10ms/step - loss: 0.4436 - accuracy: 0.9412\n",
      "Epoch 42/100\n",
      "1/1 [==============================] - 0s 7ms/step - loss: 0.4185 - accuracy: 0.9706\n",
      "Epoch 43/100\n",
      "1/1 [==============================] - 0s 8ms/step - loss: 0.4416 - accuracy: 0.9510\n",
      "Epoch 44/100\n",
      "1/1 [==============================] - 0s 7ms/step - loss: 0.4144 - accuracy: 0.9510\n",
      "Epoch 45/100\n",
      "1/1 [==============================] - 0s 8ms/step - loss: 0.4220 - accuracy: 0.9510\n",
      "Epoch 46/100\n",
      "1/1 [==============================] - 0s 7ms/step - loss: 0.4237 - accuracy: 0.9510\n",
      "Epoch 47/100\n",
      "1/1 [==============================] - 0s 9ms/step - loss: 0.4140 - accuracy: 0.9706\n",
      "Epoch 48/100\n",
      "1/1 [==============================] - 0s 7ms/step - loss: 0.4278 - accuracy: 0.9608\n",
      "Epoch 49/100\n",
      "1/1 [==============================] - 0s 7ms/step - loss: 0.4190 - accuracy: 0.9608\n",
      "Epoch 50/100\n",
      "1/1 [==============================] - 0s 9ms/step - loss: 0.4319 - accuracy: 0.9412\n",
      "Epoch 51/100\n",
      "1/1 [==============================] - 0s 7ms/step - loss: 0.4161 - accuracy: 0.9804\n",
      "Epoch 52/100\n",
      "1/1 [==============================] - 0s 12ms/step - loss: 0.4097 - accuracy: 0.9510\n",
      "Epoch 53/100\n",
      "1/1 [==============================] - 0s 8ms/step - loss: 0.4319 - accuracy: 0.9510\n",
      "Epoch 54/100\n",
      "1/1 [==============================] - 0s 11ms/step - loss: 0.4183 - accuracy: 0.9608\n",
      "Epoch 55/100\n",
      "1/1 [==============================] - 0s 8ms/step - loss: 0.4265 - accuracy: 0.9510\n",
      "Epoch 56/100\n",
      "1/1 [==============================] - 0s 10ms/step - loss: 0.4656 - accuracy: 0.9020\n",
      "Epoch 57/100\n",
      "1/1 [==============================] - 0s 7ms/step - loss: 0.4346 - accuracy: 0.9314\n",
      "Epoch 58/100\n",
      "1/1 [==============================] - 0s 9ms/step - loss: 0.4455 - accuracy: 0.9020\n",
      "Epoch 59/100\n",
      "1/1 [==============================] - 0s 8ms/step - loss: 0.4318 - accuracy: 0.9216\n",
      "Epoch 60/100\n",
      "1/1 [==============================] - 0s 6ms/step - loss: 0.4342 - accuracy: 0.9314\n",
      "Epoch 61/100\n",
      "1/1 [==============================] - 0s 8ms/step - loss: 0.4422 - accuracy: 0.9314\n",
      "Epoch 62/100\n",
      "1/1 [==============================] - 0s 8ms/step - loss: 0.4421 - accuracy: 0.9314\n",
      "Epoch 63/100\n",
      "1/1 [==============================] - 0s 9ms/step - loss: 0.4400 - accuracy: 0.9020\n",
      "Epoch 64/100\n",
      "1/1 [==============================] - 0s 7ms/step - loss: 0.4317 - accuracy: 0.9412\n",
      "Epoch 65/100\n",
      "1/1 [==============================] - 0s 10ms/step - loss: 0.4264 - accuracy: 0.9216\n",
      "Epoch 66/100\n",
      "1/1 [==============================] - 0s 10ms/step - loss: 0.4289 - accuracy: 0.9314\n",
      "Epoch 67/100\n",
      "1/1 [==============================] - 0s 5ms/step - loss: 0.4105 - accuracy: 0.9412\n",
      "Epoch 68/100\n",
      "1/1 [==============================] - 0s 6ms/step - loss: 0.4263 - accuracy: 0.9314\n",
      "Epoch 69/100\n",
      "1/1 [==============================] - 0s 15ms/step - loss: 0.4274 - accuracy: 0.9412\n",
      "Epoch 70/100\n",
      "1/1 [==============================] - 0s 9ms/step - loss: 0.4444 - accuracy: 0.9020\n",
      "Epoch 71/100\n",
      "1/1 [==============================] - 0s 8ms/step - loss: 0.4085 - accuracy: 0.9608\n",
      "Epoch 72/100\n",
      "1/1 [==============================] - 0s 8ms/step - loss: 0.4167 - accuracy: 0.9608\n",
      "Epoch 73/100\n",
      "1/1 [==============================] - 0s 6ms/step - loss: 0.4187 - accuracy: 0.9510\n",
      "Epoch 74/100\n",
      "1/1 [==============================] - 0s 9ms/step - loss: 0.4241 - accuracy: 0.9412\n",
      "Epoch 75/100\n",
      "1/1 [==============================] - 0s 8ms/step - loss: 0.4214 - accuracy: 0.9510\n",
      "Epoch 76/100\n",
      "1/1 [==============================] - 0s 7ms/step - loss: 0.4254 - accuracy: 0.9314\n",
      "Epoch 77/100\n",
      "1/1 [==============================] - 0s 8ms/step - loss: 0.4140 - accuracy: 0.9412\n",
      "Epoch 78/100\n",
      "1/1 [==============================] - 0s 8ms/step - loss: 0.4081 - accuracy: 0.9510\n",
      "Epoch 79/100\n",
      "1/1 [==============================] - 0s 8ms/step - loss: 0.4318 - accuracy: 0.9118\n",
      "Epoch 80/100\n",
      "1/1 [==============================] - 0s 5ms/step - loss: 0.4225 - accuracy: 0.9510\n",
      "Epoch 81/100\n",
      "1/1 [==============================] - 0s 9ms/step - loss: 0.4184 - accuracy: 0.9118\n",
      "Epoch 82/100\n",
      "1/1 [==============================] - 0s 9ms/step - loss: 0.4182 - accuracy: 0.9314\n",
      "Epoch 83/100\n",
      "1/1 [==============================] - 0s 6ms/step - loss: 0.4181 - accuracy: 0.9412\n",
      "Epoch 84/100\n",
      "1/1 [==============================] - 0s 8ms/step - loss: 0.4253 - accuracy: 0.9314\n"
     ]
    },
    {
     "name": "stdout",
     "output_type": "stream",
     "text": [
      "Epoch 85/100\n",
      "1/1 [==============================] - 0s 7ms/step - loss: 0.4074 - accuracy: 0.9608\n",
      "Epoch 86/100\n",
      "1/1 [==============================] - 0s 6ms/step - loss: 0.4305 - accuracy: 0.9216\n",
      "Epoch 87/100\n",
      "1/1 [==============================] - 0s 7ms/step - loss: 0.3963 - accuracy: 0.9804\n",
      "Epoch 88/100\n",
      "1/1 [==============================] - 0s 5ms/step - loss: 0.4046 - accuracy: 0.9510\n",
      "Epoch 89/100\n",
      "1/1 [==============================] - 0s 7ms/step - loss: 0.4227 - accuracy: 0.9314\n",
      "Epoch 90/100\n",
      "1/1 [==============================] - 0s 8ms/step - loss: 0.4056 - accuracy: 0.9510\n",
      "Epoch 91/100\n",
      "1/1 [==============================] - 0s 7ms/step - loss: 0.4037 - accuracy: 0.9608\n",
      "Epoch 92/100\n",
      "1/1 [==============================] - 0s 8ms/step - loss: 0.4073 - accuracy: 0.9314\n",
      "Epoch 93/100\n",
      "1/1 [==============================] - 0s 10ms/step - loss: 0.4141 - accuracy: 0.9510\n",
      "Epoch 94/100\n",
      "1/1 [==============================] - 0s 7ms/step - loss: 0.4348 - accuracy: 0.9216\n",
      "Epoch 95/100\n",
      "1/1 [==============================] - 0s 7ms/step - loss: 0.4298 - accuracy: 0.9314\n",
      "Epoch 96/100\n",
      "1/1 [==============================] - 0s 7ms/step - loss: 0.4077 - accuracy: 0.9510\n",
      "Epoch 97/100\n",
      "1/1 [==============================] - 0s 7ms/step - loss: 0.4217 - accuracy: 0.9412\n",
      "Epoch 98/100\n",
      "1/1 [==============================] - 0s 11ms/step - loss: 0.4118 - accuracy: 0.9608\n",
      "Epoch 99/100\n",
      "1/1 [==============================] - 0s 8ms/step - loss: 0.4281 - accuracy: 0.9608\n",
      "Epoch 100/100\n",
      "1/1 [==============================] - 0s 9ms/step - loss: 0.3994 - accuracy: 0.9510\n"
     ]
    }
   ],
   "source": [
    "# Train\n",
    "# h = model.fit_generator(gen, epochs=100, steps_per_epoch=len(u2i_pairs) // n_positive)\n",
    "h = model.fit(gen, epochs=100, steps_per_epoch=len(u2i_pairs) // n_positive)"
   ]
  },
  {
   "cell_type": "code",
   "execution_count": 238,
   "metadata": {
    "collapsed": true
   },
   "outputs": [],
   "source": [
    "# Extract user embeddings\n",
    "user_layer = model.get_layer('user_embedding')\n",
    "user_weights = user_layer.get_weights()[0]"
   ]
  },
  {
   "cell_type": "code",
   "execution_count": 239,
   "metadata": {
    "collapsed": true
   },
   "outputs": [],
   "source": [
    "# Extract keyword embeddings \n",
    "keyword_layer = model.get_layer('keyword_embedding')\n",
    "keyword_weights = keyword_layer.get_weights()[0]"
   ]
  },
  {
   "cell_type": "code",
   "execution_count": 240,
   "metadata": {},
   "outputs": [
    {
     "data": {
      "text/plain": [
       "((8, 20), (23, 20))"
      ]
     },
     "execution_count": 240,
     "metadata": {},
     "output_type": "execute_result"
    }
   ],
   "source": [
    "user_weights.shape, keyword_weights.shape  "
   ]
  },
  {
   "cell_type": "code",
   "execution_count": 241,
   "metadata": {},
   "outputs": [
    {
     "name": "stdout",
     "output_type": "stream",
     "text": [
      "[[ 0.01373852 -0.03896543  0.05188741 -0.03775731  0.03921332  0.02138284\n",
      "  -0.02893865  0.03352798  0.04397915  0.01789409 -0.06670225 -0.05283495\n",
      "   0.01538673 -0.04589592  0.00753087  0.03003465 -0.02826022  0.00415429\n",
      "   0.01532844 -0.01147644]]\n"
     ]
    }
   ],
   "source": [
    "# calculate cosine similarity\n",
    "from sklearn.metrics.pairwise import cosine_similarity\n",
    "print(user_weights[0:1])"
   ]
  },
  {
   "cell_type": "code",
   "execution_count": 242,
   "metadata": {
    "collapsed": true
   },
   "outputs": [],
   "source": [
    "#计算第1个用户与其他用户的相似系数\n",
    "cos = cosine_similarity(user_weights[0:1], user_weights)"
   ]
  },
  {
   "cell_type": "code",
   "execution_count": 243,
   "metadata": {},
   "outputs": [
    {
     "data": {
      "text/plain": [
       "array([0, 4, 5, 6])"
      ]
     },
     "execution_count": 243,
     "metadata": {},
     "output_type": "execute_result"
    }
   ],
   "source": [
    "cos[0].argsort()[-4:][::-1]   #返回 与用户索引0 相似度最高的用户索引  "
   ]
  },
  {
   "cell_type": "code",
   "execution_count": 244,
   "metadata": {
    "collapsed": true
   },
   "outputs": [],
   "source": [
    "recommendations = cos[0].argsort()[-4:][::-1]"
   ]
  },
  {
   "cell_type": "code",
   "execution_count": 245,
   "metadata": {},
   "outputs": [
    {
     "data": {
      "text/plain": [
       "array([[ 0.01373852, -0.03896543,  0.05188741, -0.03775731,  0.03921332,\n",
       "         0.02138284, -0.02893865,  0.03352798,  0.04397915,  0.01789409,\n",
       "        -0.06670225, -0.05283495,  0.01538673, -0.04589592,  0.00753087,\n",
       "         0.03003465, -0.02826022,  0.00415429,  0.01532844, -0.01147644],\n",
       "       [ 0.02105081, -0.0066746 , -0.02407867,  0.01500935,  0.00031254,\n",
       "         0.02072864, -0.04965306, -0.05400638, -0.00284901, -0.0409255 ,\n",
       "         0.06225068,  0.01551222, -0.02994212,  0.02446168,  0.01718144,\n",
       "        -0.00716467, -0.02407141,  0.04204397,  0.03827432, -0.03319252],\n",
       "       [-0.06940904,  0.03363803, -0.00022185,  0.03199254, -0.01115363,\n",
       "         0.00972582,  0.0810856 , -0.01900918, -0.06825911, -0.00187628,\n",
       "         0.03253968, -0.02044103, -0.00820967,  0.08004985, -0.01550454,\n",
       "         0.01478857,  0.00324779, -0.03662266, -0.03487774,  0.03863299],\n",
       "       [ 0.03123613,  0.03400426, -0.05857841,  0.02333041, -0.05592834,\n",
       "        -0.0567776 ,  0.00538414,  0.01519828, -0.00506655,  0.00397827,\n",
       "         0.02890565,  0.07759226, -0.00356223, -0.02441981, -0.00655518,\n",
       "        -0.05201107,  0.05671272, -0.00010746, -0.02365116, -0.00873246],\n",
       "       [ 0.01294025, -0.03914597,  0.05183851, -0.03728714,  0.04006523,\n",
       "         0.02264343, -0.03008948,  0.03070568,  0.04301761,  0.01647129,\n",
       "        -0.06442206, -0.0536706 ,  0.01460936, -0.04357259,  0.00812688,\n",
       "         0.03144455, -0.02995749,  0.00514972,  0.01684652, -0.01223008],\n",
       "       [ 0.01687526, -0.04133778,  0.05321881, -0.04110803,  0.04286365,\n",
       "         0.02303736, -0.03557264,  0.03115257,  0.04793185,  0.01715584,\n",
       "        -0.06693073, -0.05425446,  0.01578245, -0.04797599,  0.00935812,\n",
       "         0.03549132, -0.03257877,  0.00724888,  0.02007612, -0.01405607],\n",
       "       [ 0.0151215 , -0.03938194,  0.05257029, -0.03282578,  0.03239762,\n",
       "         0.019757  , -0.02425224,  0.0440099 ,  0.04346508,  0.01955005,\n",
       "        -0.07132514, -0.05490927,  0.01166619, -0.05123476,  0.0075029 ,\n",
       "         0.02014158, -0.02158661,  0.00289731,  0.00853796, -0.01688112],\n",
       "       [-0.03051771, -0.01140264,  0.03165929, -0.04126995,  0.05873492,\n",
       "         0.02593038, -0.0065905 , -0.03396259,  0.00747019,  0.00543708,\n",
       "        -0.01948117, -0.02772765,  0.03129887,  0.02358419, -0.00305827,\n",
       "         0.07168512, -0.0475084 , -0.01125178,  0.02919247,  0.04435425]],\n",
       "      dtype=float32)"
      ]
     },
     "execution_count": 245,
     "metadata": {},
     "output_type": "execute_result"
    }
   ],
   "source": [
    "user_weights"
   ]
  },
  {
   "cell_type": "markdown",
   "metadata": {},
   "source": [
    "### 向量化后的数据可视化"
   ]
  },
  {
   "cell_type": "code",
   "execution_count": 248,
   "metadata": {},
   "outputs": [
    {
     "name": "stdout",
     "output_type": "stream",
     "text": [
      "[[-0.09794105 -0.0126295 ]\n",
      " [ 0.09522699 -0.03807165]\n",
      " [ 0.15871362  0.12327392]\n",
      " [ 0.16515493 -0.12059665]\n",
      " [-0.09694078 -0.01000378]\n",
      " [-0.10745301 -0.0143252 ]\n",
      " [-0.0959713  -0.02308401]\n",
      " [-0.02078942  0.09543683]]\n",
      "[-0.09794105  0.09522699  0.15871362  0.16515493 -0.09694078 -0.10745301\n",
      " -0.0959713  -0.02078942]\n",
      "[-0.0126295  -0.03807165  0.12327392 -0.12059665 -0.01000378 -0.0143252\n",
      " -0.02308401  0.09543683]\n"
     ]
    }
   ],
   "source": [
    "import matplotlib.pyplot as plt\n",
    "from sklearn.decomposition import PCA\n",
    "import seaborn as sns\n",
    "\n",
    "#主成分PCA可视化\n",
    "pca = PCA(n_components=2)\n",
    "pca_result = pca.fit_transform(user_weights)\n",
    "print(pca_result)\n",
    "print(pca_result[:,0])\n",
    "print(pca_result[:,1])"
   ]
  },
  {
   "cell_type": "code",
   "execution_count": 249,
   "metadata": {},
   "outputs": [
    {
     "data": {
      "image/png": "[encoded data removed]",
      "text/plain": [
       "<matplotlib.figure.Figure at 0x1a4105b3c8>"
      ]
     },
     "metadata": {},
     "output_type": "display_data"
    }
   ],
   "source": [
    "import warnings\n",
    "warnings.filterwarnings(\"ignore\")\n",
    "sns.jointplot(x=pca_result[:,0], y=pca_result[:,1])\n",
    "plt.show()  "
   ]
  },
  {
   "cell_type": "code",
   "execution_count": null,
   "metadata": {
    "collapsed": true
   },
   "outputs": [],
   "source": []
  }
 ],
 "metadata": {
  "kernelspec": {
   "display_name": "Python 3",
   "language": "python",
   "name": "python3"
  },
  "language_info": {
   "codemirror_mode": {
    "name": "ipython",
    "version": 3
   },
   "file_extension": ".py",
   "mimetype": "text/x-python",
   "name": "python",
   "nbconvert_exporter": "python",
   "pygments_lexer": "ipython3",
   "version": "3.6.2"
  }
 },
 "nbformat": 4,
 "nbformat_minor": 2
}
