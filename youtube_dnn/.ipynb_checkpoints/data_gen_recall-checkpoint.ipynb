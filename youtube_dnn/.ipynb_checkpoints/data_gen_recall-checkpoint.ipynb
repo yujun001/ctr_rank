{
 "cells": [
  {
   "cell_type": "code",
   "execution_count": 1,
   "metadata": {
    "collapsed": true
   },
   "outputs": [],
   "source": [
    "# -*- coding: utf-8 -*-\n",
    "import random\n",
    "from collections import Counter\n",
    "\n",
    "uid_max = 1242\n",
    "video_id_max = 9999\n",
    "search_id_max = 100000\n",
    "class_id_max = 1200\n",
    "feature_id_max = 80000"
   ]
  },
  {
   "cell_type": "code",
   "execution_count": 2,
   "metadata": {
    "collapsed": true
   },
   "outputs": [],
   "source": [
    "# uid\n",
    "def get_uid():\n",
    "    random_choice_list = [1] * 14 + [2] * 5 + [3]\n",
    "    uid_period = random.choice(random_choice_list)\n",
    "    # 0-199:70%;\n",
    "    if uid_period == 1:\n",
    "        return random.randint(0, 199)\n",
    "    # 200-500:25%;\n",
    "    elif uid_period == 2:\n",
    "        return random.randint(200, 499)\n",
    "    # 500-:5%\n",
    "    return random.randint(500, uid_max)"
   ]
  },
  {
   "cell_type": "code",
   "execution_count": 3,
   "metadata": {
    "collapsed": true
   },
   "outputs": [],
   "source": [
    "# video_id list\n",
    "def get_video_id():\n",
    "    # video：60%出自0-700热门视频\n",
    "    def gen_video():\n",
    "        _random_choice_list = [1] * 3 + [2] * 2\n",
    "        video_period = random.choice(_random_choice_list)\n",
    "        if video_period == 1:\n",
    "            return random.randint(0, 700)\n",
    "        return random.randint(701, video_id_max)\n",
    "\n",
    "    # video数：45-50：80%；5-45：18%；其他2%\n",
    "    def get_video_len():\n",
    "        random_choice_list = [1] * 40 + [2] * 9 + [3]\n",
    "        video_len_period = random.choice(random_choice_list)\n",
    "        if video_len_period == 1:\n",
    "            video_len = random.randint(45, 50)\n",
    "        elif video_len_period == 2:\n",
    "            video_len = random.randint(5, 45)\n",
    "        else:\n",
    "            video_len = random.randint(0, 100)\n",
    "        return video_len\n",
    "\n",
    "    video_list = []\n",
    "    video_len = get_video_len()\n",
    "    for _ in range(video_len):\n",
    "        video_list.append(str(gen_video()))\n",
    "    return list(set(video_list))"
   ]
  },
  {
   "cell_type": "code",
   "execution_count": 4,
   "metadata": {
    "collapsed": true
   },
   "outputs": [],
   "source": [
    "# search_id\n",
    "def get_search_id():\n",
    "    # 前40占搜索的40%，40-100占搜索的40%, 其余20%\n",
    "    def gen_search_id():\n",
    "        random_choice_list = [1] * 2 + [2] * 2 + [3] * 1\n",
    "        search_id_period = random.choice(random_choice_list)\n",
    "        if search_id_period == 1:\n",
    "            search_id = random.randint(0, 40)\n",
    "        elif search_id_period == 2:\n",
    "            search_id = random.randint(41, 100)\n",
    "        else:\n",
    "            search_id = random.randint(100, search_id_max)\n",
    "        return search_id\n",
    "\n",
    "    # search数：0-10：80%；10-50：20%\n",
    "    def gen_search_len():\n",
    "        random_choice_list = [1] * 4 + [2] * 1\n",
    "        search_len_period = random.choice(random_choice_list)\n",
    "        if search_len_period == 1:\n",
    "            search_len = random.randint(0, 10)\n",
    "        else:\n",
    "            search_len = random.randint(11, 50)\n",
    "        return search_len\n",
    "\n",
    "    search_list = []\n",
    "    video_len = gen_search_len()\n",
    "    for _ in range(video_len):\n",
    "        search_list.append(str(gen_search_id()))\n",
    "    return list(set(search_list))"
   ]
  },
  {
   "cell_type": "code",
   "execution_count": 5,
   "metadata": {
    "collapsed": true
   },
   "outputs": [],
   "source": [
    "def get_age():\n",
    "    # 年龄：40岁以上：15%；18-40：75%；0-18：10%\n",
    "    random_choice_list = [1] * 3 + [2] * 15 + [3] * 2\n",
    "    age_period = random.choice(random_choice_list)\n",
    "    if age_period == 1:\n",
    "        return random.randint(40, 100)\n",
    "    elif age_period == 2:\n",
    "        return random.randint(18, 40)\n",
    "    return random.randint(0, 18)"
   ]
  },
  {
   "cell_type": "code",
   "execution_count": 6,
   "metadata": {
    "collapsed": true
   },
   "outputs": [],
   "source": [
    "def get_gender():\n",
    "    # 性别：男（1）：女（2）=9：1\n",
    "    random_choice_list = [1] * 9 + [2]\n",
    "    return random.choice(random_choice_list)"
   ]
  },
  {
   "cell_type": "code",
   "execution_count": 7,
   "metadata": {
    "collapsed": true
   },
   "outputs": [],
   "source": [
    "def get_label(video_id):\n",
    "    # video：0-700热门视频对应的class分布为：0-100占40%；101-500占40%；501-class_id_max占20%\n",
    "    # video：700-9999热门视频对应的class分布为：0-100占30%；101-500占30%；501-class_id_max占40%\n",
    "    def get_class(first, second, third):\n",
    "        random_choice_list = [1] * first + [2] * second + [3] * third\n",
    "        class_period = random.choice(random_choice_list)\n",
    "        if class_period == 1:\n",
    "            return random.randint(0, 100)\n",
    "        elif class_period == 2:\n",
    "            return random.randint(101, 500)\n",
    "        else:\n",
    "            return random.randint(501, class_id_max)\n",
    "\n",
    "    if video_id > 700:\n",
    "        class_id = get_class(2, 2, 1)\n",
    "    else:\n",
    "        class_id = get_class(3, 3, 4)\n",
    "    return class_id"
   ]
  },
  {
   "cell_type": "code",
   "execution_count": 8,
   "metadata": {
    "collapsed": true
   },
   "outputs": [],
   "source": [
    "def gen_feature(has_label=True):\n",
    "    def get_sample(i, has_label=True):\n",
    "        print(i)\n",
    "        uid = get_uid()\n",
    "        video_ids = get_video_id()\n",
    "        search_ids = get_search_id()\n",
    "        age = get_age()\n",
    "        gender = get_gender()\n",
    "        if not has_label:\n",
    "            label_list = [str(get_label(i)) for i in range(video_id_max + 1)]\n",
    "            with open('../data/videoid_videoclass.txt', 'w') as f:\n",
    "                f.writelines(','.join(label_list))\n",
    "        else:\n",
    "            with open('../data/videoid_videoclass.txt', 'r') as f:\n",
    "                label_list = f.readlines()[0].strip().split(',')\n",
    "        if len(video_ids):\n",
    "            count_list = [label_list[int(i)] for i in video_ids]\n",
    "            y_label = Counter(count_list).most_common(1)[0][0]\n",
    "        else:\n",
    "            y_label = random.choice(label_list)\n",
    "        return str(uid) + ',' + '#'.join(video_ids) + ',' + '#'.join(search_ids) + ',' + str(age) + ',' + str(\n",
    "            gender) + ',' + str(y_label)\n",
    "\n",
    "    with open('../data/feature.txt', 'w') as f:\n",
    "        f.writelines('\\n'.join([get_sample(i, has_label) for i in range(feature_id_max+1)]))"
   ]
  },
  {
   "cell_type": "code",
   "execution_count": 11,
   "metadata": {},
   "outputs": [],
   "source": [
    "# if __name__ == '__main__':\n",
    "#     gen_feature(False)"
   ]
  },
  {
   "cell_type": "code",
   "execution_count": 14,
   "metadata": {
    "collapsed": true
   },
   "outputs": [],
   "source": [
    "import numpy as np \n",
    "def list2array(input, dtype='f'):\n",
    "    if dtype == 'f':\n",
    "        return np.array(input, dtype=np.float32)\n",
    "    return np.array(input, dtype=np.int32)"
   ]
  },
  {
   "cell_type": "code",
   "execution_count": 15,
   "metadata": {},
   "outputs": [
    {
     "data": {
      "text/plain": [
       "array([1., 3., 2., 6., 8.], dtype=float32)"
      ]
     },
     "execution_count": 15,
     "metadata": {},
     "output_type": "execute_result"
    }
   ],
   "source": [
    "input = [1,3,2,6,8]\n",
    "list2array(input,dtype='f')"
   ]
  },
  {
   "cell_type": "code",
   "execution_count": null,
   "metadata": {
    "collapsed": true
   },
   "outputs": [],
   "source": []
  }
 ],
 "metadata": {
  "kernelspec": {
   "display_name": "Python 3",
   "language": "python",
   "name": "python3"
  },
  "language_info": {
   "codemirror_mode": {
    "name": "ipython",
    "version": 3
   },
   "file_extension": ".py",
   "mimetype": "text/x-python",
   "name": "python",
   "nbconvert_exporter": "python",
   "pygments_lexer": "ipython3",
   "version": "3.6.2"
  }
 },
 "nbformat": 4,
 "nbformat_minor": 2
}
